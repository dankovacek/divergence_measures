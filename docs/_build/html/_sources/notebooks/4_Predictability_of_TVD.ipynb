{
 "cells": [
  {
   "cell_type": "markdown",
   "id": "c73b371c-a7b9-41c7-9311-ac5ec0cc9080",
   "metadata": {},
   "source": [
    "# Predictability of Total Variation Distance (TVD)\n",
    "\n",
    "ere we make a comparison of runoff between two locations and ask if the **Total Variation Distance** (TVD) of the distribution of unit area runoff between two locations can be predicted from the attributes of both catchments (and their differences). We will again use the gradient boosted decision tree method."
   ]
  },
  {
   "cell_type": "code",
   "execution_count": null,
   "id": "556b8cd2-706a-43a5-bd01-af58b0220cf3",
   "metadata": {},
   "outputs": [],
   "source": []
  },
  {
   "cell_type": "markdown",
   "id": "1f5775b2-3b3c-40f4-845f-ac8bc160035c",
   "metadata": {},
   "source": [
    "## Citations\n",
    "\n",
    "```{bibliography}\n",
    ":filter: docname in docnames\n",
    "```"
   ]
  },
  {
   "cell_type": "code",
   "execution_count": null,
   "id": "ff7dd48d-360c-46f0-ae5e-c29854b303cf",
   "metadata": {},
   "outputs": [],
   "source": []
  }
 ],
 "metadata": {
  "kernelspec": {
   "display_name": "Python 3 (ipykernel)",
   "language": "python",
   "name": "python3"
  },
  "language_info": {
   "codemirror_mode": {
    "name": "ipython",
    "version": 3
   },
   "file_extension": ".py",
   "mimetype": "text/x-python",
   "name": "python",
   "nbconvert_exporter": "python",
   "pygments_lexer": "ipython3",
   "version": "3.10.12"
  }
 },
 "nbformat": 4,
 "nbformat_minor": 5
}
