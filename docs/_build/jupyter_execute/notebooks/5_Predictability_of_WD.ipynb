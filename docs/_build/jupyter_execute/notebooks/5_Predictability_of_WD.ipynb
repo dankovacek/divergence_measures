{
 "cells": [
  {
   "cell_type": "markdown",
   "id": "8bbf3fb3-ca1d-4ab9-b6dd-dcf9ad7917fa",
   "metadata": {},
   "source": [
    "# Predictability of Wasserstein Distance (WD)\n",
    "\n",
    "Here we make yet another comparison of runoff between two locations and ask if the **Wasserstein Distance** (WD) of the distributions of unit area runoff between two locations can be predicted from the attributes of both catchments (and their differences). We will again use the gradient boosted decision tree method."
   ]
  },
  {
   "cell_type": "code",
   "execution_count": null,
   "id": "f1de8512-4206-4bf7-97a3-12e0fbbbe6ee",
   "metadata": {},
   "outputs": [],
   "source": []
  },
  {
   "cell_type": "markdown",
   "id": "b4f2d123-52cd-42c2-8770-51f823c86779",
   "metadata": {},
   "source": [
    "## Citations\n",
    "\n",
    "```{bibliography}\n",
    ":filter: docname in docnames\n",
    "```"
   ]
  },
  {
   "cell_type": "code",
   "execution_count": null,
   "id": "a9bbef2e-1599-4ef1-a095-5adb7d4917a8",
   "metadata": {},
   "outputs": [],
   "source": []
  }
 ],
 "metadata": {
  "kernelspec": {
   "display_name": "Python 3 (ipykernel)",
   "language": "python",
   "name": "python3"
  },
  "language_info": {
   "codemirror_mode": {
    "name": "ipython",
    "version": 3
   },
   "file_extension": ".py",
   "mimetype": "text/x-python",
   "name": "python",
   "nbconvert_exporter": "python",
   "pygments_lexer": "ipython3",
   "version": "3.10.12"
  }
 },
 "nbformat": 4,
 "nbformat_minor": 5
}