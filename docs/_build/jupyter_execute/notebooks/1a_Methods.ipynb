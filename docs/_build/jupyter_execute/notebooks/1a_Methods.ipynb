{
 "cells": [
  {
   "cell_type": "markdown",
   "metadata": {},
   "source": [
    "# Methods\n",
    "\n",
    "Here we define the methods used in this study.  First, we briefly introduce the methods related to data preprocessing, namely:\n",
    "\n",
    "1) the transformations applied to streamflow series which the f-divergence measures are based on, \n",
    "2) the general definition of f-divergence\n",
    "3) definitions of f-divergences compared in this study:\n",
    "    * Kullback-Leibler divergence\n",
    "    * Total Variation distance\n",
    "    * Wasserstein Distance\n",
    "4) background and definitions of ensemble decision trees, and the gradient boosting method used in this study"
   ]
  },
  {
   "cell_type": "code",
   "execution_count": null,
   "metadata": {},
   "outputs": [],
   "source": []
  },
  {
   "cell_type": "markdown",
   "metadata": {},
   "source": [
    "## Citations\n",
    "\n",
    "```{bibliography}\n",
    ":filter: docname in docnames\n",
    "```"
   ]
  }
 ],
 "metadata": {
  "kernelspec": {
   "display_name": "Python 3 (ipykernel)",
   "language": "python",
   "name": "python3"
  },
  "language_info": {
   "codemirror_mode": {
    "name": "ipython",
    "version": 3
   },
   "file_extension": ".py",
   "mimetype": "text/x-python",
   "name": "python",
   "nbconvert_exporter": "python",
   "pygments_lexer": "ipython3",
   "version": "3.10.12"
  },
  "widgets": {
   "application/vnd.jupyter.widget-state+json": {
    "state": {},
    "version_major": 2,
    "version_minor": 0
   }
  }
 },
 "nbformat": 4,
 "nbformat_minor": 4
}