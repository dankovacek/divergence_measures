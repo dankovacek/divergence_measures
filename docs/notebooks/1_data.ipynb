{
 "cells": [
  {
   "cell_type": "markdown",
   "metadata": {},
   "source": [
    "# Data\n",
    "\n",
    "## Introduction\n",
    "\n",
    "```{figure} ../images/figure_1_study_region.png\n",
    "---\n",
    "alt: Study region polygons and HYSETS monitored catchment polygons.\n",
    "name: study-region-fig\n",
    "width: 500px\n",
    "align: center\n",
    "---\n",
    "Study region polygons and WSC + USGS active (green triangles) and historical (yellow triangles) streamflow monitoring stations.  \n",
    "```\n",
    "\n",
    "```{note}\n",
    "Before proceeding with the computations in the notebook, the streamflow time series and (optionally) catchment boundaries from the HYSETS dataset must be downloaded from the [HYSETS open data repository](https://osf.io/rpc3w/).  Some data are provided in the `data/` folder as part of this repository.  Data pre-processing can be skipped by downloading the input data files from (add dataset repository link)\n",
    "```\n",
    "\n",
    "The data used in this study comes from *The Hydrometeorological Sandbox École de Technologie Supérieure* (HYSETS) {cite}`arsenault2020comprehensive`.  The HYSETS data, including streamflow time series and attributes for 14,425 catchments can be accessed at [https://osf.io/rpc3w/](https://osf.io/rpc3w/).  We use a subset of approximately 1620 catchments contained in major basins covering and bounding British Columbia, as shown in {numref}`Figure {number} <study-region-fig>`.  Ten climate indices were processed from [Daymet](https://daymet.ornl.gov/) for this subset, for details see *BCUB - A large sample ungauged basin attribute dataset for British Columbia, Canada* {cite}`kovacek2024bcub` ([https://doi.org/10.5194/essd-2023-508](https://doi.org/10.5194/essd-2023-508)).  \n",
    "\n",
    "\n",
    "For this experiment we use the following files:\n",
    "\n",
    "* **Daily average streamflow time series**: filenames follow the convention `<official_id>.csv`.  These should be downloaded from the open data repository linked above and saved under `data/hysets_streamflow_timeseries/`\n",
    "* **Catchment attributes**: filename: `BCUB_watershed_attributes_updated.csv`.   This file is provided in the `data/` folder, and it was modified from the original file `HYSETS_watershed_properties.txt` in the HYSETS dataset with ten added climate indices as described in {cite}`kovacek2024bcub`."
   ]
  },
  {
   "cell_type": "markdown",
   "metadata": {},
   "source": [
    "## Data pre-processing overview\n",
    "\n",
    "Note that these steps are optional and the end results of these pre-processing steps are provided in the open data repository.\n",
    "\n",
    "### get updated data sources and validate catchment attributes\n",
    "\n",
    "1) Extract catchment attributes using updated catchment geometries where available (optional, updated catchment geometries are saved in `data/BCUB_watershed_bounds_updated.geojson`).\n",
    "2) Process climate indices for HYSETS catchments in the study region (optional, pre-processed attributes are contained in `BCUB_watershed_attributes_updated.csv`)\n"
   ]
  },
  {
   "cell_type": "markdown",
   "metadata": {},
   "source": [
    "\n",
    "### Pre-process streamflow data based on key assumptions\n",
    "3) Define sensitivity test parameters:\n",
    "    * **Bitrate:** the number of quantization levels to encode the streamflow time series $N_s = 2^b$.  This is done to test the sensitivity of the predictive model to information loss.   \n",
    "    * **Prior**: when computing the Kullback-Leibler divergence ($D_{KL} (P||Q) = P \\text{log}\\frac{P}{Q}$), the simulated distribution Q can't contain zero probabilities, in other words we must prevent the model from saying observed states are impossible.  This is achieved by applying a prior distribution to q (the simulated series) in order to avoid division by zero.  The KL divergence is then computed on the posterior $Q'$.\n",
    "    * **Minimum record length:** we set the minimum record length to 1 year in order to see the sensitivity of the model to record length,\n",
    "    * **Record \"completeness\":** a (hydrological) year must be at least 90% complete in terms of daily mean observations.\n",
    "    * **Partial counts**: another approach to incorporating measurement uncertainty is to assign a (relative) error interval around each observation.\n",
    "    \n",
    "### Compute f-divergence measures for catchment pairs\n",
    "The quantization step then computes counts based on the proportion of the error interval covered by each bin.  This has a smoothing effect on the discrete PMF, with an increasing effect as the bitrate (number of bins / quantization levels) increases and bin intervals shrink.  \n",
    "\n",
    "4) Compute the (Shannon) entropy of the streamflow time series for each bitrate and prior.  \n",
    "5) Compute the KL divergence (KLD), Earth Mover's Distance (EMD), and total variation distance (TVD) for each pair of stations meeting the minimum record / minimum concurrency criteria.  "
   ]
  },
  {
   "cell_type": "markdown",
   "metadata": {},
   "source": [
    "## Import HYSETS catchment attributes"
   ]
  },
  {
   "cell_type": "code",
   "execution_count": 1,
   "metadata": {},
   "outputs": [],
   "source": [
    "import os\n",
    "import pandas as pd\n",
    "import numpy as np\n",
    "import geopandas as gpd\n",
    "from shapely.geometry import Point"
   ]
  },
  {
   "cell_type": "code",
   "execution_count": 2,
   "metadata": {},
   "outputs": [],
   "source": [
    "# import the HYSETS attributes data\n",
    "hysets_df = pd.read_csv('data/HYSETS_watershed_properties.txt', sep=';')"
   ]
  },
  {
   "cell_type": "markdown",
   "metadata": {},
   "source": [
    "### Import the study region polygons"
   ]
  },
  {
   "cell_type": "code",
   "execution_count": 3,
   "metadata": {},
   "outputs": [],
   "source": [
    "# import the BCUB (study) region boundary\n",
    "region_gdf = gpd.read_file('data/BCUB_regions_4326.geojson')\n",
    "region_gdf = region_gdf.to_crs(3005)\n",
    "# simplify the geometries (100m threshold) and add a small buffer (250m) \n",
    "# to capture HYSETS station points recorded with low accuracy near boundaries\n",
    "region_gdf.geometry = region_gdf.simplify(100).buffer(500)\n",
    "region_gdf = region_gdf.to_crs(4326)"
   ]
  },
  {
   "cell_type": "code",
   "execution_count": 4,
   "metadata": {},
   "outputs": [
    {
     "data": {
      "text/html": [
       "<div>\n",
       "<style scoped>\n",
       "    .dataframe tbody tr th:only-of-type {\n",
       "        vertical-align: middle;\n",
       "    }\n",
       "\n",
       "    .dataframe tbody tr th {\n",
       "        vertical-align: top;\n",
       "    }\n",
       "\n",
       "    .dataframe thead th {\n",
       "        text-align: right;\n",
       "    }\n",
       "</style>\n",
       "<table border=\"1\" class=\"dataframe\">\n",
       "  <thead>\n",
       "    <tr style=\"text-align: right;\">\n",
       "      <th></th>\n",
       "      <th>Watershed_ID</th>\n",
       "      <th>Source</th>\n",
       "      <th>Name</th>\n",
       "      <th>Official_ID</th>\n",
       "      <th>Centroid_Lat_deg_N</th>\n",
       "      <th>Centroid_Lon_deg_E</th>\n",
       "      <th>Drainage_Area_km2</th>\n",
       "      <th>Drainage_Area_GSIM_km2</th>\n",
       "      <th>Flag_GSIM_boundaries</th>\n",
       "      <th>Flag_Artificial_Boundaries</th>\n",
       "      <th>...</th>\n",
       "      <th>Land_Use_Water_frac</th>\n",
       "      <th>Land_Use_Urban_frac</th>\n",
       "      <th>Land_Use_Shrubs_frac</th>\n",
       "      <th>Land_Use_Crops_frac</th>\n",
       "      <th>Land_Use_Snow_Ice_frac</th>\n",
       "      <th>Flag_Land_Use_Extraction</th>\n",
       "      <th>Permeability_logk_m2</th>\n",
       "      <th>Porosity_frac</th>\n",
       "      <th>Flag_Subsoil_Extraction</th>\n",
       "      <th>geometry</th>\n",
       "    </tr>\n",
       "  </thead>\n",
       "  <tbody>\n",
       "    <tr>\n",
       "      <th>0</th>\n",
       "      <td>1</td>\n",
       "      <td>HYDAT</td>\n",
       "      <td>SAINT JOHN RIVER AT FORT KENT</td>\n",
       "      <td>01AD002</td>\n",
       "      <td>47.25806</td>\n",
       "      <td>-68.59583</td>\n",
       "      <td>14703.9211</td>\n",
       "      <td>NaN</td>\n",
       "      <td>0</td>\n",
       "      <td>0</td>\n",
       "      <td>...</td>\n",
       "      <td>0.0258</td>\n",
       "      <td>0.0089</td>\n",
       "      <td>0.0749</td>\n",
       "      <td>0.0242</td>\n",
       "      <td>0.0</td>\n",
       "      <td>1</td>\n",
       "      <td>-14.719327</td>\n",
       "      <td>0.180905</td>\n",
       "      <td>1</td>\n",
       "      <td>POINT (-68.59583 47.25806)</td>\n",
       "    </tr>\n",
       "    <tr>\n",
       "      <th>1</th>\n",
       "      <td>2</td>\n",
       "      <td>HYDAT</td>\n",
       "      <td>ST. FRANCIS RIVER AT OUTLET OF GLASIER LAKE</td>\n",
       "      <td>01AD003</td>\n",
       "      <td>47.20661</td>\n",
       "      <td>-68.95694</td>\n",
       "      <td>1358.6435</td>\n",
       "      <td>NaN</td>\n",
       "      <td>0</td>\n",
       "      <td>0</td>\n",
       "      <td>...</td>\n",
       "      <td>0.0219</td>\n",
       "      <td>0.0174</td>\n",
       "      <td>0.0410</td>\n",
       "      <td>0.0414</td>\n",
       "      <td>0.0</td>\n",
       "      <td>1</td>\n",
       "      <td>-14.056491</td>\n",
       "      <td>0.206450</td>\n",
       "      <td>1</td>\n",
       "      <td>POINT (-68.95694 47.20661)</td>\n",
       "    </tr>\n",
       "    <tr>\n",
       "      <th>2</th>\n",
       "      <td>3</td>\n",
       "      <td>HYDAT</td>\n",
       "      <td>MADAWASKA (RIVIERE) A 6 KM EN AVAL DU BARRAGE ...</td>\n",
       "      <td>01AD015</td>\n",
       "      <td>47.53850</td>\n",
       "      <td>-68.59180</td>\n",
       "      <td>2712.0000</td>\n",
       "      <td>2693.814</td>\n",
       "      <td>1</td>\n",
       "      <td>0</td>\n",
       "      <td>...</td>\n",
       "      <td>0.0487</td>\n",
       "      <td>0.0230</td>\n",
       "      <td>0.0351</td>\n",
       "      <td>0.0600</td>\n",
       "      <td>0.0</td>\n",
       "      <td>1</td>\n",
       "      <td>-14.537390</td>\n",
       "      <td>0.165357</td>\n",
       "      <td>1</td>\n",
       "      <td>POINT (-68.5918 47.5385)</td>\n",
       "    </tr>\n",
       "    <tr>\n",
       "      <th>3</th>\n",
       "      <td>4</td>\n",
       "      <td>HYDAT</td>\n",
       "      <td>FISH RIVER NEAR FORT KENT</td>\n",
       "      <td>01AE001</td>\n",
       "      <td>47.23750</td>\n",
       "      <td>-68.58278</td>\n",
       "      <td>2245.7638</td>\n",
       "      <td>NaN</td>\n",
       "      <td>0</td>\n",
       "      <td>0</td>\n",
       "      <td>...</td>\n",
       "      <td>0.0630</td>\n",
       "      <td>0.0115</td>\n",
       "      <td>0.0641</td>\n",
       "      <td>0.0528</td>\n",
       "      <td>0.0</td>\n",
       "      <td>1</td>\n",
       "      <td>-14.687869</td>\n",
       "      <td>0.170597</td>\n",
       "      <td>1</td>\n",
       "      <td>POINT (-68.58278 47.2375)</td>\n",
       "    </tr>\n",
       "  </tbody>\n",
       "</table>\n",
       "<p>4 rows × 30 columns</p>\n",
       "</div>"
      ],
      "text/plain": [
       "   Watershed_ID Source                                               Name  \\\n",
       "0             1  HYDAT                      SAINT JOHN RIVER AT FORT KENT   \n",
       "1             2  HYDAT        ST. FRANCIS RIVER AT OUTLET OF GLASIER LAKE   \n",
       "2             3  HYDAT  MADAWASKA (RIVIERE) A 6 KM EN AVAL DU BARRAGE ...   \n",
       "3             4  HYDAT                          FISH RIVER NEAR FORT KENT   \n",
       "\n",
       "  Official_ID  Centroid_Lat_deg_N  Centroid_Lon_deg_E  Drainage_Area_km2  \\\n",
       "0     01AD002            47.25806           -68.59583         14703.9211   \n",
       "1     01AD003            47.20661           -68.95694          1358.6435   \n",
       "2     01AD015            47.53850           -68.59180          2712.0000   \n",
       "3     01AE001            47.23750           -68.58278          2245.7638   \n",
       "\n",
       "   Drainage_Area_GSIM_km2  Flag_GSIM_boundaries  Flag_Artificial_Boundaries  \\\n",
       "0                     NaN                     0                           0   \n",
       "1                     NaN                     0                           0   \n",
       "2                2693.814                     1                           0   \n",
       "3                     NaN                     0                           0   \n",
       "\n",
       "   ...  Land_Use_Water_frac  Land_Use_Urban_frac  Land_Use_Shrubs_frac  \\\n",
       "0  ...               0.0258               0.0089                0.0749   \n",
       "1  ...               0.0219               0.0174                0.0410   \n",
       "2  ...               0.0487               0.0230                0.0351   \n",
       "3  ...               0.0630               0.0115                0.0641   \n",
       "\n",
       "   Land_Use_Crops_frac  Land_Use_Snow_Ice_frac  Flag_Land_Use_Extraction  \\\n",
       "0               0.0242                     0.0                         1   \n",
       "1               0.0414                     0.0                         1   \n",
       "2               0.0600                     0.0                         1   \n",
       "3               0.0528                     0.0                         1   \n",
       "\n",
       "   Permeability_logk_m2  Porosity_frac  Flag_Subsoil_Extraction  \\\n",
       "0            -14.719327       0.180905                        1   \n",
       "1            -14.056491       0.206450                        1   \n",
       "2            -14.537390       0.165357                        1   \n",
       "3            -14.687869       0.170597                        1   \n",
       "\n",
       "                     geometry  \n",
       "0  POINT (-68.59583 47.25806)  \n",
       "1  POINT (-68.95694 47.20661)  \n",
       "2    POINT (-68.5918 47.5385)  \n",
       "3   POINT (-68.58278 47.2375)  \n",
       "\n",
       "[4 rows x 30 columns]"
      ]
     },
     "execution_count": 4,
     "metadata": {},
     "output_type": "execute_result"
    }
   ],
   "source": [
    "# get the stations contained in the study region\n",
    "centroids = hysets_df.apply(lambda x: Point(x['Centroid_Lon_deg_E'], x['Centroid_Lat_deg_N']), axis=1)\n",
    "hysets_gdf = gpd.GeoDataFrame(hysets_df, geometry=centroids, crs='EPSG:4326')\n",
    "hysets_gdf.head(4)"
   ]
  },
  {
   "cell_type": "markdown",
   "metadata": {},
   "source": [
    "### Find the stations within the study region"
   ]
  },
  {
   "cell_type": "code",
   "execution_count": 5,
   "metadata": {},
   "outputs": [
    {
     "name": "stdout",
     "output_type": "stream",
     "text": [
      "1617 1616\n"
     ]
    }
   ],
   "source": [
    "assert hysets_gdf.crs == region_gdf.crs\n",
    "\n",
    "bcub_gdf = gpd.sjoin(hysets_gdf, region_gdf, how='inner', predicate='intersects')\n",
    "print(len(bcub_gdf), len(set(bcub_gdf['Official_ID'])))\n",
    "\n",
    "# Because of the buffer (to capture stations along the coast), \n",
    "# there's a duplicated 08GA065 that should be in 08G\n",
    "bcub_gdf = bcub_gdf.drop_duplicates(subset=['Official_ID'])"
   ]
  },
  {
   "cell_type": "code",
   "execution_count": 9,
   "metadata": {},
   "outputs": [
    {
     "data": {
      "text/plain": [
       "Index(['Watershed_ID', 'Source', 'Name', 'Official_ID', 'Centroid_Lat_deg_N',\n",
       "       'Centroid_Lon_deg_E', 'Drainage_Area_km2', 'Drainage_Area_GSIM_km2',\n",
       "       'Flag_GSIM_boundaries', 'Flag_Artificial_Boundaries', 'Elevation_m',\n",
       "       'Slope_deg', 'Gravelius', 'Perimeter', 'Flag_Shape_Extraction',\n",
       "       'Aspect_deg', 'Flag_Terrain_Extraction', 'Land_Use_Forest_frac',\n",
       "       'Land_Use_Grass_frac', 'Land_Use_Wetland_frac', 'Land_Use_Water_frac',\n",
       "       'Land_Use_Urban_frac', 'Land_Use_Shrubs_frac', 'Land_Use_Crops_frac',\n",
       "       'Land_Use_Snow_Ice_frac', 'Flag_Land_Use_Extraction',\n",
       "       'Permeability_logk_m2', 'Porosity_frac', 'Flag_Subsoil_Extraction',\n",
       "       'geometry', 'index_right', 'region_code'],\n",
       "      dtype='object')"
      ]
     },
     "execution_count": 9,
     "metadata": {},
     "output_type": "execute_result"
    }
   ],
   "source": [
    "bcub_gdf.columns"
   ]
  },
  {
   "cell_type": "code",
   "execution_count": 12,
   "metadata": {},
   "outputs": [
    {
     "name": "stdout",
     "output_type": "stream",
     "text": [
      "1618 unique monitored catchments in the dataset\n"
     ]
    }
   ],
   "source": [
    "# add in two stations in the far north just outside the study region but \n",
    "# important to include since the northern region is so sparsely monitored\n",
    "to_include = ['10ED002', '09AG003']\n",
    "added_stns = hysets_df[hysets_df['Official_ID'].isin(to_include)]\n",
    "added_centroids = added_stns.apply(lambda x: Point(x['Centroid_Lon_deg_E'], x['Centroid_Lat_deg_N']), axis=1)\n",
    "added_gdf = gpd.GeoDataFrame(added_stns, geometry=added_centroids, crs='EPSG:4326')\n",
    "bcub_gdf = gpd.GeoDataFrame(pd.concat([bcub_gdf, added_gdf]), crs='4326')\n",
    "bcub_gdf.loc[bcub_gdf['Official_ID'] == '10ED002', 'region_code'] = '10E'\n",
    "bcub_gdf.loc[bcub_gdf['Official_ID'] == '09AG003', 'region_code'] = 'YKR'\n",
    "bcub_gdf.to_file('data/study_region_stations.geojson')\n",
    "\n",
    "# get the number of unique stations in the dataset\n",
    "unique_stations = np.unique(bcub_gdf['Official_ID'])\n",
    "print(f'{len(unique_stations)} unique monitored catchments in the dataset')"
   ]
  },
  {
   "cell_type": "markdown",
   "metadata": {},
   "source": [
    "### Remove excluded stations\n",
    "\n",
    "Catchments without geometry published by official sources (WSC, USGS) are validated in the next chapter.  The following stations are excluded because they could not be "
   ]
  },
  {
   "cell_type": "code",
   "execution_count": null,
   "metadata": {},
   "outputs": [],
   "source": [
    "excluded_stns = ['']"
   ]
  },
  {
   "cell_type": "code",
   "execution_count": null,
   "metadata": {},
   "outputs": [],
   "source": [
    "# visualize the locations (centroids) of the catchments\n",
    "# convert to geodataframe\n",
    "# convert coordinate reference system to 3857 for plotting\n",
    "gdf = bcub_gdf.copy().to_crs(3857)\n",
    "bbox = gdf.geometry.total_bounds"
   ]
  },
  {
   "cell_type": "code",
   "execution_count": null,
   "metadata": {},
   "outputs": [],
   "source": [
    "# visualize the catchment centroid locations\n",
    "from bokeh.plotting import figure, show\n",
    "from bokeh.io import output_notebook\n",
    "from bokeh.palettes import Colorblind, Sunset10\n",
    "output_notebook()\n",
    "\n",
    "# range bounds supplied in web mercator coordinates\n",
    "p = figure(x_axis_type=\"mercator\", y_axis_type=\"mercator\", width=700, height=400,\n",
    "          x_range=(bbox[0], bbox[2]), y_range=(bbox[1], bbox[3]))\n",
    "p.add_tile(\"CartoDB Positron\", retina=True)\n",
    "p.scatter(x=gdf.geometry.x, y=gdf.geometry.y, color='orange', size=4)\n",
    "\n",
    "show(p)"
   ]
  },
  {
   "cell_type": "markdown",
   "metadata": {},
   "source": [
    "## Import streamflow timeseries\n",
    "\n",
    "\n",
    "```{note}\n",
    "At the top of `data_processing_functions.py`, update the `STREAMFLOW_DIR` variable to match where the HYSETS streamflow time series are stored.  \n",
    "```\n"
   ]
  },
  {
   "cell_type": "code",
   "execution_count": null,
   "metadata": {},
   "outputs": [],
   "source": [
    "import data_processing_functions as dpf"
   ]
  },
  {
   "cell_type": "code",
   "execution_count": null,
   "metadata": {},
   "outputs": [],
   "source": [
    "# test loading streamflow time series for a pair of monitoring stations\n",
    "s1, s2 = unique_stations[0], unique_stations[1]\n",
    "\n",
    "test_df = dpf.retrieve_nonconcurrent_data(s1, s2)\n",
    "flow_fig = figure(width=700, height=350, x_axis_type='datetime')\n",
    "flow_fig.line(test_df.index, test_df[unique_stations[0]], color='navy', legend_label=unique_stations[0])\n",
    "flow_fig.line(test_df.index, test_df[unique_stations[1]], color='dodgerblue', legend_label=unique_stations[1])\n",
    "flow_fig.yaxis.axis_label = r'$$\\text{Flow } \\frac{m^3}{s}$$'\n",
    "flow_fig.xaxis.axis_label = r'$$\\text{Date}$$'\n",
    "show(flow_fig)"
   ]
  },
  {
   "cell_type": "markdown",
   "metadata": {},
   "source": [
    "## Next steps\n",
    "\n",
    "In the subsequent chapters, the monitoring network station catchments are updated, and the catchment attributes are re-extracted and compared against the HYSETS values.  The target variables are then derived from the streamflow time series before training the gradient boosting models to test their predictability from catchment attributes."
   ]
  },
  {
   "cell_type": "markdown",
   "metadata": {},
   "source": [
    "## Citations\n",
    "\n",
    "```{bibliography}\n",
    ":filter: docname in docnames\n",
    "```"
   ]
  }
 ],
 "metadata": {
  "kernelspec": {
   "display_name": "Python 3 (ipykernel)",
   "language": "python",
   "name": "python3"
  },
  "language_info": {
   "codemirror_mode": {
    "name": "ipython",
    "version": 3
   },
   "file_extension": ".py",
   "mimetype": "text/x-python",
   "name": "python",
   "nbconvert_exporter": "python",
   "pygments_lexer": "ipython3",
   "version": "3.10.12"
  },
  "widgets": {
   "application/vnd.jupyter.widget-state+json": {
    "state": {},
    "version_major": 2,
    "version_minor": 0
   }
  }
 },
 "nbformat": 4,
 "nbformat_minor": 4
}
