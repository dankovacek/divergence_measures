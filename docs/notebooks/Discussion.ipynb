{
 "cells": [
  {
   "cell_type": "markdown",
   "metadata": {},
   "source": [
    "# Discussion\n",
    "\n",
    "Discussion of results:\n",
    "\n",
    "- interpretation of sensitivity to assumptions\n",
    "- shortcomings of methods\n",
    "- going forward\n",
    "\n",
    "\n"
   ]
  },
  {
   "cell_type": "markdown",
   "metadata": {},
   "source": [
    "### Experimental setup\n",
    "\n",
    "The decision of where to place sensors to optimize the monitoring of a random field relies on estimating a function $\\gamma$ that maps a d-dimensional covariate vector $X$ to some label or value $Y$ that must be consistently predictable in order to make decisions.  Estimating the discriminant function $\\gamma$ that predicts $Y$ is one part of the problem.  The other part of the problem is to determine a suitable (convex) loss function such that empirical risk minimization procedures such as support vector machines and gradient boosting can be applied.  {cite}`nguyen2009surrogate` describes the relationship between surrogate loss functions and another class of functions called f-divergences.\n",
    " \n",
    "In the case of the streamflow monitoring network, the goal is to maximize the information that the total monitoring network captures about the total unmonitored space. Stated differently, the aim is to determine the set of streamflow monitoring locations that yields the greatest reduction in uncertainty over the total space.  The total space is defined as any location in a river network that can be monitored, and we represent this space by the set of confluences of a river network over a regional/continental scale.  The baseline for estimating the reduction in uncertainty is, maximum uncertainty, the uniform distribution.  Examples of discriminant-loss function pairs $\\gamma \\rightarrow \\ell$ include:\n",
    "\n",
    "\n",
    "* $\\gamma$ predict streamflow at unmonitored locations using a parameterized rainfall runoff model with:\n",
    "    * $\\ell$: SSE, MAE, MSE, NSE, KGE, etc.\n",
    "* $\\gamma$\n",
    "\n",
    "The discriminant function is the mapping of inputs to scalar valued outputs such that a loss can be computed.  In the optimial sensor network problem, each possible monitoring location is evaluated for its potential to reduce uncertainty at all other unmonitored locations.  A (proxy) location is evaluated for its utility in reducing uncertainty at another (target) location by a model which takes in a d-dimensional covariate vector of catchment attributes $\\mathbb{X}$ describing both the proxy and target locations, and a .\n",
    "\n",
    "## Binary Classification\n",
    "\n",
    "{cite}`nguyen2009surrogate` describes the general binary classification problem as finding a discriminant function to predict $\\mathcal{Y} = \\{ -1, +1 \\}$ from a covariate vector $\\mathcal{X}$ given a sample of observations $\\{(X_1, Y_1), \\dots, (X_n, Y_n)\\}$, $(X, Y) \\in (\\mathcal{X}, \\mathcal{Y})$. The aim of the binary classification problem is to minimize the expectation of the 0-1 loss $\\mathbb{P}(Y \\neq \\text{sign}(\\gamma (X)))$ where the notation $\\text{sign}(\\alpha) = 1 \\text{ if } \\alpha > 0 \\text{ else } -1$ follows {cite}`nguyen2009surrogate`.\n",
    "\n",
    "\n",
    "The goal is to minimize the risk of bad predictions, and the problem is to simultaneously determine both the mapping $\\mathbf{C}$ of continous streamflow $\\mathbf{S}$ to a discrete set of state symbols $\\mathbf{Z}$\n",
    "\n",
    "The goal is to miminize the (Bayes) error $R_{\\textbf{Bayes}}(\\gamma, C) := \\mathbb{P} \\left(Y \\neq \\text{sign}(D_{KL}(\\mathbf{P}||\\mathbb{U}) - D_{KL}(\\mathbf{P}||\\mathbf{Q}) \\right)$"
   ]
  },
  {
   "cell_type": "markdown",
   "metadata": {},
   "source": [
    "## Citations\n",
    "\n",
    "```{bibliography}\n",
    ":filter: docname in docnames\n",
    "```"
   ]
  }
 ],
 "metadata": {
  "kernelspec": {
   "display_name": "Python 3 (ipykernel)",
   "language": "python",
   "name": "python3"
  },
  "language_info": {
   "codemirror_mode": {
    "name": "ipython",
    "version": 3
   },
   "file_extension": ".py",
   "mimetype": "text/x-python",
   "name": "python",
   "nbconvert_exporter": "python",
   "pygments_lexer": "ipython3",
   "version": "3.10.12"
  },
  "widgets": {
   "application/vnd.jupyter.widget-state+json": {
    "state": {},
    "version_major": 2,
    "version_minor": 0
   }
  }
 },
 "nbformat": 4,
 "nbformat_minor": 4
}
