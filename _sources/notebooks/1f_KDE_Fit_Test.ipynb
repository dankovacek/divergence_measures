{
 "cells": [
  {
   "cell_type": "code",
   "execution_count": 1,
   "id": "8cf7cb74-1b3a-448d-be6e-50656934d17d",
   "metadata": {},
   "outputs": [
    {
     "data": {
      "text/html": [
       "    <style>\n",
       "        .bk-notebook-logo {\n",
       "            display: block;\n",
       "            width: 20px;\n",
       "            height: 20px;\n",
       "            background-image: url(data:image/png;base64,iVBORw0KGgoAAAANSUhEUgAAABQAAAAUCAYAAACNiR0NAAAABHNCSVQICAgIfAhkiAAAAAlwSFlzAAALEgAACxIB0t1+/AAAABx0RVh0U29mdHdhcmUAQWRvYmUgRmlyZXdvcmtzIENTNui8sowAAAOkSURBVDiNjZRtaJVlGMd/1/08zzln5zjP1LWcU9N0NkN8m2CYjpgQYQXqSs0I84OLIC0hkEKoPtiH3gmKoiJDU7QpLgoLjLIQCpEsNJ1vqUOdO7ppbuec5+V+rj4ctwzd8IIbbi6u+8f1539dt3A78eXC7QizUF7gyV1fD1Yqg4JWz84yffhm0qkFqBogB9rM8tZdtwVsPUhWhGcFJngGeWrPzHm5oaMmkfEg1usvLFyc8jLRqDOMru7AyC8saQr7GG7f5fvDeH7Ej8CM66nIF+8yngt6HWaKh7k49Soy9nXurCi1o3qUbS3zWfrYeQDTB/Qj6kX6Ybhw4B+bOYoLKCC9H3Nu/leUTZ1JdRWkkn2ldcCamzrcf47KKXdAJllSlxAOkRgyHsGC/zRday5Qld9DyoM4/q/rUoy/CXh3jzOu3bHUVZeU+DEn8FInkPBFlu3+nW3Nw0mk6vCDiWg8CeJaxEwuHS3+z5RgY+YBR6V1Z1nxSOfoaPa4LASWxxdNp+VWTk7+4vzaou8v8PN+xo+KY2xsw6une2frhw05CTYOmQvsEhjhWjn0bmXPjpE1+kplmmkP3suftwTubK9Vq22qKmrBhpY4jvd5afdRA3wGjFAgcnTK2s4hY0/GPNIb0nErGMCRxWOOX64Z8RAC4oCXdklmEvcL8o0BfkNK4lUg9HTl+oPlQxdNo3Mg4Nv175e/1LDGzZen30MEjRUtmXSfiTVu1kK8W4txyV6BMKlbgk3lMwYCiusNy9fVfvvwMxv8Ynl6vxoByANLTWplvuj/nF9m2+PDtt1eiHPBr1oIfhCChQMBw6Aw0UulqTKZdfVvfG7VcfIqLG9bcldL/+pdWTLxLUy8Qq38heUIjh4XlzZxzQm19lLFlr8vdQ97rjZVOLf8nclzckbcD4wxXMidpX30sFd37Fv/GtwwhzhxGVAprjbg0gCAEeIgwCZyTV2Z1REEW8O4py0wsjeloKoMr6iCY6dP92H6Vw/oTyICIthibxjm/DfN9lVz8IqtqKYLUXfoKVMVQVVJOElGjrnnUt9T9wbgp8AyYKaGlqingHZU/uG2NTZSVqwHQTWkx9hxjkpWDaCg6Ckj5qebgBVbT3V3NNXMSiWSDdGV3hrtzla7J+duwPOToIg42ChPQOQjspnSlp1V+Gjdged7+8UN5CRAV7a5EdFNwCjEaBR27b3W890TE7g24NAP/mMDXRWrGoFPQI9ls/MWO2dWFAar/xcOIImbbpA3zgAAAABJRU5ErkJggg==);\n",
       "        }\n",
       "    </style>\n",
       "    <div>\n",
       "        <a href=\"https://bokeh.org\" target=\"_blank\" class=\"bk-notebook-logo\"></a>\n",
       "        <span id=\"c96c8e67-4a65-4ec3-a5c7-11fac38d9949\">Loading BokehJS ...</span>\n",
       "    </div>\n"
      ]
     },
     "metadata": {},
     "output_type": "display_data"
    },
    {
     "data": {
      "application/javascript": [
       "'use strict';\n",
       "(function(root) {\n",
       "  function now() {\n",
       "    return new Date();\n",
       "  }\n",
       "\n",
       "  const force = true;\n",
       "\n",
       "  if (typeof root._bokeh_onload_callbacks === \"undefined\" || force === true) {\n",
       "    root._bokeh_onload_callbacks = [];\n",
       "    root._bokeh_is_loading = undefined;\n",
       "  }\n",
       "\n",
       "const JS_MIME_TYPE = 'application/javascript';\n",
       "  const HTML_MIME_TYPE = 'text/html';\n",
       "  const EXEC_MIME_TYPE = 'application/vnd.bokehjs_exec.v0+json';\n",
       "  const CLASS_NAME = 'output_bokeh rendered_html';\n",
       "\n",
       "  /**\n",
       "   * Render data to the DOM node\n",
       "   */\n",
       "  function render(props, node) {\n",
       "    const script = document.createElement(\"script\");\n",
       "    node.appendChild(script);\n",
       "  }\n",
       "\n",
       "  /**\n",
       "   * Handle when an output is cleared or removed\n",
       "   */\n",
       "  function handleClearOutput(event, handle) {\n",
       "    function drop(id) {\n",
       "      const view = Bokeh.index.get_by_id(id)\n",
       "      if (view != null) {\n",
       "        view.model.document.clear()\n",
       "        Bokeh.index.delete(view)\n",
       "      }\n",
       "    }\n",
       "\n",
       "    const cell = handle.cell;\n",
       "\n",
       "    const id = cell.output_area._bokeh_element_id;\n",
       "    const server_id = cell.output_area._bokeh_server_id;\n",
       "\n",
       "    // Clean up Bokeh references\n",
       "    if (id != null) {\n",
       "      drop(id)\n",
       "    }\n",
       "\n",
       "    if (server_id !== undefined) {\n",
       "      // Clean up Bokeh references\n",
       "      const cmd_clean = \"from bokeh.io.state import curstate; print(curstate().uuid_to_server['\" + server_id + \"'].get_sessions()[0].document.roots[0]._id)\";\n",
       "      cell.notebook.kernel.execute(cmd_clean, {\n",
       "        iopub: {\n",
       "          output: function(msg) {\n",
       "            const id = msg.content.text.trim()\n",
       "            drop(id)\n",
       "          }\n",
       "        }\n",
       "      });\n",
       "      // Destroy server and session\n",
       "      const cmd_destroy = \"import bokeh.io.notebook as ion; ion.destroy_server('\" + server_id + \"')\";\n",
       "      cell.notebook.kernel.execute(cmd_destroy);\n",
       "    }\n",
       "  }\n",
       "\n",
       "  /**\n",
       "   * Handle when a new output is added\n",
       "   */\n",
       "  function handleAddOutput(event, handle) {\n",
       "    const output_area = handle.output_area;\n",
       "    const output = handle.output;\n",
       "\n",
       "    // limit handleAddOutput to display_data with EXEC_MIME_TYPE content only\n",
       "    if ((output.output_type != \"display_data\") || (!Object.prototype.hasOwnProperty.call(output.data, EXEC_MIME_TYPE))) {\n",
       "      return\n",
       "    }\n",
       "\n",
       "    const toinsert = output_area.element.find(\".\" + CLASS_NAME.split(' ')[0]);\n",
       "\n",
       "    if (output.metadata[EXEC_MIME_TYPE][\"id\"] !== undefined) {\n",
       "      toinsert[toinsert.length - 1].firstChild.textContent = output.data[JS_MIME_TYPE];\n",
       "      // store reference to embed id on output_area\n",
       "      output_area._bokeh_element_id = output.metadata[EXEC_MIME_TYPE][\"id\"];\n",
       "    }\n",
       "    if (output.metadata[EXEC_MIME_TYPE][\"server_id\"] !== undefined) {\n",
       "      const bk_div = document.createElement(\"div\");\n",
       "      bk_div.innerHTML = output.data[HTML_MIME_TYPE];\n",
       "      const script_attrs = bk_div.children[0].attributes;\n",
       "      for (let i = 0; i < script_attrs.length; i++) {\n",
       "        toinsert[toinsert.length - 1].firstChild.setAttribute(script_attrs[i].name, script_attrs[i].value);\n",
       "        toinsert[toinsert.length - 1].firstChild.textContent = bk_div.children[0].textContent\n",
       "      }\n",
       "      // store reference to server id on output_area\n",
       "      output_area._bokeh_server_id = output.metadata[EXEC_MIME_TYPE][\"server_id\"];\n",
       "    }\n",
       "  }\n",
       "\n",
       "  function register_renderer(events, OutputArea) {\n",
       "\n",
       "    function append_mime(data, metadata, element) {\n",
       "      // create a DOM node to render to\n",
       "      const toinsert = this.create_output_subarea(\n",
       "        metadata,\n",
       "        CLASS_NAME,\n",
       "        EXEC_MIME_TYPE\n",
       "      );\n",
       "      this.keyboard_manager.register_events(toinsert);\n",
       "      // Render to node\n",
       "      const props = {data: data, metadata: metadata[EXEC_MIME_TYPE]};\n",
       "      render(props, toinsert[toinsert.length - 1]);\n",
       "      element.append(toinsert);\n",
       "      return toinsert\n",
       "    }\n",
       "\n",
       "    /* Handle when an output is cleared or removed */\n",
       "    events.on('clear_output.CodeCell', handleClearOutput);\n",
       "    events.on('delete.Cell', handleClearOutput);\n",
       "\n",
       "    /* Handle when a new output is added */\n",
       "    events.on('output_added.OutputArea', handleAddOutput);\n",
       "\n",
       "    /**\n",
       "     * Register the mime type and append_mime function with output_area\n",
       "     */\n",
       "    OutputArea.prototype.register_mime_type(EXEC_MIME_TYPE, append_mime, {\n",
       "      /* Is output safe? */\n",
       "      safe: true,\n",
       "      /* Index of renderer in `output_area.display_order` */\n",
       "      index: 0\n",
       "    });\n",
       "  }\n",
       "\n",
       "  // register the mime type if in Jupyter Notebook environment and previously unregistered\n",
       "  if (root.Jupyter !== undefined) {\n",
       "    const events = require('base/js/events');\n",
       "    const OutputArea = require('notebook/js/outputarea').OutputArea;\n",
       "\n",
       "    if (OutputArea.prototype.mime_types().indexOf(EXEC_MIME_TYPE) == -1) {\n",
       "      register_renderer(events, OutputArea);\n",
       "    }\n",
       "  }\n",
       "  if (typeof (root._bokeh_timeout) === \"undefined\" || force === true) {\n",
       "    root._bokeh_timeout = Date.now() + 5000;\n",
       "    root._bokeh_failed_load = false;\n",
       "  }\n",
       "\n",
       "  const NB_LOAD_WARNING = {'data': {'text/html':\n",
       "     \"<div style='background-color: #fdd'>\\n\"+\n",
       "     \"<p>\\n\"+\n",
       "     \"BokehJS does not appear to have successfully loaded. If loading BokehJS from CDN, this \\n\"+\n",
       "     \"may be due to a slow or bad network connection. Possible fixes:\\n\"+\n",
       "     \"</p>\\n\"+\n",
       "     \"<ul>\\n\"+\n",
       "     \"<li>re-rerun `output_notebook()` to attempt to load from CDN again, or</li>\\n\"+\n",
       "     \"<li>use INLINE resources instead, as so:</li>\\n\"+\n",
       "     \"</ul>\\n\"+\n",
       "     \"<code>\\n\"+\n",
       "     \"from bokeh.resources import INLINE\\n\"+\n",
       "     \"output_notebook(resources=INLINE)\\n\"+\n",
       "     \"</code>\\n\"+\n",
       "     \"</div>\"}};\n",
       "\n",
       "  function display_loaded(error = null) {\n",
       "    const el = document.getElementById(\"c96c8e67-4a65-4ec3-a5c7-11fac38d9949\");\n",
       "    if (el != null) {\n",
       "      const html = (() => {\n",
       "        if (typeof root.Bokeh === \"undefined\") {\n",
       "          if (error == null) {\n",
       "            return \"BokehJS is loading ...\";\n",
       "          } else {\n",
       "            return \"BokehJS failed to load.\";\n",
       "          }\n",
       "        } else {\n",
       "          const prefix = `BokehJS ${root.Bokeh.version}`;\n",
       "          if (error == null) {\n",
       "            return `${prefix} successfully loaded.`;\n",
       "          } else {\n",
       "            return `${prefix} <b>encountered errors</b> while loading and may not function as expected.`;\n",
       "          }\n",
       "        }\n",
       "      })();\n",
       "      el.innerHTML = html;\n",
       "\n",
       "      if (error != null) {\n",
       "        const wrapper = document.createElement(\"div\");\n",
       "        wrapper.style.overflow = \"auto\";\n",
       "        wrapper.style.height = \"5em\";\n",
       "        wrapper.style.resize = \"vertical\";\n",
       "        const content = document.createElement(\"div\");\n",
       "        content.style.fontFamily = \"monospace\";\n",
       "        content.style.whiteSpace = \"pre-wrap\";\n",
       "        content.style.backgroundColor = \"rgb(255, 221, 221)\";\n",
       "        content.textContent = error.stack ?? error.toString();\n",
       "        wrapper.append(content);\n",
       "        el.append(wrapper);\n",
       "      }\n",
       "    } else if (Date.now() < root._bokeh_timeout) {\n",
       "      setTimeout(() => display_loaded(error), 100);\n",
       "    }\n",
       "  }\n",
       "\n",
       "  function run_callbacks() {\n",
       "    try {\n",
       "      root._bokeh_onload_callbacks.forEach(function(callback) {\n",
       "        if (callback != null)\n",
       "          callback();\n",
       "      });\n",
       "    } finally {\n",
       "      delete root._bokeh_onload_callbacks\n",
       "    }\n",
       "    console.debug(\"Bokeh: all callbacks have finished\");\n",
       "  }\n",
       "\n",
       "  function load_libs(css_urls, js_urls, callback) {\n",
       "    if (css_urls == null) css_urls = [];\n",
       "    if (js_urls == null) js_urls = [];\n",
       "\n",
       "    root._bokeh_onload_callbacks.push(callback);\n",
       "    if (root._bokeh_is_loading > 0) {\n",
       "      console.debug(\"Bokeh: BokehJS is being loaded, scheduling callback at\", now());\n",
       "      return null;\n",
       "    }\n",
       "    if (js_urls == null || js_urls.length === 0) {\n",
       "      run_callbacks();\n",
       "      return null;\n",
       "    }\n",
       "    console.debug(\"Bokeh: BokehJS not loaded, scheduling load and callback at\", now());\n",
       "    root._bokeh_is_loading = css_urls.length + js_urls.length;\n",
       "\n",
       "    function on_load() {\n",
       "      root._bokeh_is_loading--;\n",
       "      if (root._bokeh_is_loading === 0) {\n",
       "        console.debug(\"Bokeh: all BokehJS libraries/stylesheets loaded\");\n",
       "        run_callbacks()\n",
       "      }\n",
       "    }\n",
       "\n",
       "    function on_error(url) {\n",
       "      console.error(\"failed to load \" + url);\n",
       "    }\n",
       "\n",
       "    for (let i = 0; i < css_urls.length; i++) {\n",
       "      const url = css_urls[i];\n",
       "      const element = document.createElement(\"link\");\n",
       "      element.onload = on_load;\n",
       "      element.onerror = on_error.bind(null, url);\n",
       "      element.rel = \"stylesheet\";\n",
       "      element.type = \"text/css\";\n",
       "      element.href = url;\n",
       "      console.debug(\"Bokeh: injecting link tag for BokehJS stylesheet: \", url);\n",
       "      document.body.appendChild(element);\n",
       "    }\n",
       "\n",
       "    for (let i = 0; i < js_urls.length; i++) {\n",
       "      const url = js_urls[i];\n",
       "      const element = document.createElement('script');\n",
       "      element.onload = on_load;\n",
       "      element.onerror = on_error.bind(null, url);\n",
       "      element.async = false;\n",
       "      element.src = url;\n",
       "      console.debug(\"Bokeh: injecting script tag for BokehJS library: \", url);\n",
       "      document.head.appendChild(element);\n",
       "    }\n",
       "  };\n",
       "\n",
       "  function inject_raw_css(css) {\n",
       "    const element = document.createElement(\"style\");\n",
       "    element.appendChild(document.createTextNode(css));\n",
       "    document.body.appendChild(element);\n",
       "  }\n",
       "\n",
       "  const js_urls = [\"https://cdn.bokeh.org/bokeh/release/bokeh-3.6.0.min.js\", \"https://cdn.bokeh.org/bokeh/release/bokeh-gl-3.6.0.min.js\", \"https://cdn.bokeh.org/bokeh/release/bokeh-widgets-3.6.0.min.js\", \"https://cdn.bokeh.org/bokeh/release/bokeh-tables-3.6.0.min.js\", \"https://cdn.bokeh.org/bokeh/release/bokeh-mathjax-3.6.0.min.js\"];\n",
       "  const css_urls = [];\n",
       "\n",
       "  const inline_js = [    function(Bokeh) {\n",
       "      Bokeh.set_log_level(\"info\");\n",
       "    },\n",
       "function(Bokeh) {\n",
       "    }\n",
       "  ];\n",
       "\n",
       "  function run_inline_js() {\n",
       "    if (root.Bokeh !== undefined || force === true) {\n",
       "      try {\n",
       "            for (let i = 0; i < inline_js.length; i++) {\n",
       "      inline_js[i].call(root, root.Bokeh);\n",
       "    }\n",
       "\n",
       "      } catch (error) {display_loaded(error);throw error;\n",
       "      }if (force === true) {\n",
       "        display_loaded();\n",
       "      }} else if (Date.now() < root._bokeh_timeout) {\n",
       "      setTimeout(run_inline_js, 100);\n",
       "    } else if (!root._bokeh_failed_load) {\n",
       "      console.log(\"Bokeh: BokehJS failed to load within specified timeout.\");\n",
       "      root._bokeh_failed_load = true;\n",
       "    } else if (force !== true) {\n",
       "      const cell = $(document.getElementById(\"c96c8e67-4a65-4ec3-a5c7-11fac38d9949\")).parents('.cell').data().cell;\n",
       "      cell.output_area.append_execute_result(NB_LOAD_WARNING)\n",
       "    }\n",
       "  }\n",
       "\n",
       "  if (root._bokeh_is_loading === 0) {\n",
       "    console.debug(\"Bokeh: BokehJS loaded, going straight to plotting\");\n",
       "    run_inline_js();\n",
       "  } else {\n",
       "    load_libs(css_urls, js_urls, function() {\n",
       "      console.debug(\"Bokeh: BokehJS plotting callback run at\", now());\n",
       "      run_inline_js();\n",
       "    });\n",
       "  }\n",
       "}(window));"
      ],
      "application/vnd.bokehjs_load.v0+json": "'use strict';\n(function(root) {\n  function now() {\n    return new Date();\n  }\n\n  const force = true;\n\n  if (typeof root._bokeh_onload_callbacks === \"undefined\" || force === true) {\n    root._bokeh_onload_callbacks = [];\n    root._bokeh_is_loading = undefined;\n  }\n\n\n  if (typeof (root._bokeh_timeout) === \"undefined\" || force === true) {\n    root._bokeh_timeout = Date.now() + 5000;\n    root._bokeh_failed_load = false;\n  }\n\n  const NB_LOAD_WARNING = {'data': {'text/html':\n     \"<div style='background-color: #fdd'>\\n\"+\n     \"<p>\\n\"+\n     \"BokehJS does not appear to have successfully loaded. If loading BokehJS from CDN, this \\n\"+\n     \"may be due to a slow or bad network connection. Possible fixes:\\n\"+\n     \"</p>\\n\"+\n     \"<ul>\\n\"+\n     \"<li>re-rerun `output_notebook()` to attempt to load from CDN again, or</li>\\n\"+\n     \"<li>use INLINE resources instead, as so:</li>\\n\"+\n     \"</ul>\\n\"+\n     \"<code>\\n\"+\n     \"from bokeh.resources import INLINE\\n\"+\n     \"output_notebook(resources=INLINE)\\n\"+\n     \"</code>\\n\"+\n     \"</div>\"}};\n\n  function display_loaded(error = null) {\n    const el = document.getElementById(\"c96c8e67-4a65-4ec3-a5c7-11fac38d9949\");\n    if (el != null) {\n      const html = (() => {\n        if (typeof root.Bokeh === \"undefined\") {\n          if (error == null) {\n            return \"BokehJS is loading ...\";\n          } else {\n            return \"BokehJS failed to load.\";\n          }\n        } else {\n          const prefix = `BokehJS ${root.Bokeh.version}`;\n          if (error == null) {\n            return `${prefix} successfully loaded.`;\n          } else {\n            return `${prefix} <b>encountered errors</b> while loading and may not function as expected.`;\n          }\n        }\n      })();\n      el.innerHTML = html;\n\n      if (error != null) {\n        const wrapper = document.createElement(\"div\");\n        wrapper.style.overflow = \"auto\";\n        wrapper.style.height = \"5em\";\n        wrapper.style.resize = \"vertical\";\n        const content = document.createElement(\"div\");\n        content.style.fontFamily = \"monospace\";\n        content.style.whiteSpace = \"pre-wrap\";\n        content.style.backgroundColor = \"rgb(255, 221, 221)\";\n        content.textContent = error.stack ?? error.toString();\n        wrapper.append(content);\n        el.append(wrapper);\n      }\n    } else if (Date.now() < root._bokeh_timeout) {\n      setTimeout(() => display_loaded(error), 100);\n    }\n  }\n\n  function run_callbacks() {\n    try {\n      root._bokeh_onload_callbacks.forEach(function(callback) {\n        if (callback != null)\n          callback();\n      });\n    } finally {\n      delete root._bokeh_onload_callbacks\n    }\n    console.debug(\"Bokeh: all callbacks have finished\");\n  }\n\n  function load_libs(css_urls, js_urls, callback) {\n    if (css_urls == null) css_urls = [];\n    if (js_urls == null) js_urls = [];\n\n    root._bokeh_onload_callbacks.push(callback);\n    if (root._bokeh_is_loading > 0) {\n      console.debug(\"Bokeh: BokehJS is being loaded, scheduling callback at\", now());\n      return null;\n    }\n    if (js_urls == null || js_urls.length === 0) {\n      run_callbacks();\n      return null;\n    }\n    console.debug(\"Bokeh: BokehJS not loaded, scheduling load and callback at\", now());\n    root._bokeh_is_loading = css_urls.length + js_urls.length;\n\n    function on_load() {\n      root._bokeh_is_loading--;\n      if (root._bokeh_is_loading === 0) {\n        console.debug(\"Bokeh: all BokehJS libraries/stylesheets loaded\");\n        run_callbacks()\n      }\n    }\n\n    function on_error(url) {\n      console.error(\"failed to load \" + url);\n    }\n\n    for (let i = 0; i < css_urls.length; i++) {\n      const url = css_urls[i];\n      const element = document.createElement(\"link\");\n      element.onload = on_load;\n      element.onerror = on_error.bind(null, url);\n      element.rel = \"stylesheet\";\n      element.type = \"text/css\";\n      element.href = url;\n      console.debug(\"Bokeh: injecting link tag for BokehJS stylesheet: \", url);\n      document.body.appendChild(element);\n    }\n\n    for (let i = 0; i < js_urls.length; i++) {\n      const url = js_urls[i];\n      const element = document.createElement('script');\n      element.onload = on_load;\n      element.onerror = on_error.bind(null, url);\n      element.async = false;\n      element.src = url;\n      console.debug(\"Bokeh: injecting script tag for BokehJS library: \", url);\n      document.head.appendChild(element);\n    }\n  };\n\n  function inject_raw_css(css) {\n    const element = document.createElement(\"style\");\n    element.appendChild(document.createTextNode(css));\n    document.body.appendChild(element);\n  }\n\n  const js_urls = [\"https://cdn.bokeh.org/bokeh/release/bokeh-3.6.0.min.js\", \"https://cdn.bokeh.org/bokeh/release/bokeh-gl-3.6.0.min.js\", \"https://cdn.bokeh.org/bokeh/release/bokeh-widgets-3.6.0.min.js\", \"https://cdn.bokeh.org/bokeh/release/bokeh-tables-3.6.0.min.js\", \"https://cdn.bokeh.org/bokeh/release/bokeh-mathjax-3.6.0.min.js\"];\n  const css_urls = [];\n\n  const inline_js = [    function(Bokeh) {\n      Bokeh.set_log_level(\"info\");\n    },\nfunction(Bokeh) {\n    }\n  ];\n\n  function run_inline_js() {\n    if (root.Bokeh !== undefined || force === true) {\n      try {\n            for (let i = 0; i < inline_js.length; i++) {\n      inline_js[i].call(root, root.Bokeh);\n    }\n\n      } catch (error) {display_loaded(error);throw error;\n      }if (force === true) {\n        display_loaded();\n      }} else if (Date.now() < root._bokeh_timeout) {\n      setTimeout(run_inline_js, 100);\n    } else if (!root._bokeh_failed_load) {\n      console.log(\"Bokeh: BokehJS failed to load within specified timeout.\");\n      root._bokeh_failed_load = true;\n    } else if (force !== true) {\n      const cell = $(document.getElementById(\"c96c8e67-4a65-4ec3-a5c7-11fac38d9949\")).parents('.cell').data().cell;\n      cell.output_area.append_execute_result(NB_LOAD_WARNING)\n    }\n  }\n\n  if (root._bokeh_is_loading === 0) {\n    console.debug(\"Bokeh: BokehJS loaded, going straight to plotting\");\n    run_inline_js();\n  } else {\n    load_libs(css_urls, js_urls, function() {\n      console.debug(\"Bokeh: BokehJS plotting callback run at\", now());\n      run_inline_js();\n    });\n  }\n}(window));"
     },
     "metadata": {},
     "output_type": "display_data"
    }
   ],
   "source": [
    "import os\n",
    "from time import time\n",
    "from scipy.stats import entropy\n",
    "import multiprocessing as mp\n",
    "import data_processing_functions as dpf\n",
    "import numpy as np\n",
    "import pandas as pd\n",
    "import geopandas as gpd\n",
    "import itertools\n",
    "\n",
    "# visualize the catchment centroid locations\n",
    "from bokeh.plotting import figure, show\n",
    "from bokeh.layouts import gridplot\n",
    "from bokeh.io import output_notebook, export_png, reset_output\n",
    "from bokeh.models import ColumnDataSource, LinearAxis, Range1d, Div\n",
    "from bokeh.palettes import Colorblind, Sunset10\n",
    "output_notebook()\n",
    "\n",
    "from scipy.stats import lognorm, expon, kappa4, gaussian_kde\n",
    "from scipy.special import kl_div, gammaln\n",
    "from scipy.optimize import minimize\n",
    "from scipy.integrate import quad\n",
    "\n",
    "import jax\n",
    "import jax.numpy as jnp\n",
    "from jax.scipy.stats import gaussian_kde as jkde\n",
    "\n",
    "BASE_DIR = os.getcwd()"
   ]
  },
  {
   "cell_type": "markdown",
   "id": "a447c3e1-07eb-43ef-b724-a3d40a5ab5fc",
   "metadata": {},
   "source": [
    "## KL Divergence Estimation\n",
    "\n",
    "[@perez_KL_estimation] presents a method for estimatingKL divergence directly from empirical CDFs, avoiding explicit parametric or nonparametric distribution fitting. The proposed method uses intervals defined by data points to approximate probability mass, bypassing problems introduced by intermediate distribution fitting like the noise introduced by bandwidth selection in kernel density estimation (KDE), parametric distribution fitting, or discrete quantization.  However, the problem of incomplete support coverage is not resolved, requiring methodological choices that introduce additional noise to handle unsupported regions."
   ]
  },
  {
   "cell_type": "markdown",
   "id": "c0ad9696-c27b-4bef-94f6-c9986327cd9f",
   "metadata": {},
   "source": [
    "## Methodology\n",
    "\n",
    "1. Draw pairs of catchments with minimum 1 year concurrent record.\n",
    "2. Let the first be the target catchmnet and the second the proxy catchment.\n",
    "3. Runoff in the target catchment is simulated by assuming runoff on a unit area basis is equal to the proxy catchment.\n",
    "4. The estimated target catchment flow is given by $f(x) = \\frac{A_\\text{target}}{A_\\text{proxy}} * x_\\text{proxy}$.\n",
    "5. Let $Q(x)$ represent the runoff distribution of the proxy catchment,\n",
    "6. $Q(x)$ represents the approximation of the \"ground truth\" distribution $P(x)$ of the target runoff.\n",
    "7. Fit a distribution to $X_\\text{proxy}$ by Kernel Density Estimation.\n",
    "8. For the KDE, set the bandwidth using \"Scott's Rule\", given by $\\sigma_\\text{target} \\cdot n^{-1/5}$ where n is the sample size and $\\sigma_\\text{target}$ is the sample standard deviation.\n",
    "9. Set a quantization of 6 bits and compute the cdf of the t"
   ]
  },
  {
   "attachments": {
    "ced28635-393b-40fd-aea3-270f4b5da802.png": {
     "image/png": "[encoded data removed]"
    }
   },
   "cell_type": "markdown",
   "id": "35c86611-b3f0-4a1e-ab68-31687bb7f17a",
   "metadata": {},
   "source": [
    "## Problem Cases\n",
    "\n",
    "![image.png](attachment:ced28635-393b-40fd-aea3-270f4b5da802.png)"
   ]
  },
  {
   "cell_type": "markdown",
   "id": "44dcaad0-8556-4172-bfc3-cac6ea7a435c",
   "metadata": {},
   "source": [
    "The plot above shows a common issue with using KDE to estimate KL divergence where the approximation $Q(x)$ does not provide support coverage of $P(x)$. Mismatch combined with steep cutoffs means the bandwidth is increased until $Q > 0$ for all $P > 0$. To provide support coverage to the far left of the target distribution requires smoothing that represents significant distortion noise, diminishing the divergence.  (what is the concurrent period?)  The KL divergence in this case is small compared to the distortion rate due to KDE fit.  \n",
    "\n",
    "Another point about this is the precision.  The quantization dictates how much of the precision is retained from the original signal.  If the level of precision is not justifiable from measurement uncertainty, what does the KL divergence, or any measure from the class of f-divergences, represent?   "
   ]
  },
  {
   "attachments": {
    "6ef5e849-b28f-4070-8b2c-bc3c10ac8a33.png": {
     "image/png": "[encoded data removed]"
    }
   },
   "cell_type": "markdown",
   "id": "848a4739-8569-4d39-962c-f8789b2c104f",
   "metadata": {},
   "source": [
    "![image.png](attachment:6ef5e849-b28f-4070-8b2c-bc3c10ac8a33.png)\n",
    "\n",
    "In the figure above, note how the $D_\\text{KL}(P_d||Q_d)$ decreases with increasing bitrate. This represents a lack of robustness in the estimate.\n",
    "\n",
    "If we want to compare the KL divergence across *discrete* bitrates, we must account for how much information is added by the prior.  We can't simply add a constant Dirichlet prior of $\\text{Dirichlet}(\\alpha + n_i)$ since this adds $N\\cdot \\alpha$ total counts to the distribution.  Dividing by the number of bins regularizes the information added (the total number of counts).  One effect of this adjustment is that the prior is now much smaller, which tends to cause heavier penalties where $q_i$ was otherwise zero.  However this is offset by the probabilities being spread out more anyway."
   ]
  },
  {
   "cell_type": "markdown",
   "id": "0f2fb4fc-307f-421b-9554-8102f6d711b5",
   "metadata": {},
   "source": [
    "If the ultimate goal is to represent floating point precision data losslessly. then we should pick a precision or a quantization that aligns with something practical.  "
   ]
  },
  {
   "cell_type": "code",
   "execution_count": 2,
   "id": "ac507c94-afd7-4612-b11a-defa2db82c0b",
   "metadata": {},
   "outputs": [],
   "source": [
    "# import streamflow record timeseries\n",
    "attributes_filename = 'BCUB_watershed_attributes_updated.csv'\n",
    "attributes_fpath = os.path.join(os.getcwd(), 'data', attributes_filename)\n",
    "attr_df = pd.read_csv(attributes_fpath)\n",
    "attr_df.columns = [e.lower() for e in attr_df.columns]\n",
    "# df.columns\n",
    "filtered_stns = sorted(list(set(attr_df['official_id'].values)))\n",
    "\n",
    "# load the attributes file with catchment geometries\n",
    "geom_file = 'BCUB_watershed_attributes_updated.geojson'\n",
    "bcub_gdf = gpd.read_file(os.path.join(os.getcwd(), 'data', geom_file))\n",
    "bcub_gdf.columns = [c.lower() for c in bcub_gdf.columns]"
   ]
  },
  {
   "cell_type": "code",
   "execution_count": 3,
   "id": "8b1059c6-8185-45c0-98f8-1f93b3a86cf3",
   "metadata": {},
   "outputs": [],
   "source": [
    "def compute_kl_divergence(p, q):\n",
    "    # compute DKL(Q||Q_post), or the divergence\n",
    "    # of the posterior from the likelihood due to the prior\n",
    "    mask = (q > 0) & (p > 0)\n",
    "    result = np.zeros_like(p)\n",
    "    result[mask] = p[mask] * np.log2(p[mask] / q[mask])\n",
    "    return np.nansum(result[mask])"
   ]
  },
  {
   "cell_type": "markdown",
   "id": "0a0c41d0-cbf9-48a2-9130-99e946da40b5",
   "metadata": {},
   "source": [
    "## Pairwise Processing\n",
    "\n"
   ]
  },
  {
   "cell_type": "code",
   "execution_count": 4,
   "id": "ac8d53e4-38c2-4eaa-998b-40e7f0432afa",
   "metadata": {},
   "outputs": [],
   "source": [
    "# create a new output filename \n",
    "attributes_filename = 'BCUB_watershed_attributes_updated.csv'\n",
    "attributes_fpath = os.path.join(os.getcwd(), 'data', attributes_filename)\n",
    "attr_df = pd.read_csv(attributes_fpath)\n",
    "attr_df.columns = [e.lower() for e in attr_df.columns]\n",
    "# df.columns\n",
    "filtered_stns = sorted(list(set(attr_df['official_id'].values)))"
   ]
  },
  {
   "cell_type": "code",
   "execution_count": 5,
   "id": "ca80fbc4-dd73-4937-9ce7-263599d7d3ac",
   "metadata": {},
   "outputs": [
    {
     "name": "stdout",
     "output_type": "stream",
     "text": [
      " There are 877150 unique pairings in the dataset\n"
     ]
    }
   ],
   "source": [
    "# generate all combinations of pairs of station ids\n",
    "id_pairs = list(itertools.combinations(filtered_stns, 2))\n",
    "print(f' There are {len(id_pairs)} unique pairings in the dataset')\n",
    "# shuffle the pairs to make testing smaller batches more robust\n",
    "np.random.seed(42)\n",
    "np.random.shuffle(id_pairs)"
   ]
  },
  {
   "cell_type": "code",
   "execution_count": 6,
   "id": "46464524-4afd-466a-a354-e4e0ab0b4b23",
   "metadata": {},
   "outputs": [],
   "source": [
    "# set a revision date for the results output file\n",
    "revision_date = '20241125'\n",
    "\n",
    "# how many pairs to compute in each batch\n",
    "batch_size = 5000\n",
    "# batch_size = 10\n",
    "\n",
    "# # what percentage of 365 observations in a year counts as a \"complete\" year\n",
    "# completeness_threshold = 0.9\n",
    "# min_observations = 365 * 0.9\n",
    "\n",
    "# station pairs with less than min_years concurrent years of data are excluded (for concurrent analysis),\n",
    "# stations with less than min_years are excluded (for non-concurrent analysis),\n",
    "min_years = 1 #[2, 3, 4, 5, 10]\n",
    "\n",
    "# a prior is applied to q in the form of a uniform array of 10**c pseudo-counts \"c\"\n",
    "# this prior is used to test the effect of the choice of prior on the model\n",
    "pseudo_counts = [-5, -4, -3, -2, -1, -0.5, -0.2, -0.1, 0, 0.1, 0.2, 0.5, 1, 2, 3, 4, 5]\n",
    "\n",
    "# set the number of quantization levels to test, equal to 2^bitrate\n",
    "bitrates = [3, 4, 5, 6, 7, 8, 9, 10, 11, 12, 13, 14]\n",
    "\n",
    "# Preload all records into a dictionary for fast lookup\n",
    "records_dict = bcub_gdf.copy().set_index('official_id').to_dict(orient='index')"
   ]
  },
  {
   "cell_type": "code",
   "execution_count": 7,
   "id": "5a8d2e6c-89f7-4d04-9d5b-54659a58d28b",
   "metadata": {},
   "outputs": [],
   "source": [
    "temp_dir = os.path.join(os.getcwd(), 'data/', 'temp')\n",
    "if not os.path.exists(temp_dir):\n",
    "    os.makedirs(temp_dir)"
   ]
  },
  {
   "cell_type": "code",
   "execution_count": 8,
   "id": "a34b5164-2fdc-4bfd-b092-9b240d1e4f51",
   "metadata": {},
   "outputs": [],
   "source": [
    "def input_batch_generator(df, id_pairs_filtered, min_years, use_partial_counts, bitrates):\n",
    "    batch_inputs = []\n",
    "    for proxy, target in id_pairs_filtered:\n",
    "        \n",
    "        proxy_dict = records_dict.get(proxy, {})\n",
    "        target_dict = records_dict.get(target, {})\n",
    "\n",
    "        proxy_dict['official_id'] = proxy\n",
    "        target_dict['official_id'] = target\n",
    "\n",
    "        assert 'geometry' in proxy_dict.keys(), proxy_dict.keys()\n",
    "        assert 'geometry' in target_dict.keys(), target_dict.keys()\n",
    "        \n",
    "        batch = [proxy_dict, target_dict, min_years, bitrates]\n",
    "        batch_inputs.append(batch)\n",
    "    return batch_inputs"
   ]
  },
  {
   "cell_type": "code",
   "execution_count": 9,
   "id": "07ace0de-8876-4550-b96d-56215ac50232",
   "metadata": {},
   "outputs": [],
   "source": [
    "def compute_hist_and_log_edges(x, n_bins):\n",
    "    min_log_val = np.log10(np.nanmin(x))\n",
    "    max_log_val = np.log10(np.nanmax(x))\n",
    "\n",
    "    # set the bin edges to be evenly spaced between the\n",
    "    # observed range of the proxy/donor series\n",
    "    log_bin_edges = np.linspace(\n",
    "        min_log_val,\n",
    "        max_log_val,\n",
    "        n_bins + 1,\n",
    "    ).flatten()\n",
    "    bin_edges = [10**e for e in log_bin_edges]\n",
    "    log_counts, _ = np.histogram(x, bins=bin_edges, density=False)\n",
    "    freqs = log_counts / sum(log_counts)\n",
    "    assert abs(sum(freqs) - 1) < 0.0001\n",
    "    return freqs, bin_edges "
   ]
  },
  {
   "cell_type": "code",
   "execution_count": 10,
   "id": "0b8cdaea-9150-4926-bb6b-ad03422ee94d",
   "metadata": {},
   "outputs": [],
   "source": [
    "def plot_cdf_kde_histogram(hist_targ, hist_proxy, edges_target, edges_proxy, kde_target, kde_proxy_og, kde_proxy_approx, kde_proxy_adj, \n",
    "                                    kde_kld, kde_proxy_bias, kde_adj_proxy_bias, kde_target_bias, n_years, bitrate):\n",
    "    \"\"\"\n",
    "    Plot and save the empirical CDF, KDE fit, and histogram using Bokeh.\n",
    "    Args:\n",
    "        x: 1D array of x values (for KDE and CDF).\n",
    "        cdf: Empirical CDF values corresponding to x.\n",
    "        kde: KDE fit values corresponding to x.\n",
    "        hist: Histogram heights.\n",
    "        bins: Bin edges for the histogram.\n",
    "        output_path: Path to save the PNG output.\n",
    "    \"\"\"\n",
    "    \n",
    "    bin_midpts_target = (np.array(edges_target[:-1]) + np.array(edges_target[1:])) / 2\n",
    "\n",
    "    # Create the figure\n",
    "    p = figure(width=800, height=600,\n",
    "        title=f\"b = {bitrate} bits quantization (2^{bitrate} symbol dictionary)\",\n",
    "              x_axis_type='log')\n",
    "    if bitrate > 8:\n",
    "        p.xaxis.axis_label = \"X\" \n",
    "    if (bitrate == 4) | (bitrate == 10):\n",
    "        p.yaxis.axis_label = \"Pr(x)\"\n",
    "\n",
    "    # Add histogram (muted grey with alpha)\n",
    "    p.quad(top=hist_targ, bottom=0, left=edges_target[:-1], right=edges_target[1:],\n",
    "           fill_color=\"grey\", fill_alpha=0.4, line_color=None, legend_label=\"Obs.\")\n",
    "    p.quad(top=hist_proxy, bottom=0, left=edges_proxy[:-1], right=edges_proxy[1:],\n",
    "           fill_color=\"crimson\", fill_alpha=0.4, line_color=None, legend_label=\"Sim.\")\n",
    "\n",
    "    # Add KDE lines series \n",
    "    p.line(bin_midpts_target, kde_target, line_width=3, line_color=\"black\", line_dash='solid', legend_label=\"P̂(x)\",)\n",
    "    p.line(bin_midpts_target, kde_proxy_approx, line_width=3, alpha=0.75,\n",
    "           line_color=\"crimson\", line_dash='dashed', legend_label=\"Q̂(x)\",)\n",
    "\n",
    "    # Add original proxy PDF\n",
    "    bin_midpts_proxy = (np.array(edges_proxy[:-1]) + np.array(edges_proxy[1:])) / 2\n",
    "    p.line(bin_midpts_proxy, kde_proxy_og, line_width=3, alpha=0.75, \n",
    "           line_dash='solid', line_color=\"crimson\", legend_label=\"Q(x)\",)\n",
    "    p.line(bin_midpts_proxy, kde_proxy_adj, line_width=3, alpha=0.75, \n",
    "           line_dash='dotted', line_color=\"crimson\", legend_label=\"Q̂_adj(x)\",)\n",
    "\n",
    "    # Style the legend\n",
    "    p.legend.location = \"top_right\"\n",
    "    # p.legend.title = \"Legend\"\n",
    "    p = dpf.format_fig_fonts(p)\n",
    "\n",
    "    return p\n",
    "    "
   ]
  },
  {
   "cell_type": "code",
   "execution_count": 11,
   "id": "3c96f0b9-2b6c-41c4-af3c-f296e2f0b84f",
   "metadata": {},
   "outputs": [],
   "source": [
    "def compute_missing_coverage_probability_mass(x1, x2):\n",
    "    min_x2, max_x2 = np.nanmin(x2), np.nanmax(x2)\n",
    "    missing_left = np.where(x1 < min_x2, 1, 0)\n",
    "    missing_right = np.where(x1 > max_x2, 1, 0)\n",
    "    left_mass = np.nansum(missing_left) / len(x1)\n",
    "    right_mass = np.nansum(missing_right) / len(x1)\n",
    "    return left_mass, right_mass    "
   ]
  },
  {
   "cell_type": "code",
   "execution_count": 12,
   "id": "5c8ecbc8-9fb2-427e-b884-5619b88d3b34",
   "metadata": {},
   "outputs": [],
   "source": [
    "def compute_discrete_kl_divergence(x1, x2, b, prior=1):\n",
    "    \"\"\"\n",
    "    X1 is observed.\n",
    "    X2 is simulated.\n",
    "    \n",
    "    We want to know the extra description, the memory overhead, \n",
    "    resulting from mis-estimated frequencies of an approximate Q\n",
    "    when the \"ground truth\" is P.\n",
    "    The ground truth P should reflect the binning \"optimized for P\", \n",
    "    so it should represent the \"a posteriori\" frequencies.\n",
    "    So then the simulated values should be binned according to \n",
    "    a version of P where two edge bins are reserved for out-of-range \n",
    "    simulated values.\n",
    "    \"\"\"\n",
    "    df = pd.DataFrame()\n",
    "    P_hist, P_edges = compute_hist_and_log_edges(x2, n_bins=int(2**b - 2))\n",
    "    # Q_hist, Q_edges = compute_hist_and_log_edges(x2, n_bins=int(2**b - 2))\n",
    "    \n",
    "    # digitize the target based on the proxy edges\n",
    "    df['obs_digitized'] = np.digitize(x1, P_edges)\n",
    "    # digitize the proxy based on the \"ground truth\" edges\n",
    "    # to see how the \"proxy model\" estimates the \"true\" frequences\n",
    "    df['sim_digitized'] = np.digitize(x2, P_edges)\n",
    "\n",
    "    # count the occurrences of each quantized value\n",
    "    # the \"simulated\" series is the proxy/donor series\n",
    "    # and the \"observed\" series is the target location\n",
    "    obs_count_df = df.groupby('obs_digitized').count()\n",
    "    sim_count_df = df.groupby('sim_digitized').count()\n",
    "\n",
    "    sim_col = sim_count_df.columns[0]\n",
    "    obs_col = obs_count_df.columns[0]\n",
    "\n",
    "    count_df = pd.DataFrame(index=range(2**b))\n",
    "    count_df['obs'] = 0\n",
    "    # divide the prior by the bitrate so that the same information is added across bitrates\n",
    "    count_df['sim'] = prior / 2**b\n",
    "\n",
    "    # note that the labels here don't matter\n",
    "    count_df['obs'] += obs_count_df.iloc[:, 0].reindex(count_df.index, fill_value=0)\n",
    "    count_df['sim'] += sim_count_df.iloc[:, 0].reindex(count_df.index, fill_value=0)\n",
    "    \n",
    "    p = (count_df['obs'] / len(x1)).values\n",
    "    q = (count_df['sim'] / len(x2)).values\n",
    "    assert np.all(q > 0), q\n",
    "    kld_discrete = compute_kl_divergence(p, q)\n",
    "    return kld_discrete\n",
    "    "
   ]
  },
  {
   "cell_type": "code",
   "execution_count": 13,
   "id": "105a5c27-adb9-48e3-b6f2-ada97195030b",
   "metadata": {},
   "outputs": [],
   "source": [
    "def save_gridplot(plots, output_path):\n",
    "    layout = gridplot(plots, ncols=3, width=550, height=450)\n",
    "    # Save as PNG\n",
    "    try:\n",
    "        export_png(layout, filename=output_path)\n",
    "    finally:\n",
    "        # Clean up Bokeh output state\n",
    "        reset_output()\n",
    "    print(f\"Plot saved to {output_path}\")"
   ]
  },
  {
   "cell_type": "code",
   "execution_count": 14,
   "id": "04dc5efa-2688-421c-840b-2b005b01b063",
   "metadata": {},
   "outputs": [],
   "source": [
    "def vectorized_kde_integration(kde_fit_object, edges):\n",
    "    integrate_cdf = jax.vmap(lambda xi: kde_fit_object.integrate_box_1d(-jnp.inf, jnp.log10(xi)))\n",
    "    cdf_values = integrate_cdf(np.array(edges))\n",
    "    pmf_values = np.diff(cdf_values)\n",
    "    return pmf_values\n"
   ]
  },
  {
   "cell_type": "code",
   "execution_count": 15,
   "id": "a2d677d0-5ed0-4b44-b1ef-bb22796052c9",
   "metadata": {},
   "outputs": [],
   "source": [
    "def adjust_kde_bandwidth(data, smoothing_factor=1.01, adjusted_bw='scott'):\n",
    "    \"\"\"\n",
    "    Adjust the bandwidth of a Gaussian KDE by scaling Scott's bandwidth.\n",
    "\n",
    "    Args:\n",
    "        data: 1D array of data points for KDE.\n",
    "        factor: Scaling factor for the bandwidth (default is 1.0, i.e., no adjustment).\n",
    "\n",
    "    Returns:\n",
    "        proxy_kde: KDE object with adjusted bandwidth.\n",
    "    \"\"\"\n",
    "    # Compute Scott's bandwidth\n",
    "    n = data.size\n",
    "    if adjusted_bw == 'scott':\n",
    "        bw = jnp.std(data) * n**(-1 / 5)  # Scott's rule\n",
    "    else:\n",
    "        bw = adjusted_bw\n",
    "\n",
    "    # Scale the bandwidth by the smoothing factor\n",
    "    return smoothing_factor * bw"
   ]
  },
  {
   "cell_type": "code",
   "execution_count": 21,
   "id": "15254c7d-2a51-463a-a4f1-628c39ee526c",
   "metadata": {},
   "outputs": [],
   "source": [
    "def fit_KDE_and_check_min_Qx(kde_fit, x1, x2, bin_edges, adjusted_bw='scott', min_q_allowed=1e-7, modified_bw=False):\n",
    "    \"\"\"\n",
    "    Check that the smallest x1 (target value) probability mass evaluated\n",
    "    on the proxy fit is greater than some minimum threshold \n",
    "    (the purpose is to avoid dividing by zero later on -- just setting != 0 is not enough\n",
    "    use KDE to estimate the pdf for the proxy / simulated values\n",
    "    \"\"\"\n",
    "    pmf = vectorized_kde_integration(kde_fit, bin_edges)\n",
    "\n",
    "    # min_probability_mass = np.nanmin(np.diff(np.array([kde_proxy_fit.integrate_box_1d(-np.inf, np.log10(xi)) for xi in edges_target])))\n",
    "    min_probability_mass = np.nanmin(pmf)\n",
    "    log_x2 = np.log10(x2)\n",
    "    if adjusted_bw == 'scott':\n",
    "        max_bw_exceeded = False\n",
    "    else:\n",
    "        max_bw_exceeded = adjusted_bw > 5 * np.std(log_x2)\n",
    "    # recursively change the bandwidth until the smallest probability is \n",
    "    # something we deem acceptable--this smooths the distribution\n",
    "    if max_bw_exceeded:\n",
    "        print('    MAX BANDWIDTH EXCEEDED.')\n",
    "        return kde_fit, max_bw_exceeded\n",
    "        \n",
    "    if (min_probability_mass == 0):\n",
    "        adj_bw = adjust_kde_bandwidth(log_x2, adjusted_bw=adjusted_bw)\n",
    "        # print(f'    min probability mass = {100*min_probability_mass:.3f}% adjusted bw to {adj_bw:.2f}')\n",
    "        kde_fit = jkde(log_x2, bw_method=adj_bw)\n",
    "        \n",
    "        # recursively adjust the bandwidth\n",
    "        return fit_KDE_and_check_min_Qx(\n",
    "            # x1, x2, adjusted_bw=adj_bw, underspecified_kde=True\n",
    "            kde_fit, x1, x2, bin_edges, adjusted_bw=adj_bw, modified_bw=True\n",
    "        )\n",
    "    return kde_fit, max_bw_exceeded\n",
    "    "
   ]
  },
  {
   "cell_type": "code",
   "execution_count": 22,
   "id": "c2b891c1-473c-4da3-9fa2-afa109b6e57a",
   "metadata": {},
   "outputs": [],
   "source": [
    "def kl_divergence_convergence(proxy, target, x1, x2, n_complete_years, bitrates,\n",
    "                              n_resamples=100, epsilon=1e-10, n_bins=64):\n",
    "    \"\"\"\n",
    "    Vectorized estimation of KL divergence convergence using bootstrap resampling.\n",
    "\n",
    "    Parameters:\n",
    "    - x1, x2: Arrays of observations from target (posteriori observed) and proxy (simulated)\n",
    "    - n_resamples: Number of bootstrap resamples.\n",
    "\n",
    "    Returns:\n",
    "    - KL divergence estimate D_KL(P||Q).\n",
    "    \"\"\"\n",
    "    n = len(x1)\n",
    "    print(f'N={n} samples, ({n_complete_years:.1f} years)')\n",
    "    t0 = time()\n",
    "    \n",
    "    # use KDE to estimate the pdf for the target / true values\n",
    "    log_x1 = jnp.log10(x1)\n",
    "    kde_target = jkde(log_x1)\n",
    "    t1 = time()\n",
    "    \n",
    "    # use KDE to estimate the pdf for the proxy / simulated values\n",
    "    log_x2 = jnp.log10(x2) \n",
    "    # compute the baseline (unadjusted) proxy KDE PDF\n",
    "    kde_proxy_baseline = jkde(log_x2)\n",
    "    t2 = time()\n",
    "\n",
    "    result = {}\n",
    "    result['n_concurrent_years'] = n_complete_years\n",
    "    # compute the probability mass out of range (left and right separately)\n",
    "    missing_support_left, missing_support_right = compute_missing_coverage_probability_mass(x1, x2)\n",
    "    result['missing_support_coverage_PMF_left'] = missing_support_left\n",
    "    result['missing_support_coverage_PMF_right'] = missing_support_right\n",
    "    underspecified_kde = False\n",
    "    if missing_support_left + missing_support_right > 0.0001:\n",
    "        underspecified_kde = True\n",
    "    result['underspecified_kde'] = underspecified_kde\n",
    "    plots = []\n",
    "    kde_results = []\n",
    "    for b in bitrates:\n",
    "        n_bins = int(2**b)\n",
    "        # compute discrete distributions on 2**b - 2 bins so it is comparable\n",
    "        # with the discrete KL divergence computation where we reserve 2 bins at the extremes\n",
    "        # for simulations out of range of the \"ground truth\" distribution\n",
    "        hist_target, edges_target = compute_hist_and_log_edges(x1, n_bins)\n",
    "        hist_proxy, edges_proxy = compute_hist_and_log_edges(x2, n_bins)\n",
    "\n",
    "        # compute the proxy KDE PDF with adjusted bandwidth \n",
    "        # to provide support coverage of target \n",
    "        kde_proxy_approx, max_bw_exceeded = fit_KDE_and_check_min_Qx(kde_proxy_baseline, x1, x2, edges_target)\n",
    "\n",
    "        # compute the \"ground truth\" PMF \n",
    "        # --> this is P(x)\n",
    "        kde_target_pmf = vectorized_kde_integration(kde_target, edges_target)\n",
    "        kde_target_pmf /= kde_target_pmf\n",
    "        \n",
    "        # compute the \"baseline\" proxy/observed PMF using the PROXY edges\n",
    "        kde_proxy_pmf_baseline = vectorized_kde_integration(kde_proxy_baseline, edges_proxy)\n",
    "        kde_proxy_pmf_baseline /= kde_proxy_pmf_baseline\n",
    "\n",
    "        # compute the \"approximate\" PMF from the adjusted fit on the TARGET edges\n",
    "        # --> this is Q(x)\n",
    "        if max_bw_exceeded:\n",
    "            kde_proxy_pmf_approx = np.full(n_bins, 1/n_bins)\n",
    "        else:\n",
    "            kde_proxy_pmf_approx = vectorized_kde_integration(kde_proxy_approx, edges_target)\n",
    "\n",
    "        # do not normalize the KDE since it would transfer out of range \n",
    "        # probability mass into the target range \n",
    "        # kde_target = kde_target / np.nansum(kde_target) \n",
    "        # kde_proxy = kde_proxy / np.nansum(kde_proxy) \n",
    "        \n",
    "        # compute KL divergence between the observed (target, P(x)) and simulated (proxy, Q(x)) \n",
    "        # THE PMFs COMPARED HERE MUST USE THE SAME EDGES\n",
    "        kde_kl_divergence = compute_kl_divergence(kde_target_pmf, kde_proxy_pmf_approx) \n",
    "        result[f'{b}_bit_kld_kde'] = kde_kl_divergence\n",
    "    \n",
    "        # compute the \"approximate\" PMF from the ADJUSTED fit on the PROXY edges\n",
    "        # this measures how much bias was added to the PMF in order to \n",
    "        # provide complete support coverage to P(x)\n",
    "        # kde_proxy_pmf_adj = np.diff(np.array([kde_proxy_approx.integrate_box_1d(-np.inf, np.log10(xi)) for xi in edges_proxy]))\n",
    "        kde_proxy_pmf_adj = vectorized_kde_integration(kde_proxy_approx, edges_proxy)\n",
    "        proxy_adjusted_kde_bias = compute_kl_divergence(kde_proxy_pmf_baseline, kde_proxy_pmf_adj)\n",
    "        if abs(proxy_adjusted_kde_bias) < 0.0001:\n",
    "            proxy_adjusted_kde_bias = 0\n",
    "        assert proxy_adjusted_kde_bias >= 0, \"Adjusted proxy KDE bias DKL is negative\"\n",
    "        result[f'{b}_bit_kde_adjusted_proxy_bias'] = proxy_adjusted_kde_bias\n",
    "\n",
    "        # compute the representation bias from the discrete to baseline kde\n",
    "        kde_proxy_bias = compute_kl_divergence(hist_proxy, kde_proxy_pmf_baseline)\n",
    "        result[f'{b}_bit_kde_baseline_proxy_bias'] = kde_proxy_bias\n",
    "        kde_target_bias = compute_kl_divergence(hist_target, kde_target_pmf)\n",
    "        result[f'{b}_bit_kde_baseline_target_bias'] = kde_target_bias\n",
    "\n",
    "        kld_discrete = compute_discrete_kl_divergence(x1, x2, b)\n",
    "\n",
    "        kde_results.append([b, round(kde_kl_divergence, 2), round(kld_discrete, 2), round(proxy_adjusted_kde_bias, 2), round(kde_proxy_bias, 2), round(kde_target_bias, 2)])\n",
    "\n",
    "        # don't plot above 10 bits as it doesn't show anything meaningful\n",
    "        if b < 12:\n",
    "            # Compute median and confidence intervals\n",
    "            plot = plot_cdf_kde_histogram(hist_target, hist_proxy, edges_target, edges_proxy, \n",
    "                                            kde_target_pmf, kde_proxy_pmf_baseline, kde_proxy_pmf_approx, kde_proxy_pmf_adj,\n",
    "                                            kde_kl_divergence, kde_proxy_bias, proxy_adjusted_kde_bias, kde_target_bias, \n",
    "                                            n_complete_years, b)\n",
    "            if b < 10:\n",
    "                plot.legend.visible = False\n",
    "            plot.legend.background_fill_alpha = 0.5\n",
    "            plots.append(plot)\n",
    "        print(f'    {b} bits KDE KLD = {kde_kl_divergence:.2f} bits/sample, proxy_baseline/proxy_adj/target bias: {kde_proxy_bias:.2f}/{proxy_adjusted_kde_bias:.2f}/{kde_target_bias:.2f} bits/sample ({missing_support_left:.2f}/{missing_support_right:.2f} L/R missing support)')\n",
    "    # print(asdf)\n",
    "    result_df = pd.DataFrame(kde_results, columns=['Bitrate', r'$$D_\\text{KL}(\\hat P||\\hat Q)$$', r'$$D_\\text{KL}(P_\\text{d}|| Q_\\text{d})$$', r'$$D_\\text{KL}(Q||\\hat Q_\\text{adj})$$', r'$$D_\\text{KL}(Q_\\text{d}||\\hat Q)$$', r'$$D_\\text{KL}(P_\\text{d}|| \\hat P)$$'])\n",
    "    html_table = result_df.to_html(index=False, border=0, classes=\"styled-table\")\n",
    "    styled_html = f\"{dpf.table_style}{html_table}\"\n",
    "    styled_html += f\"<h3>Notes:</h3><ol><li><b>N</b>: {n_complete_years} (years) concurrent record</li>\"\n",
    "    styled_html += f'<li>The <b>subscript d</b> denotes \"discrete\" (i.e. Q<sub>d</sub>)</li>'\n",
    "    styled_html += f\"<li><b>Incomplete Support Coverage:</b>:{underspecified_kde} ({100*missing_support_left:.0f}/{100*missing_support_right:.0f}% L/R)</li></ol>\"\n",
    "    t4 = time()\n",
    "    \n",
    "    print(f'X1 KDE fit:{t1-t0:.1f}s, X2 base KDE fit:{t2-t1:.1f}s, X2 adj. compute KLDs:{t4-t2:.1f}s')\n",
    "\n",
    "    # Render in a Bokeh Div\n",
    "    result_div = Div(text=styled_html, width=400)\n",
    "    plots.append(result_div)\n",
    "    output_path = f'KDE_fit_plots/sim_{target}_using_{proxy}.png'\n",
    "    save_gridplot(plots, output_path)\n",
    "    return result"
   ]
  },
  {
   "cell_type": "code",
   "execution_count": 23,
   "id": "5b1d723c-3ba8-49f9-bcd8-8c130bf1d9ff",
   "metadata": {},
   "outputs": [],
   "source": [
    "def process_batch(inputs):    \n",
    "    proxy, target, min_concurrent_years, bitrates = inputs\n",
    "    \n",
    "    proxy_id, target_id = proxy['official_id'], target['official_id']\n",
    "\n",
    "    # create a result dict object for tracking results of the batch comparison\n",
    "    result = {\n",
    "        \"proxy\": proxy_id,\n",
    "        \"target\": target_id,\n",
    "        \"min_concurrent_years\": min_concurrent_years,\n",
    "    }\n",
    "    station_info = {\"proxy\": proxy, \"target\": target}\n",
    "\n",
    "    # check if the polygons are nested\n",
    "    result[\"nested_catchments\"] = dpf.check_if_nested(proxy, target)\n",
    "\n",
    "    # for stn in pair:\n",
    "    proxy = dpf.Station(station_info[\"proxy\"])\n",
    "    target = dpf.Station(station_info[\"target\"])\n",
    "    target.ln_pdf_label = f'{target.id}_sim_lognorm_pdf'\n",
    "    target.ln_cdf_label = f'{target.id}_sim_lognorm_cdf'\n",
    "    target.expon_pdf_label = f'{target.id}_sim_expon_pdf'\n",
    "    target.expon_cdf_label = f'{target.id}_sim_expon_cdf'\n",
    "\n",
    "    # compute spatial distance\n",
    "    p1, p2 = (\n",
    "        station_info[\"proxy\"][\"geometry\"].centroid,\n",
    "        station_info[\"target\"][\"geometry\"].centroid,\n",
    "    )\n",
    "    # compute the distance between catchment centroids (km)\n",
    "    centroid_distance = p1.distance(p2) / 1000\n",
    "    result[\"centroid_distance\"] = round(centroid_distance, 2)\n",
    "    if centroid_distance > 1000:\n",
    "        return None\n",
    "\n",
    "    if np.isnan(target.drainage_area_km2):\n",
    "        raise ValueError(f\"No drainage area for {target_id}\")\n",
    "    if np.isnan(proxy.drainage_area_km2):\n",
    "        raise ValueError(f\"No drainage area for {proxy_id}\")\n",
    "\n",
    "    # Retrieve the data for both stations\n",
    "    # this is all data, including non-concurrent\n",
    "    adf = dpf.retrieve_nonconcurrent_data(proxy_id, target_id)\n",
    "\n",
    "    assert ~adf.empty, \"No data returned.\"\n",
    "\n",
    "    for stn in [proxy, target]:\n",
    "        adf = dpf.transform_and_jitter(adf, stn)\n",
    "\n",
    "    # simulate flow at the target based on equal unit area runoff scaling\n",
    "    adf[target.sim_label] = adf[proxy.id] * (\n",
    "        target.drainage_area_km2 / proxy.drainage_area_km2\n",
    "    )\n",
    "\n",
    "    # filter for the concurrent data\n",
    "    df = adf.copy().dropna(subset=[proxy_id, target_id], how=\"any\")\n",
    "    result[\"num_concurrent_obs\"] = len(df)\n",
    "    \n",
    "    if df.empty:\n",
    "        num_complete_concurrent_years = 0\n",
    "    else:\n",
    "        df.reset_index(inplace=True)\n",
    "        num_complete_concurrent_years = dpf.count_complete_years(df, 'time', proxy_id)\n",
    "        \n",
    "    counts = df[[proxy_id, target_id]].count(axis=0)\n",
    "    counts = adf.count(axis=0)\n",
    "    proxy.n_obs, target.n_obs = counts[proxy_id], counts[target_id]\n",
    "    \n",
    "    result[f\"proxy_n_obs\"] = proxy.n_obs\n",
    "    result[f\"target_n_obs\"] = target.n_obs\n",
    "    result[f\"proxy_frac_concurrent\"] = len(df) / proxy.n_obs\n",
    "    result[f\"target_frac_concurrent\"] = len(df) / target.n_obs\n",
    "\n",
    "    if (counts[proxy_id] == 0) or (counts[target_id] == 0):\n",
    "        print(f\"   Zero observations.  Skipping.\")\n",
    "        return None\n",
    "\n",
    "    # process the PMFs and divergences for concurrent data \n",
    "    # using a range of uniform priors via pseudo counts  \n",
    "    if num_complete_concurrent_years > min_concurrent_years:\n",
    "        # df is concurrent data, so the results\n",
    "        # are updating concurrent data here    \n",
    "        df.dropna(subset=[target.sim_label, target.id], inplace=True)\n",
    "        # x1 is the observed, x2 is the simulated\n",
    "        x1, x2 = df[target.id].values, df[target.sim_label].values\n",
    "        # fit kde to proxy values\n",
    "        pair_result = kl_divergence_convergence(proxy.id, target.id, x1, x2, num_complete_concurrent_years, bitrates)\n",
    "        result.update(pair_result)\n",
    "    \n",
    "    return result"
   ]
  },
  {
   "cell_type": "code",
   "execution_count": 24,
   "id": "a3ffb95e-ccbb-45b5-b7c0-e1a82c00d57e",
   "metadata": {
    "scrolled": true
   },
   "outputs": [
    {
     "name": "stdout",
     "output_type": "stream",
     "text": [
      "Processing empirical CDF pairs (partial counts=False)\n",
      "    Processing 877150 pairs in 175 batches.\n",
      "Starting batch 1/175 processing.\n",
      "/home/danbot2/code_5820/24/divergence_measures/docs/notebooks/data/temp/KL_kde_fits_20241125_batch_0001.csv\n",
      "N=5557 samples, (2.0 years)\n",
      "    4 bits KDE KLD = 0.34 bits/sample, proxy_baseline/proxy_adj/target bias: 0.02/0.00/0.03 bits/sample (0.00/0.00 L/R missing support)\n",
      "    6 bits KDE KLD = 0.35 bits/sample, proxy_baseline/proxy_adj/target bias: 0.03/0.00/0.05 bits/sample (0.00/0.00 L/R missing support)\n",
      "    8 bits KDE KLD = 0.35 bits/sample, proxy_baseline/proxy_adj/target bias: 0.09/0.00/0.12 bits/sample (0.00/0.00 L/R missing support)\n",
      "    10 bits KDE KLD = 0.35 bits/sample, proxy_baseline/proxy_adj/target bias: 0.52/0.00/0.88 bits/sample (0.00/0.00 L/R missing support)\n",
      "    12 bits KDE KLD = 0.35 bits/sample, proxy_baseline/proxy_adj/target bias: 2.38/0.00/2.87 bits/sample (0.00/0.00 L/R missing support)\n",
      "X1 KDE fit:0.2s, X2 base KDE fit:0.0s, X2 adj. compute KLDs:2.4s\n",
      "Plot saved to KDE_fit_plots/sim_08LF051_using_05CA001.png\n",
      "N=20241 samples, (53.0 years)\n",
      "    4 bits KDE KLD = 1.96 bits/sample, proxy_baseline/proxy_adj/target bias: 0.01/0.16/0.00 bits/sample (0.00/0.31 L/R missing support)\n",
      "    6 bits KDE KLD = 1.82 bits/sample, proxy_baseline/proxy_adj/target bias: 0.01/0.22/0.00 bits/sample (0.00/0.31 L/R missing support)\n",
      "    8 bits KDE KLD = 1.76 bits/sample, proxy_baseline/proxy_adj/target bias: 0.05/0.24/0.02 bits/sample (0.00/0.31 L/R missing support)\n",
      "    10 bits KDE KLD = 1.65 bits/sample, proxy_baseline/proxy_adj/target bias: 0.66/0.29/0.25 bits/sample (0.00/0.31 L/R missing support)\n",
      "    12 bits KDE KLD = 1.56 bits/sample, proxy_baseline/proxy_adj/target bias: 2.30/0.34/1.47 bits/sample (0.00/0.31 L/R missing support)\n",
      "X1 KDE fit:0.2s, X2 base KDE fit:0.0s, X2 adj. compute KLDs:28.8s\n",
      "Plot saved to KDE_fit_plots/sim_12205000_using_08LE031.png\n",
      "N=1138 samples, (2.0 years)\n",
      "    4 bits KDE KLD = 0.97 bits/sample, proxy_baseline/proxy_adj/target bias: 0.02/0.00/0.04 bits/sample (0.00/0.00 L/R missing support)\n",
      "    6 bits KDE KLD = 0.98 bits/sample, proxy_baseline/proxy_adj/target bias: 0.07/0.00/0.11 bits/sample (0.00/0.00 L/R missing support)\n",
      "    8 bits KDE KLD = 0.98 bits/sample, proxy_baseline/proxy_adj/target bias: 0.38/0.00/0.32 bits/sample (0.00/0.00 L/R missing support)\n",
      "    10 bits KDE KLD = 0.98 bits/sample, proxy_baseline/proxy_adj/target bias: 1.74/0.00/1.17 bits/sample (0.00/0.00 L/R missing support)\n",
      "    12 bits KDE KLD = 0.98 bits/sample, proxy_baseline/proxy_adj/target bias: 3.73/0.00/3.10 bits/sample (0.00/0.00 L/R missing support)\n",
      "X1 KDE fit:0.2s, X2 base KDE fit:0.0s, X2 adj. compute KLDs:2.5s\n",
      "Plot saved to KDE_fit_plots/sim_12458000_using_08MH004.png\n",
      "N=1921 samples, (2.0 years)\n",
      "    4 bits KDE KLD = 1.57 bits/sample, proxy_baseline/proxy_adj/target bias: 0.07/0.15/0.01 bits/sample (0.00/0.24 L/R missing support)\n",
      "    6 bits KDE KLD = 1.46 bits/sample, proxy_baseline/proxy_adj/target bias: 0.18/0.19/0.07 bits/sample (0.00/0.24 L/R missing support)\n",
      "    8 bits KDE KLD = 1.36 bits/sample, proxy_baseline/proxy_adj/target bias: 0.47/0.22/0.46 bits/sample (0.00/0.24 L/R missing support)\n",
      "    10 bits KDE KLD = 1.29 bits/sample, proxy_baseline/proxy_adj/target bias: 1.53/0.26/1.82 bits/sample (0.00/0.24 L/R missing support)\n",
      "    12 bits KDE KLD = 1.17 bits/sample, proxy_baseline/proxy_adj/target bias: 3.51/0.32/3.77 bits/sample (0.00/0.24 L/R missing support)\n",
      "X1 KDE fit:0.2s, X2 base KDE fit:0.0s, X2 adj. compute KLDs:16.6s\n",
      "Plot saved to KDE_fit_plots/sim_15085800_using_07EE002.png\n",
      "N=25202 samples, (69.0 years)\n",
      "    4 bits KDE KLD = 0.13 bits/sample, proxy_baseline/proxy_adj/target bias: 0.00/0.00/0.00 bits/sample (0.00/0.00 L/R missing support)\n",
      "    6 bits KDE KLD = 0.15 bits/sample, proxy_baseline/proxy_adj/target bias: 0.01/0.00/0.00 bits/sample (0.00/0.00 L/R missing support)\n",
      "    8 bits KDE KLD = 0.15 bits/sample, proxy_baseline/proxy_adj/target bias: 0.02/0.00/0.01 bits/sample (0.00/0.00 L/R missing support)\n",
      "    10 bits KDE KLD = 0.15 bits/sample, proxy_baseline/proxy_adj/target bias: 0.16/0.00/0.19 bits/sample (0.00/0.00 L/R missing support)\n",
      "    12 bits KDE KLD = 0.15 bits/sample, proxy_baseline/proxy_adj/target bias: 1.24/0.00/1.50 bits/sample (0.00/0.00 L/R missing support)\n",
      "X1 KDE fit:0.0s, X2 base KDE fit:0.0s, X2 adj. compute KLDs:1.6s\n",
      "Plot saved to KDE_fit_plots/sim_12039500_using_12036000.png\n",
      "N=4852 samples, (10.0 years)\n",
      "    4 bits KDE KLD = 8.56 bits/sample, proxy_baseline/proxy_adj/target bias: 0.00/0.00/0.02 bits/sample (0.44/0.00 L/R missing support)\n",
      "    6 bits KDE KLD = 9.53 bits/sample, proxy_baseline/proxy_adj/target bias: 0.01/0.00/0.04 bits/sample (0.44/0.00 L/R missing support)\n",
      "    8 bits KDE KLD = 9.63 bits/sample, proxy_baseline/proxy_adj/target bias: 0.05/0.00/0.09 bits/sample (0.44/0.00 L/R missing support)\n",
      "    10 bits KDE KLD = 9.63 bits/sample, proxy_baseline/proxy_adj/target bias: 0.33/0.00/0.43 bits/sample (0.44/0.00 L/R missing support)\n",
      "    12 bits KDE KLD = 9.63 bits/sample, proxy_baseline/proxy_adj/target bias: 1.61/0.00/1.97 bits/sample (0.44/0.00 L/R missing support)\n",
      "X1 KDE fit:0.2s, X2 base KDE fit:0.0s, X2 adj. compute KLDs:2.6s\n",
      "Plot saved to KDE_fit_plots/sim_12100496_using_08GB013.png\n",
      "N=3371 samples, (8.0 years)\n",
      "    4 bits KDE KLD = 1.66 bits/sample, proxy_baseline/proxy_adj/target bias: 0.01/0.01/0.02 bits/sample (0.00/0.06 L/R missing support)\n",
      "    6 bits KDE KLD = 1.60 bits/sample, proxy_baseline/proxy_adj/target bias: 0.05/0.03/0.09 bits/sample (0.00/0.06 L/R missing support)\n",
      "    8 bits KDE KLD = 1.56 bits/sample, proxy_baseline/proxy_adj/target bias: 0.14/0.05/1.03 bits/sample (0.00/0.06 L/R missing support)\n",
      "    10 bits KDE KLD = 1.51 bits/sample, proxy_baseline/proxy_adj/target bias: 0.78/0.07/2.94 bits/sample (0.00/0.06 L/R missing support)\n",
      "    12 bits KDE KLD = 1.46 bits/sample, proxy_baseline/proxy_adj/target bias: 2.68/0.10/4.94 bits/sample (0.00/0.06 L/R missing support)\n",
      "X1 KDE fit:0.2s, X2 base KDE fit:0.0s, X2 adj. compute KLDs:12.4s\n",
      "Plot saved to KDE_fit_plots/sim_12050500_using_08KE016.png\n",
      "N=3593 samples, (5.0 years)\n",
      "    4 bits KDE KLD = 0.59 bits/sample, proxy_baseline/proxy_adj/target bias: 0.04/0.00/0.03 bits/sample (0.00/0.04 L/R missing support)\n",
      "    6 bits KDE KLD = 0.60 bits/sample, proxy_baseline/proxy_adj/target bias: 0.05/0.00/0.05 bits/sample (0.00/0.04 L/R missing support)\n",
      "    8 bits KDE KLD = 0.60 bits/sample, proxy_baseline/proxy_adj/target bias: 0.12/0.00/0.15 bits/sample (0.00/0.04 L/R missing support)\n",
      "    10 bits KDE KLD = 0.60 bits/sample, proxy_baseline/proxy_adj/target bias: 0.87/0.00/1.07 bits/sample (0.00/0.04 L/R missing support)\n",
      "    12 bits KDE KLD = 0.60 bits/sample, proxy_baseline/proxy_adj/target bias: 2.80/0.00/3.06 bits/sample (0.00/0.04 L/R missing support)\n",
      "X1 KDE fit:0.2s, X2 base KDE fit:0.0s, X2 adj. compute KLDs:3.6s\n",
      "Plot saved to KDE_fit_plots/sim_08LA009_using_08KA007.png\n",
      "N=731 samples, (2.0 years)\n",
      "    4 bits KDE KLD = 11.70 bits/sample, proxy_baseline/proxy_adj/target bias: 0.12/0.00/0.08 bits/sample (0.65/0.00 L/R missing support)\n",
      "    6 bits KDE KLD = 12.87 bits/sample, proxy_baseline/proxy_adj/target bias: 0.20/0.00/0.21 bits/sample (0.65/0.00 L/R missing support)\n",
      "    8 bits KDE KLD = 12.99 bits/sample, proxy_baseline/proxy_adj/target bias: 0.51/0.00/1.12 bits/sample (0.65/0.00 L/R missing support)\n",
      "    10 bits KDE KLD = 13.00 bits/sample, proxy_baseline/proxy_adj/target bias: 1.63/0.00/3.00 bits/sample (0.65/0.00 L/R missing support)\n",
      "    12 bits KDE KLD = 13.00 bits/sample, proxy_baseline/proxy_adj/target bias: 3.51/0.00/5.00 bits/sample (0.65/0.00 L/R missing support)\n",
      "X1 KDE fit:0.2s, X2 base KDE fit:0.0s, X2 adj. compute KLDs:2.6s\n",
      "Plot saved to KDE_fit_plots/sim_12415290_using_12083000.png\n",
      "N=17989 samples, (49.0 years)\n",
      "    4 bits KDE KLD = 0.59 bits/sample, proxy_baseline/proxy_adj/target bias: 0.00/0.00/0.00 bits/sample (0.00/0.00 L/R missing support)\n",
      "    6 bits KDE KLD = 0.60 bits/sample, proxy_baseline/proxy_adj/target bias: 0.01/0.01/0.01 bits/sample (0.00/0.00 L/R missing support)\n",
      "    8 bits KDE KLD = 0.59 bits/sample, proxy_baseline/proxy_adj/target bias: 0.02/0.01/0.02 bits/sample (0.00/0.00 L/R missing support)\n",
      "    10 bits KDE KLD = 0.59 bits/sample, proxy_baseline/proxy_adj/target bias: 0.16/0.03/0.14 bits/sample (0.00/0.00 L/R missing support)\n",
      "    12 bits KDE KLD = 0.58 bits/sample, proxy_baseline/proxy_adj/target bias: 1.24/0.04/1.20 bits/sample (0.00/0.00 L/R missing support)\n",
      "X1 KDE fit:0.2s, X2 base KDE fit:0.0s, X2 adj. compute KLDs:12.3s\n",
      "Plot saved to KDE_fit_plots/sim_12413000_using_08NN002.png\n",
      "N=6708 samples, (9.0 years)\n",
      "    4 bits KDE KLD = 2.10 bits/sample, proxy_baseline/proxy_adj/target bias: 0.13/0.00/0.01 bits/sample (0.00/0.00 L/R missing support)\n",
      "    6 bits KDE KLD = 2.11 bits/sample, proxy_baseline/proxy_adj/target bias: 1.03/0.00/0.02 bits/sample (0.00/0.00 L/R missing support)\n",
      "    8 bits KDE KLD = 2.11 bits/sample, proxy_baseline/proxy_adj/target bias: 2.76/0.00/0.09 bits/sample (0.00/0.00 L/R missing support)\n",
      "    10 bits KDE KLD = 2.11 bits/sample, proxy_baseline/proxy_adj/target bias: 4.72/0.00/0.93 bits/sample (0.00/0.00 L/R missing support)\n",
      "    12 bits KDE KLD = 2.11 bits/sample, proxy_baseline/proxy_adj/target bias: 6.72/0.00/2.63 bits/sample (0.00/0.00 L/R missing support)\n",
      "X1 KDE fit:0.2s, X2 base KDE fit:0.0s, X2 adj. compute KLDs:2.9s\n",
      "Plot saved to KDE_fit_plots/sim_12301300_using_07GF006.png\n",
      "N=1003 samples, (2.0 years)\n",
      "    4 bits KDE KLD = 0.45 bits/sample, proxy_baseline/proxy_adj/target bias: 0.08/0.00/0.06 bits/sample (0.00/0.00 L/R missing support)\n",
      "    6 bits KDE KLD = 0.45 bits/sample, proxy_baseline/proxy_adj/target bias: 0.16/0.00/0.10 bits/sample (0.00/0.00 L/R missing support)\n",
      "    8 bits KDE KLD = 0.45 bits/sample, proxy_baseline/proxy_adj/target bias: 0.31/0.00/0.25 bits/sample (0.00/0.00 L/R missing support)\n",
      "    10 bits KDE KLD = 0.45 bits/sample, proxy_baseline/proxy_adj/target bias: 1.09/0.00/0.92 bits/sample (0.00/0.00 L/R missing support)\n",
      "    12 bits KDE KLD = 0.45 bits/sample, proxy_baseline/proxy_adj/target bias: 2.87/0.00/2.64 bits/sample (0.00/0.00 L/R missing support)\n",
      "X1 KDE fit:0.0s, X2 base KDE fit:0.0s, X2 adj. compute KLDs:1.2s\n",
      "Plot saved to KDE_fit_plots/sim_12214350_using_05017500.png\n",
      "N=4232 samples, (9.0 years)\n",
      "    4 bits KDE KLD = 0.77 bits/sample, proxy_baseline/proxy_adj/target bias: 0.01/0.00/0.03 bits/sample (0.00/0.00 L/R missing support)\n",
      "    6 bits KDE KLD = 0.78 bits/sample, proxy_baseline/proxy_adj/target bias: 0.13/0.00/0.11 bits/sample (0.00/0.00 L/R missing support)\n",
      "    8 bits KDE KLD = 0.78 bits/sample, proxy_baseline/proxy_adj/target bias: 0.72/0.00/1.10 bits/sample (0.00/0.00 L/R missing support)\n",
      "    10 bits KDE KLD = 0.78 bits/sample, proxy_baseline/proxy_adj/target bias: 2.06/0.00/2.79 bits/sample (0.00/0.00 L/R missing support)\n",
      "    12 bits KDE KLD = 0.78 bits/sample, proxy_baseline/proxy_adj/target bias: 3.98/0.00/4.78 bits/sample (0.00/0.00 L/R missing support)\n",
      "X1 KDE fit:0.2s, X2 base KDE fit:0.0s, X2 adj. compute KLDs:2.9s\n",
      "Plot saved to KDE_fit_plots/sim_08NJ061_using_08MH108.png\n",
      "N=2410 samples, (4.0 years)\n",
      "    4 bits KDE KLD = 2.18 bits/sample, proxy_baseline/proxy_adj/target bias: 0.01/0.08/0.01 bits/sample (0.00/0.14 L/R missing support)\n",
      "    6 bits KDE KLD = 2.07 bits/sample, proxy_baseline/proxy_adj/target bias: 0.04/0.10/0.03 bits/sample (0.00/0.14 L/R missing support)\n",
      "    8 bits KDE KLD = 1.81 bits/sample, proxy_baseline/proxy_adj/target bias: 0.13/0.14/0.09 bits/sample (0.00/0.14 L/R missing support)\n",
      "    10 bits KDE KLD = 1.63 bits/sample, proxy_baseline/proxy_adj/target bias: 0.73/0.18/0.61 bits/sample (0.00/0.14 L/R missing support)\n",
      "    12 bits KDE KLD = 1.41 bits/sample, proxy_baseline/proxy_adj/target bias: 2.39/0.25/2.20 bits/sample (0.00/0.14 L/R missing support)\n",
      "X1 KDE fit:0.2s, X2 base KDE fit:0.0s, X2 adj. compute KLDs:17.9s\n",
      "Plot saved to KDE_fit_plots/sim_12142000_using_12126500.png\n",
      "N=7923 samples, (21.0 years)\n",
      "    4 bits KDE KLD = 0.26 bits/sample, proxy_baseline/proxy_adj/target bias: 0.00/0.00/0.01 bits/sample (0.00/0.01 L/R missing support)\n",
      "    6 bits KDE KLD = 0.25 bits/sample, proxy_baseline/proxy_adj/target bias: 0.01/0.01/0.04 bits/sample (0.00/0.01 L/R missing support)\n",
      "    8 bits KDE KLD = 0.22 bits/sample, proxy_baseline/proxy_adj/target bias: 0.04/0.03/0.43 bits/sample (0.00/0.01 L/R missing support)\n",
      "    10 bits KDE KLD = 0.20 bits/sample, proxy_baseline/proxy_adj/target bias: 0.24/0.06/2.07 bits/sample (0.00/0.01 L/R missing support)\n",
      "    12 bits KDE KLD = 0.19 bits/sample, proxy_baseline/proxy_adj/target bias: 1.39/0.10/4.07 bits/sample (0.00/0.01 L/R missing support)\n",
      "X1 KDE fit:0.2s, X2 base KDE fit:0.0s, X2 adj. compute KLDs:16.8s\n",
      "Plot saved to KDE_fit_plots/sim_12416000_using_05DB006.png\n",
      "N=11371 samples, (31.0 years)\n",
      "    4 bits KDE KLD = 0.97 bits/sample, proxy_baseline/proxy_adj/target bias: 0.02/0.00/0.01 bits/sample (0.00/0.02 L/R missing support)\n",
      "    6 bits KDE KLD = 1.00 bits/sample, proxy_baseline/proxy_adj/target bias: 0.04/0.00/0.02 bits/sample (0.00/0.02 L/R missing support)\n",
      "    8 bits KDE KLD = 1.00 bits/sample, proxy_baseline/proxy_adj/target bias: 0.08/0.00/0.04 bits/sample (0.00/0.02 L/R missing support)\n",
      "    10 bits KDE KLD = 0.97 bits/sample, proxy_baseline/proxy_adj/target bias: 0.37/0.00/0.42 bits/sample (0.00/0.02 L/R missing support)\n",
      "    12 bits KDE KLD = 0.84 bits/sample, proxy_baseline/proxy_adj/target bias: 1.72/0.02/1.89 bits/sample (0.00/0.02 L/R missing support)\n",
      "X1 KDE fit:0.2s, X2 base KDE fit:0.0s, X2 adj. compute KLDs:6.0s\n",
      "Plot saved to KDE_fit_plots/sim_08ND013_using_07EA002.png\n",
      "N=5831 samples, (13.0 years)\n",
      "    4 bits KDE KLD = 0.91 bits/sample, proxy_baseline/proxy_adj/target bias: 0.04/0.00/0.02 bits/sample (0.11/0.00 L/R missing support)\n",
      "    6 bits KDE KLD = 0.93 bits/sample, proxy_baseline/proxy_adj/target bias: 0.05/0.00/0.03 bits/sample (0.11/0.00 L/R missing support)\n",
      "    8 bits KDE KLD = 0.93 bits/sample, proxy_baseline/proxy_adj/target bias: 0.10/0.00/0.07 bits/sample (0.11/0.00 L/R missing support)\n",
      "    10 bits KDE KLD = 0.93 bits/sample, proxy_baseline/proxy_adj/target bias: 0.62/0.00/0.44 bits/sample (0.11/0.00 L/R missing support)\n",
      "    12 bits KDE KLD = 0.93 bits/sample, proxy_baseline/proxy_adj/target bias: 2.31/0.00/1.99 bits/sample (0.11/0.00 L/R missing support)\n",
      "X1 KDE fit:0.2s, X2 base KDE fit:0.0s, X2 adj. compute KLDs:2.8s\n",
      "Plot saved to KDE_fit_plots/sim_10BD001_using_09AA010.png\n",
      "N=7420 samples, (19.0 years)\n",
      "    4 bits KDE KLD = 1.32 bits/sample, proxy_baseline/proxy_adj/target bias: 0.02/0.00/0.03 bits/sample (0.00/0.00 L/R missing support)\n",
      "    6 bits KDE KLD = 1.57 bits/sample, proxy_baseline/proxy_adj/target bias: 0.03/0.00/0.18 bits/sample (0.00/0.00 L/R missing support)\n",
      "    8 bits KDE KLD = 1.61 bits/sample, proxy_baseline/proxy_adj/target bias: 0.15/0.00/0.44 bits/sample (0.00/0.00 L/R missing support)\n",
      "    10 bits KDE KLD = 1.61 bits/sample, proxy_baseline/proxy_adj/target bias: 1.12/0.00/1.73 bits/sample (0.00/0.00 L/R missing support)\n",
      "    12 bits KDE KLD = 1.61 bits/sample, proxy_baseline/proxy_adj/target bias: 2.88/0.00/3.26 bits/sample (0.00/0.00 L/R missing support)\n",
      "X1 KDE fit:0.2s, X2 base KDE fit:0.0s, X2 adj. compute KLDs:2.5s\n",
      "Plot saved to KDE_fit_plots/sim_12058800_using_08NH132.png\n",
      "N=11322 samples, (29.0 years)\n",
      "    4 bits KDE KLD = 0.86 bits/sample, proxy_baseline/proxy_adj/target bias: 0.03/0.00/0.00 bits/sample (0.00/0.00 L/R missing support)\n",
      "    6 bits KDE KLD = 0.88 bits/sample, proxy_baseline/proxy_adj/target bias: 0.08/0.00/0.01 bits/sample (0.00/0.00 L/R missing support)\n",
      "    8 bits KDE KLD = 0.88 bits/sample, proxy_baseline/proxy_adj/target bias: 0.17/0.00/0.06 bits/sample (0.00/0.00 L/R missing support)\n",
      "    10 bits KDE KLD = 0.88 bits/sample, proxy_baseline/proxy_adj/target bias: 0.49/0.00/0.57 bits/sample (0.00/0.00 L/R missing support)\n",
      "    12 bits KDE KLD = 0.88 bits/sample, proxy_baseline/proxy_adj/target bias: 1.45/0.00/2.24 bits/sample (0.00/0.00 L/R missing support)\n",
      "X1 KDE fit:0.2s, X2 base KDE fit:0.0s, X2 adj. compute KLDs:2.9s\n",
      "Plot saved to KDE_fit_plots/sim_12340500_using_12090500.png\n",
      "N=4731 samples, (12.0 years)\n"
     ]
    },
    {
     "name": "stderr",
     "output_type": "stream",
     "text": [
      "/tmp/ipykernel_2255281/4022667463.py:6: RuntimeWarning: overflow encountered in divide\n",
      "  result[mask] = p[mask] * np.log2(p[mask] / q[mask])\n"
     ]
    },
    {
     "name": "stdout",
     "output_type": "stream",
     "text": [
      "    4 bits KDE KLD = inf bits/sample, proxy_baseline/proxy_adj/target bias: 0.01/0.02/0.01 bits/sample (0.47/0.00 L/R missing support)\n"
     ]
    },
    {
     "name": "stderr",
     "output_type": "stream",
     "text": [
      "/tmp/ipykernel_2255281/4022667463.py:6: RuntimeWarning: overflow encountered in divide\n",
      "  result[mask] = p[mask] * np.log2(p[mask] / q[mask])\n"
     ]
    },
    {
     "name": "stdout",
     "output_type": "stream",
     "text": [
      "    6 bits KDE KLD = inf bits/sample, proxy_baseline/proxy_adj/target bias: 0.02/0.02/0.04 bits/sample (0.47/0.00 L/R missing support)\n"
     ]
    },
    {
     "name": "stderr",
     "output_type": "stream",
     "text": [
      "/tmp/ipykernel_2255281/4022667463.py:6: RuntimeWarning: overflow encountered in divide\n",
      "  result[mask] = p[mask] * np.log2(p[mask] / q[mask])\n"
     ]
    },
    {
     "name": "stdout",
     "output_type": "stream",
     "text": [
      "    8 bits KDE KLD = inf bits/sample, proxy_baseline/proxy_adj/target bias: 0.06/0.03/0.24 bits/sample (0.47/0.00 L/R missing support)\n"
     ]
    },
    {
     "name": "stderr",
     "output_type": "stream",
     "text": [
      "/tmp/ipykernel_2255281/4022667463.py:6: RuntimeWarning: overflow encountered in divide\n",
      "  result[mask] = p[mask] * np.log2(p[mask] / q[mask])\n"
     ]
    },
    {
     "name": "stdout",
     "output_type": "stream",
     "text": [
      "    10 bits KDE KLD = inf bits/sample, proxy_baseline/proxy_adj/target bias: 0.30/0.03/1.05 bits/sample (0.47/0.00 L/R missing support)\n"
     ]
    },
    {
     "name": "stderr",
     "output_type": "stream",
     "text": [
      "/tmp/ipykernel_2255281/4022667463.py:6: RuntimeWarning: overflow encountered in divide\n",
      "  result[mask] = p[mask] * np.log2(p[mask] / q[mask])\n"
     ]
    },
    {
     "name": "stdout",
     "output_type": "stream",
     "text": [
      "    12 bits KDE KLD = inf bits/sample, proxy_baseline/proxy_adj/target bias: 1.60/0.03/2.69 bits/sample (0.47/0.00 L/R missing support)\n",
      "X1 KDE fit:0.2s, X2 base KDE fit:0.0s, X2 adj. compute KLDs:12.9s\n",
      "Plot saved to KDE_fit_plots/sim_08LG068_using_08GA072.png\n",
      "N=4290 samples, (11.0 years)\n",
      "    4 bits KDE KLD = 0.05 bits/sample, proxy_baseline/proxy_adj/target bias: 0.01/0.00/0.01 bits/sample (0.00/0.00 L/R missing support)\n",
      "    6 bits KDE KLD = 0.05 bits/sample, proxy_baseline/proxy_adj/target bias: 0.02/0.00/0.02 bits/sample (0.00/0.00 L/R missing support)\n",
      "    8 bits KDE KLD = 0.05 bits/sample, proxy_baseline/proxy_adj/target bias: 0.16/0.00/0.24 bits/sample (0.00/0.00 L/R missing support)\n",
      "    10 bits KDE KLD = 0.05 bits/sample, proxy_baseline/proxy_adj/target bias: 0.92/0.00/1.48 bits/sample (0.00/0.00 L/R missing support)\n",
      "    12 bits KDE KLD = 0.05 bits/sample, proxy_baseline/proxy_adj/target bias: 2.57/0.00/3.36 bits/sample (0.00/0.00 L/R missing support)\n",
      "X1 KDE fit:0.2s, X2 base KDE fit:0.0s, X2 adj. compute KLDs:2.8s\n",
      "Plot saved to KDE_fit_plots/sim_14250500_using_12196500.png\n",
      "N=1551 samples, (4.0 years)\n",
      "    4 bits KDE KLD = 1.75 bits/sample, proxy_baseline/proxy_adj/target bias: 0.12/0.01/0.05 bits/sample (0.00/0.07 L/R missing support)\n",
      "    6 bits KDE KLD = 1.67 bits/sample, proxy_baseline/proxy_adj/target bias: 0.16/0.04/0.07 bits/sample (0.00/0.07 L/R missing support)\n",
      "    8 bits KDE KLD = 1.65 bits/sample, proxy_baseline/proxy_adj/target bias: 0.37/0.06/0.35 bits/sample (0.00/0.07 L/R missing support)\n",
      "    10 bits KDE KLD = 1.60 bits/sample, proxy_baseline/proxy_adj/target bias: 1.61/0.08/1.89 bits/sample (0.00/0.07 L/R missing support)\n",
      "    12 bits KDE KLD = 1.56 bits/sample, proxy_baseline/proxy_adj/target bias: 3.60/0.13/3.87 bits/sample (0.00/0.07 L/R missing support)\n",
      "X1 KDE fit:0.2s, X2 base KDE fit:0.0s, X2 adj. compute KLDs:8.7s\n",
      "Plot saved to KDE_fit_plots/sim_12115500_using_08NL008.png\n",
      "N=15672 samples, (43.0 years)\n",
      "    4 bits KDE KLD = 1.73 bits/sample, proxy_baseline/proxy_adj/target bias: 0.00/0.00/0.01 bits/sample (0.00/0.00 L/R missing support)\n",
      "    6 bits KDE KLD = 1.75 bits/sample, proxy_baseline/proxy_adj/target bias: 0.01/0.00/0.02 bits/sample (0.00/0.00 L/R missing support)\n",
      "    8 bits KDE KLD = 1.76 bits/sample, proxy_baseline/proxy_adj/target bias: 0.02/0.00/0.03 bits/sample (0.00/0.00 L/R missing support)\n",
      "    10 bits KDE KLD = 1.76 bits/sample, proxy_baseline/proxy_adj/target bias: 0.17/0.00/0.18 bits/sample (0.00/0.00 L/R missing support)\n",
      "    12 bits KDE KLD = 1.76 bits/sample, proxy_baseline/proxy_adj/target bias: 1.12/0.00/1.46 bits/sample (0.00/0.00 L/R missing support)\n",
      "X1 KDE fit:0.2s, X2 base KDE fit:0.0s, X2 adj. compute KLDs:3.9s\n",
      "Plot saved to KDE_fit_plots/sim_08NE006_using_05CA009.png\n",
      "N=4924 samples, (10.0 years)\n",
      "    4 bits KDE KLD = 2.35 bits/sample, proxy_baseline/proxy_adj/target bias: 0.18/0.00/0.03 bits/sample (0.00/0.00 L/R missing support)\n",
      "    6 bits KDE KLD = 2.36 bits/sample, proxy_baseline/proxy_adj/target bias: 1.20/0.00/0.04 bits/sample (0.00/0.00 L/R missing support)\n",
      "    8 bits KDE KLD = 2.36 bits/sample, proxy_baseline/proxy_adj/target bias: 2.99/0.00/0.10 bits/sample (0.00/0.00 L/R missing support)\n",
      "    10 bits KDE KLD = 2.36 bits/sample, proxy_baseline/proxy_adj/target bias: 4.99/0.00/0.67 bits/sample (0.00/0.00 L/R missing support)\n",
      "    12 bits KDE KLD = 2.36 bits/sample, proxy_baseline/proxy_adj/target bias: 6.99/0.00/2.44 bits/sample (0.00/0.00 L/R missing support)\n",
      "X1 KDE fit:0.2s, X2 base KDE fit:0.0s, X2 adj. compute KLDs:2.8s\n",
      "Plot saved to KDE_fit_plots/sim_08LF051_using_08KH023.png\n",
      "N=1050 samples, (2.0 years)\n",
      "    4 bits KDE KLD = 0.97 bits/sample, proxy_baseline/proxy_adj/target bias: 0.35/0.01/0.05 bits/sample (0.13/0.08 L/R missing support)\n",
      "    6 bits KDE KLD = 0.79 bits/sample, proxy_baseline/proxy_adj/target bias: 0.50/0.03/0.08 bits/sample (0.13/0.08 L/R missing support)\n",
      "    8 bits KDE KLD = 0.64 bits/sample, proxy_baseline/proxy_adj/target bias: 1.13/0.06/0.50 bits/sample (0.13/0.08 L/R missing support)\n",
      "    10 bits KDE KLD = 0.52 bits/sample, proxy_baseline/proxy_adj/target bias: 2.73/0.09/1.68 bits/sample (0.13/0.08 L/R missing support)\n",
      "    12 bits KDE KLD = 0.44 bits/sample, proxy_baseline/proxy_adj/target bias: 4.73/0.12/3.58 bits/sample (0.13/0.08 L/R missing support)\n",
      "X1 KDE fit:0.2s, X2 base KDE fit:0.0s, X2 adj. compute KLDs:11.3s\n",
      "Plot saved to KDE_fit_plots/sim_12015200_using_08NG051.png\n",
      "N=16805 samples, (44.0 years)\n",
      "    4 bits KDE KLD = 2.05 bits/sample, proxy_baseline/proxy_adj/target bias: 0.00/0.00/0.01 bits/sample (0.00/0.00 L/R missing support)\n",
      "    6 bits KDE KLD = 2.07 bits/sample, proxy_baseline/proxy_adj/target bias: 0.01/0.00/0.02 bits/sample (0.00/0.00 L/R missing support)\n",
      "    8 bits KDE KLD = 2.07 bits/sample, proxy_baseline/proxy_adj/target bias: 0.05/0.00/0.04 bits/sample (0.00/0.00 L/R missing support)\n",
      "    10 bits KDE KLD = 2.07 bits/sample, proxy_baseline/proxy_adj/target bias: 0.41/0.00/0.23 bits/sample (0.00/0.00 L/R missing support)\n",
      "    12 bits KDE KLD = 2.07 bits/sample, proxy_baseline/proxy_adj/target bias: 1.74/0.00/1.67 bits/sample (0.00/0.00 L/R missing support)\n",
      "X1 KDE fit:0.2s, X2 base KDE fit:0.0s, X2 adj. compute KLDs:2.9s\n",
      "Plot saved to KDE_fit_plots/sim_08KA001_using_07AG003.png\n",
      "N=12897 samples, (35.0 years)\n",
      "    4 bits KDE KLD = 0.67 bits/sample, proxy_baseline/proxy_adj/target bias: 0.01/0.00/0.01 bits/sample (0.00/0.01 L/R missing support)\n",
      "    6 bits KDE KLD = 0.69 bits/sample, proxy_baseline/proxy_adj/target bias: 0.01/0.00/0.03 bits/sample (0.00/0.01 L/R missing support)\n",
      "    8 bits KDE KLD = 0.69 bits/sample, proxy_baseline/proxy_adj/target bias: 0.04/0.00/0.05 bits/sample (0.00/0.01 L/R missing support)\n",
      "    10 bits KDE KLD = 0.69 bits/sample, proxy_baseline/proxy_adj/target bias: 0.27/0.00/0.29 bits/sample (0.00/0.01 L/R missing support)\n",
      "    12 bits KDE KLD = 0.67 bits/sample, proxy_baseline/proxy_adj/target bias: 1.58/0.00/1.57 bits/sample (0.00/0.01 L/R missing support)\n",
      "X1 KDE fit:0.2s, X2 base KDE fit:0.0s, X2 adj. compute KLDs:6.3s\n",
      "Plot saved to KDE_fit_plots/sim_08EB005_using_08CD001.png\n",
      "N=2438 samples, (5.0 years)\n",
      "    4 bits KDE KLD = 1.26 bits/sample, proxy_baseline/proxy_adj/target bias: 0.07/0.00/0.03 bits/sample (0.00/0.09 L/R missing support)\n",
      "    6 bits KDE KLD = 1.28 bits/sample, proxy_baseline/proxy_adj/target bias: 0.11/0.00/0.08 bits/sample (0.00/0.09 L/R missing support)\n",
      "    8 bits KDE KLD = 1.23 bits/sample, proxy_baseline/proxy_adj/target bias: 0.23/0.01/0.32 bits/sample (0.00/0.09 L/R missing support)\n",
      "    10 bits KDE KLD = 1.19 bits/sample, proxy_baseline/proxy_adj/target bias: 0.97/0.02/1.84 bits/sample (0.00/0.09 L/R missing support)\n",
      "    12 bits KDE KLD = 1.14 bits/sample, proxy_baseline/proxy_adj/target bias: 2.91/0.03/3.83 bits/sample (0.00/0.09 L/R missing support)\n",
      "X1 KDE fit:0.2s, X2 base KDE fit:0.0s, X2 adj. compute KLDs:6.6s\n",
      "Plot saved to KDE_fit_plots/sim_08NE008_using_08KH007.png\n",
      "N=1277 samples, (3.0 years)\n"
     ]
    },
    {
     "name": "stderr",
     "output_type": "stream",
     "text": [
      "/tmp/ipykernel_2255281/4022667463.py:6: RuntimeWarning: overflow encountered in divide\n",
      "  result[mask] = p[mask] * np.log2(p[mask] / q[mask])\n"
     ]
    },
    {
     "name": "stdout",
     "output_type": "stream",
     "text": [
      "    4 bits KDE KLD = inf bits/sample, proxy_baseline/proxy_adj/target bias: 0.09/0.07/0.41 bits/sample (0.46/0.00 L/R missing support)\n"
     ]
    },
    {
     "name": "stderr",
     "output_type": "stream",
     "text": [
      "/tmp/ipykernel_2255281/4022667463.py:6: RuntimeWarning: overflow encountered in divide\n",
      "  result[mask] = p[mask] * np.log2(p[mask] / q[mask])\n"
     ]
    },
    {
     "name": "stdout",
     "output_type": "stream",
     "text": [
      "    6 bits KDE KLD = inf bits/sample, proxy_baseline/proxy_adj/target bias: 0.13/0.09/0.92 bits/sample (0.46/0.00 L/R missing support)\n"
     ]
    },
    {
     "name": "stderr",
     "output_type": "stream",
     "text": [
      "/tmp/ipykernel_2255281/4022667463.py:6: RuntimeWarning: overflow encountered in divide\n",
      "  result[mask] = p[mask] * np.log2(p[mask] / q[mask])\n"
     ]
    },
    {
     "name": "stdout",
     "output_type": "stream",
     "text": [
      "    8 bits KDE KLD = inf bits/sample, proxy_baseline/proxy_adj/target bias: 0.27/0.09/1.78 bits/sample (0.46/0.00 L/R missing support)\n"
     ]
    },
    {
     "name": "stderr",
     "output_type": "stream",
     "text": [
      "/tmp/ipykernel_2255281/4022667463.py:6: RuntimeWarning: overflow encountered in divide\n",
      "  result[mask] = p[mask] * np.log2(p[mask] / q[mask])\n"
     ]
    },
    {
     "name": "stdout",
     "output_type": "stream",
     "text": [
      "    10 bits KDE KLD = inf bits/sample, proxy_baseline/proxy_adj/target bias: 1.04/0.09/3.29 bits/sample (0.46/0.00 L/R missing support)\n"
     ]
    },
    {
     "name": "stderr",
     "output_type": "stream",
     "text": [
      "/tmp/ipykernel_2255281/4022667463.py:6: RuntimeWarning: overflow encountered in divide\n",
      "  result[mask] = p[mask] * np.log2(p[mask] / q[mask])\n"
     ]
    },
    {
     "name": "stdout",
     "output_type": "stream",
     "text": [
      "    12 bits KDE KLD = inf bits/sample, proxy_baseline/proxy_adj/target bias: 2.83/0.09/5.19 bits/sample (0.46/0.00 L/R missing support)\n",
      "X1 KDE fit:0.2s, X2 base KDE fit:0.0s, X2 adj. compute KLDs:11.7s\n",
      "Plot saved to KDE_fit_plots/sim_12197110_using_08GE002.png\n",
      "N=4018 samples, (8.0 years)\n",
      "    4 bits KDE KLD = 0.89 bits/sample, proxy_baseline/proxy_adj/target bias: 0.03/0.00/0.00 bits/sample (0.00/0.00 L/R missing support)\n",
      "    6 bits KDE KLD = 0.90 bits/sample, proxy_baseline/proxy_adj/target bias: 0.28/0.00/0.01 bits/sample (0.00/0.00 L/R missing support)\n",
      "    8 bits KDE KLD = 0.90 bits/sample, proxy_baseline/proxy_adj/target bias: 0.85/0.00/0.06 bits/sample (0.00/0.00 L/R missing support)\n",
      "    10 bits KDE KLD = 0.90 bits/sample, proxy_baseline/proxy_adj/target bias: 1.74/0.00/0.43 bits/sample (0.00/0.00 L/R missing support)\n",
      "    12 bits KDE KLD = 0.90 bits/sample, proxy_baseline/proxy_adj/target bias: 3.21/0.01/1.78 bits/sample (0.00/0.00 L/R missing support)\n",
      "X1 KDE fit:0.2s, X2 base KDE fit:0.0s, X2 adj. compute KLDs:3.4s\n",
      "Plot saved to KDE_fit_plots/sim_12207850_using_08HB032.png\n",
      "N=2415 samples, (5.0 years)\n"
     ]
    },
    {
     "name": "stderr",
     "output_type": "stream",
     "text": [
      "/tmp/ipykernel_2255281/4022667463.py:6: RuntimeWarning: overflow encountered in divide\n",
      "  result[mask] = p[mask] * np.log2(p[mask] / q[mask])\n"
     ]
    },
    {
     "name": "stdout",
     "output_type": "stream",
     "text": [
      "    4 bits KDE KLD = inf bits/sample, proxy_baseline/proxy_adj/target bias: 0.02/0.02/0.03 bits/sample (0.89/0.00 L/R missing support)\n"
     ]
    },
    {
     "name": "stderr",
     "output_type": "stream",
     "text": [
      "/tmp/ipykernel_2255281/4022667463.py:6: RuntimeWarning: overflow encountered in divide\n",
      "  result[mask] = p[mask] * np.log2(p[mask] / q[mask])\n"
     ]
    },
    {
     "name": "stdout",
     "output_type": "stream",
     "text": [
      "    6 bits KDE KLD = inf bits/sample, proxy_baseline/proxy_adj/target bias: 0.07/0.03/0.05 bits/sample (0.89/0.00 L/R missing support)\n"
     ]
    },
    {
     "name": "stderr",
     "output_type": "stream",
     "text": [
      "/tmp/ipykernel_2255281/4022667463.py:6: RuntimeWarning: overflow encountered in divide\n",
      "  result[mask] = p[mask] * np.log2(p[mask] / q[mask])\n"
     ]
    },
    {
     "name": "stdout",
     "output_type": "stream",
     "text": [
      "    8 bits KDE KLD = inf bits/sample, proxy_baseline/proxy_adj/target bias: 1.05/0.03/0.18 bits/sample (0.89/0.00 L/R missing support)\n",
      "    10 bits KDE KLD = 44.92 bits/sample, proxy_baseline/proxy_adj/target bias: 3.01/0.03/1.03 bits/sample (0.89/0.00 L/R missing support)\n",
      "    12 bits KDE KLD = 44.92 bits/sample, proxy_baseline/proxy_adj/target bias: 5.01/0.03/2.88 bits/sample (0.89/0.00 L/R missing support)\n",
      "X1 KDE fit:0.2s, X2 base KDE fit:0.0s, X2 adj. compute KLDs:16.9s\n",
      "Plot saved to KDE_fit_plots/sim_12302000_using_12191800.png\n",
      "N=3124 samples, (8.0 years)\n"
     ]
    },
    {
     "name": "stderr",
     "output_type": "stream",
     "text": [
      "/tmp/ipykernel_2255281/4022667463.py:6: RuntimeWarning: overflow encountered in divide\n",
      "  result[mask] = p[mask] * np.log2(p[mask] / q[mask])\n"
     ]
    },
    {
     "name": "stdout",
     "output_type": "stream",
     "text": [
      "    4 bits KDE KLD = inf bits/sample, proxy_baseline/proxy_adj/target bias: 0.03/0.02/0.05 bits/sample (0.29/0.00 L/R missing support)\n"
     ]
    },
    {
     "name": "stderr",
     "output_type": "stream",
     "text": [
      "/tmp/ipykernel_2255281/4022667463.py:6: RuntimeWarning: overflow encountered in divide\n",
      "  result[mask] = p[mask] * np.log2(p[mask] / q[mask])\n"
     ]
    },
    {
     "name": "stdout",
     "output_type": "stream",
     "text": [
      "    6 bits KDE KLD = inf bits/sample, proxy_baseline/proxy_adj/target bias: 0.06/0.04/1.00 bits/sample (0.29/0.00 L/R missing support)\n"
     ]
    },
    {
     "name": "stderr",
     "output_type": "stream",
     "text": [
      "/tmp/ipykernel_2255281/4022667463.py:6: RuntimeWarning: overflow encountered in divide\n",
      "  result[mask] = p[mask] * np.log2(p[mask] / q[mask])\n"
     ]
    },
    {
     "name": "stdout",
     "output_type": "stream",
     "text": [
      "    8 bits KDE KLD = inf bits/sample, proxy_baseline/proxy_adj/target bias: 0.23/0.04/2.67 bits/sample (0.29/0.00 L/R missing support)\n"
     ]
    },
    {
     "name": "stderr",
     "output_type": "stream",
     "text": [
      "/tmp/ipykernel_2255281/4022667463.py:6: RuntimeWarning: overflow encountered in divide\n",
      "  result[mask] = p[mask] * np.log2(p[mask] / q[mask])\n"
     ]
    },
    {
     "name": "stdout",
     "output_type": "stream",
     "text": [
      "    10 bits KDE KLD = inf bits/sample, proxy_baseline/proxy_adj/target bias: 1.65/0.04/4.65 bits/sample (0.29/0.00 L/R missing support)\n"
     ]
    },
    {
     "name": "stderr",
     "output_type": "stream",
     "text": [
      "/tmp/ipykernel_2255281/4022667463.py:6: RuntimeWarning: overflow encountered in divide\n",
      "  result[mask] = p[mask] * np.log2(p[mask] / q[mask])\n"
     ]
    },
    {
     "name": "stdout",
     "output_type": "stream",
     "text": [
      "    12 bits KDE KLD = inf bits/sample, proxy_baseline/proxy_adj/target bias: 3.62/0.04/6.65 bits/sample (0.29/0.00 L/R missing support)\n",
      "X1 KDE fit:0.2s, X2 base KDE fit:0.0s, X2 adj. compute KLDs:12.5s\n",
      "Plot saved to KDE_fit_plots/sim_08LG055_using_08KC003.png\n",
      "N=10659 samples, (26.0 years)\n"
     ]
    },
    {
     "name": "stderr",
     "output_type": "stream",
     "text": [
      "/tmp/ipykernel_2255281/4022667463.py:6: RuntimeWarning: overflow encountered in divide\n",
      "  result[mask] = p[mask] * np.log2(p[mask] / q[mask])\n"
     ]
    },
    {
     "name": "stdout",
     "output_type": "stream",
     "text": [
      "    4 bits KDE KLD = inf bits/sample, proxy_baseline/proxy_adj/target bias: 0.00/0.09/0.01 bits/sample (0.03/0.03 L/R missing support)\n"
     ]
    },
    {
     "name": "stderr",
     "output_type": "stream",
     "text": [
      "/tmp/ipykernel_2255281/4022667463.py:6: RuntimeWarning: overflow encountered in divide\n",
      "  result[mask] = p[mask] * np.log2(p[mask] / q[mask])\n"
     ]
    },
    {
     "name": "stdout",
     "output_type": "stream",
     "text": [
      "    6 bits KDE KLD = inf bits/sample, proxy_baseline/proxy_adj/target bias: 0.02/0.13/0.02 bits/sample (0.03/0.03 L/R missing support)\n"
     ]
    },
    {
     "name": "stderr",
     "output_type": "stream",
     "text": [
      "/tmp/ipykernel_2255281/4022667463.py:6: RuntimeWarning: overflow encountered in divide\n",
      "  result[mask] = p[mask] * np.log2(p[mask] / q[mask])\n"
     ]
    },
    {
     "name": "stdout",
     "output_type": "stream",
     "text": [
      "    8 bits KDE KLD = inf bits/sample, proxy_baseline/proxy_adj/target bias: 0.26/0.14/0.05 bits/sample (0.03/0.03 L/R missing support)\n"
     ]
    },
    {
     "name": "stderr",
     "output_type": "stream",
     "text": [
      "/tmp/ipykernel_2255281/4022667463.py:6: RuntimeWarning: overflow encountered in divide\n",
      "  result[mask] = p[mask] * np.log2(p[mask] / q[mask])\n"
     ]
    },
    {
     "name": "stdout",
     "output_type": "stream",
     "text": [
      "    10 bits KDE KLD = inf bits/sample, proxy_baseline/proxy_adj/target bias: 0.94/0.14/0.20 bits/sample (0.03/0.03 L/R missing support)\n",
      "    12 bits KDE KLD = 1.62 bits/sample, proxy_baseline/proxy_adj/target bias: 2.58/0.16/0.88 bits/sample (0.03/0.03 L/R missing support)\n",
      "X1 KDE fit:0.2s, X2 base KDE fit:0.0s, X2 adj. compute KLDs:20.0s\n",
      "Plot saved to KDE_fit_plots/sim_12392155_using_12330000.png\n",
      "N=19499 samples, (47.0 years)\n",
      "    4 bits KDE KLD = 1.17 bits/sample, proxy_baseline/proxy_adj/target bias: 0.01/0.18/0.00 bits/sample (0.00/0.29 L/R missing support)\n",
      "    6 bits KDE KLD = 1.11 bits/sample, proxy_baseline/proxy_adj/target bias: 0.01/0.21/0.00 bits/sample (0.00/0.29 L/R missing support)\n",
      "    8 bits KDE KLD = 1.04 bits/sample, proxy_baseline/proxy_adj/target bias: 0.04/0.25/0.02 bits/sample (0.00/0.29 L/R missing support)\n",
      "    10 bits KDE KLD = 0.99 bits/sample, proxy_baseline/proxy_adj/target bias: 0.45/0.29/0.19 bits/sample (0.00/0.29 L/R missing support)\n",
      "    12 bits KDE KLD = 0.95 bits/sample, proxy_baseline/proxy_adj/target bias: 1.86/0.33/1.31 bits/sample (0.00/0.29 L/R missing support)\n",
      "X1 KDE fit:0.2s, X2 base KDE fit:0.0s, X2 adj. compute KLDs:26.1s\n",
      "Plot saved to KDE_fit_plots/sim_12142000_using_08MA002.png\n",
      "N=7755 samples, (21.0 years)\n",
      "    4 bits KDE KLD = 2.49 bits/sample, proxy_baseline/proxy_adj/target bias: 0.01/0.13/0.01 bits/sample (0.00/0.27 L/R missing support)\n",
      "    6 bits KDE KLD = 2.34 bits/sample, proxy_baseline/proxy_adj/target bias: 0.02/0.16/0.02 bits/sample (0.00/0.27 L/R missing support)\n",
      "    8 bits KDE KLD = 2.11 bits/sample, proxy_baseline/proxy_adj/target bias: 0.08/0.21/0.04 bits/sample (0.00/0.27 L/R missing support)\n",
      "    10 bits KDE KLD = 1.94 bits/sample, proxy_baseline/proxy_adj/target bias: 0.89/0.26/0.24 bits/sample (0.00/0.27 L/R missing support)\n",
      "    12 bits KDE KLD = 1.70 bits/sample, proxy_baseline/proxy_adj/target bias: 2.71/0.35/1.47 bits/sample (0.00/0.27 L/R missing support)\n",
      "X1 KDE fit:0.2s, X2 base KDE fit:0.0s, X2 adj. compute KLDs:21.2s\n",
      "Plot saved to KDE_fit_plots/sim_12413000_using_08KG003.png\n",
      "N=6838 samples, (12.0 years)\n",
      "    4 bits KDE KLD = 0.77 bits/sample, proxy_baseline/proxy_adj/target bias: 0.01/0.03/0.01 bits/sample (0.07/0.06 L/R missing support)\n",
      "    6 bits KDE KLD = 0.59 bits/sample, proxy_baseline/proxy_adj/target bias: 0.02/0.06/0.04 bits/sample (0.07/0.06 L/R missing support)\n",
      "    8 bits KDE KLD = 0.51 bits/sample, proxy_baseline/proxy_adj/target bias: 0.07/0.08/0.57 bits/sample (0.07/0.06 L/R missing support)\n",
      "    10 bits KDE KLD = 0.40 bits/sample, proxy_baseline/proxy_adj/target bias: 0.70/0.11/2.01 bits/sample (0.07/0.06 L/R missing support)\n",
      "    12 bits KDE KLD = 0.32 bits/sample, proxy_baseline/proxy_adj/target bias: 2.58/0.16/3.91 bits/sample (0.07/0.06 L/R missing support)\n",
      "X1 KDE fit:0.2s, X2 base KDE fit:0.0s, X2 adj. compute KLDs:15.6s\n",
      "Plot saved to KDE_fit_plots/sim_08NM015_using_08KG001.png\n",
      "N=4689 samples, (12.0 years)\n",
      "    4 bits KDE KLD = 0.52 bits/sample, proxy_baseline/proxy_adj/target bias: 0.06/0.00/0.01 bits/sample (0.12/0.00 L/R missing support)\n",
      "    6 bits KDE KLD = 0.55 bits/sample, proxy_baseline/proxy_adj/target bias: 0.10/0.00/0.02 bits/sample (0.12/0.00 L/R missing support)\n",
      "    8 bits KDE KLD = 0.55 bits/sample, proxy_baseline/proxy_adj/target bias: 0.16/0.00/0.06 bits/sample (0.12/0.00 L/R missing support)\n",
      "    10 bits KDE KLD = 0.55 bits/sample, proxy_baseline/proxy_adj/target bias: 0.47/0.00/0.31 bits/sample (0.12/0.00 L/R missing support)\n",
      "    12 bits KDE KLD = 0.55 bits/sample, proxy_baseline/proxy_adj/target bias: 2.05/0.00/1.52 bits/sample (0.12/0.00 L/R missing support)\n",
      "X1 KDE fit:0.2s, X2 base KDE fit:0.0s, X2 adj. compute KLDs:2.5s\n",
      "Plot saved to KDE_fit_plots/sim_12413860_using_08NC004.png\n",
      "N=2333 samples, (5.0 years)\n",
      "    4 bits KDE KLD = 0.87 bits/sample, proxy_baseline/proxy_adj/target bias: 0.05/0.00/0.06 bits/sample (0.00/0.01 L/R missing support)\n",
      "    6 bits KDE KLD = 0.89 bits/sample, proxy_baseline/proxy_adj/target bias: 0.09/0.00/0.15 bits/sample (0.00/0.01 L/R missing support)\n",
      "    8 bits KDE KLD = 0.89 bits/sample, proxy_baseline/proxy_adj/target bias: 0.20/0.00/0.82 bits/sample (0.00/0.01 L/R missing support)\n",
      "    10 bits KDE KLD = 0.88 bits/sample, proxy_baseline/proxy_adj/target bias: 1.07/0.01/2.74 bits/sample (0.00/0.01 L/R missing support)\n",
      "    12 bits KDE KLD = 0.87 bits/sample, proxy_baseline/proxy_adj/target bias: 3.03/0.02/4.74 bits/sample (0.00/0.01 L/R missing support)\n",
      "X1 KDE fit:0.2s, X2 base KDE fit:0.0s, X2 adj. compute KLDs:5.9s\n",
      "Plot saved to KDE_fit_plots/sim_12073500_using_08NF004.png\n",
      "N=15774 samples, (39.0 years)\n",
      "    4 bits KDE KLD = 3.17 bits/sample, proxy_baseline/proxy_adj/target bias: 0.01/0.02/0.00 bits/sample (0.00/0.06 L/R missing support)\n",
      "    6 bits KDE KLD = 2.91 bits/sample, proxy_baseline/proxy_adj/target bias: 0.28/0.04/0.00 bits/sample (0.00/0.06 L/R missing support)\n",
      "    8 bits KDE KLD = 2.73 bits/sample, proxy_baseline/proxy_adj/target bias: 1.31/0.06/0.02 bits/sample (0.00/0.06 L/R missing support)\n",
      "    10 bits KDE KLD = 2.58 bits/sample, proxy_baseline/proxy_adj/target bias: 2.90/0.09/0.24 bits/sample (0.00/0.06 L/R missing support)\n",
      "    12 bits KDE KLD = 2.46 bits/sample, proxy_baseline/proxy_adj/target bias: 4.85/0.13/1.46 bits/sample (0.00/0.06 L/R missing support)\n",
      "X1 KDE fit:0.2s, X2 base KDE fit:0.0s, X2 adj. compute KLDs:18.3s\n",
      "Plot saved to KDE_fit_plots/sim_12150800_using_08LC040.png\n",
      "N=1307 samples, (2.0 years)\n",
      "    4 bits KDE KLD = 5.34 bits/sample, proxy_baseline/proxy_adj/target bias: 0.14/0.04/0.09 bits/sample (0.00/0.54 L/R missing support)\n",
      "    6 bits KDE KLD = 4.67 bits/sample, proxy_baseline/proxy_adj/target bias: 0.76/0.06/0.17 bits/sample (0.00/0.54 L/R missing support)\n",
      "    8 bits KDE KLD = 4.01 bits/sample, proxy_baseline/proxy_adj/target bias: 2.44/0.09/0.85 bits/sample (0.00/0.54 L/R missing support)\n",
      "    10 bits KDE KLD = 3.51 bits/sample, proxy_baseline/proxy_adj/target bias: 4.42/0.11/2.66 bits/sample (0.00/0.54 L/R missing support)\n",
      "    12 bits KDE KLD = 2.94 bits/sample, proxy_baseline/proxy_adj/target bias: 6.42/0.17/4.66 bits/sample (0.00/0.54 L/R missing support)\n",
      "X1 KDE fit:0.2s, X2 base KDE fit:0.0s, X2 adj. compute KLDs:15.1s\n",
      "Plot saved to KDE_fit_plots/sim_12181100_using_08NA055.png\n",
      "N=7152 samples, (19.0 years)\n",
      "    4 bits KDE KLD = 0.01 bits/sample, proxy_baseline/proxy_adj/target bias: 0.02/0.00/0.00 bits/sample (0.01/0.00 L/R missing support)\n",
      "    6 bits KDE KLD = 0.02 bits/sample, proxy_baseline/proxy_adj/target bias: 0.04/0.00/0.01 bits/sample (0.01/0.00 L/R missing support)\n",
      "    8 bits KDE KLD = 0.02 bits/sample, proxy_baseline/proxy_adj/target bias: 0.20/0.01/0.06 bits/sample (0.01/0.00 L/R missing support)\n",
      "    10 bits KDE KLD = 0.02 bits/sample, proxy_baseline/proxy_adj/target bias: 1.11/0.01/0.57 bits/sample (0.01/0.00 L/R missing support)\n",
      "    12 bits KDE KLD = 0.03 bits/sample, proxy_baseline/proxy_adj/target bias: 2.87/0.03/2.05 bits/sample (0.01/0.00 L/R missing support)\n",
      "X1 KDE fit:0.2s, X2 base KDE fit:0.0s, X2 adj. compute KLDs:8.4s\n",
      "Plot saved to KDE_fit_plots/sim_12104500_using_12026000.png\n",
      "N=3715 samples, (8.0 years)\n",
      "    4 bits KDE KLD = 0.21 bits/sample, proxy_baseline/proxy_adj/target bias: 0.02/0.00/0.02 bits/sample (0.05/0.01 L/R missing support)\n",
      "    6 bits KDE KLD = 0.23 bits/sample, proxy_baseline/proxy_adj/target bias: 0.05/0.00/0.04 bits/sample (0.05/0.01 L/R missing support)\n",
      "    8 bits KDE KLD = 0.20 bits/sample, proxy_baseline/proxy_adj/target bias: 0.14/0.00/0.39 bits/sample (0.05/0.01 L/R missing support)\n",
      "    10 bits KDE KLD = 0.18 bits/sample, proxy_baseline/proxy_adj/target bias: 0.92/0.01/1.68 bits/sample (0.05/0.01 L/R missing support)\n",
      "    12 bits KDE KLD = 0.15 bits/sample, proxy_baseline/proxy_adj/target bias: 2.89/0.02/3.62 bits/sample (0.05/0.01 L/R missing support)\n",
      "X1 KDE fit:0.2s, X2 base KDE fit:0.0s, X2 adj. compute KLDs:7.1s\n",
      "Plot saved to KDE_fit_plots/sim_12141000_using_08KH013.png\n",
      "N=8364 samples, (19.0 years)\n",
      "    4 bits KDE KLD = 1.16 bits/sample, proxy_baseline/proxy_adj/target bias: 0.04/0.00/0.01 bits/sample (0.00/0.00 L/R missing support)\n",
      "    6 bits KDE KLD = 1.18 bits/sample, proxy_baseline/proxy_adj/target bias: 0.43/0.00/0.02 bits/sample (0.00/0.00 L/R missing support)\n",
      "    8 bits KDE KLD = 1.18 bits/sample, proxy_baseline/proxy_adj/target bias: 1.53/0.00/0.05 bits/sample (0.00/0.00 L/R missing support)\n",
      "    10 bits KDE KLD = 1.18 bits/sample, proxy_baseline/proxy_adj/target bias: 3.32/0.00/0.38 bits/sample (0.00/0.00 L/R missing support)\n",
      "    12 bits KDE KLD = 1.18 bits/sample, proxy_baseline/proxy_adj/target bias: 5.31/0.00/1.92 bits/sample (0.00/0.00 L/R missing support)\n",
      "X1 KDE fit:0.2s, X2 base KDE fit:0.0s, X2 adj. compute KLDs:2.9s\n",
      "Plot saved to KDE_fit_plots/sim_08KD001_using_08GA061.png\n",
      "N=3348 samples, (7.0 years)\n"
     ]
    },
    {
     "name": "stderr",
     "output_type": "stream",
     "text": [
      "/tmp/ipykernel_2255281/4022667463.py:6: RuntimeWarning: overflow encountered in divide\n",
      "  result[mask] = p[mask] * np.log2(p[mask] / q[mask])\n"
     ]
    },
    {
     "name": "stdout",
     "output_type": "stream",
     "text": [
      "    4 bits KDE KLD = inf bits/sample, proxy_baseline/proxy_adj/target bias: 0.02/0.00/0.01 bits/sample (0.38/0.00 L/R missing support)\n"
     ]
    },
    {
     "name": "stderr",
     "output_type": "stream",
     "text": [
      "/tmp/ipykernel_2255281/4022667463.py:6: RuntimeWarning: overflow encountered in divide\n",
      "  result[mask] = p[mask] * np.log2(p[mask] / q[mask])\n"
     ]
    },
    {
     "name": "stdout",
     "output_type": "stream",
     "text": [
      "    6 bits KDE KLD = inf bits/sample, proxy_baseline/proxy_adj/target bias: 0.06/0.00/0.05 bits/sample (0.38/0.00 L/R missing support)\n"
     ]
    },
    {
     "name": "stderr",
     "output_type": "stream",
     "text": [
      "/tmp/ipykernel_2255281/4022667463.py:6: RuntimeWarning: overflow encountered in divide\n",
      "  result[mask] = p[mask] * np.log2(p[mask] / q[mask])\n"
     ]
    },
    {
     "name": "stdout",
     "output_type": "stream",
     "text": [
      "    8 bits KDE KLD = inf bits/sample, proxy_baseline/proxy_adj/target bias: 0.15/0.00/0.56 bits/sample (0.38/0.00 L/R missing support)\n",
      "    10 bits KDE KLD = 9.19 bits/sample, proxy_baseline/proxy_adj/target bias: 0.95/0.00/2.27 bits/sample (0.38/0.00 L/R missing support)\n"
     ]
    },
    {
     "name": "stderr",
     "output_type": "stream",
     "text": [
      "/tmp/ipykernel_2255281/4022667463.py:6: RuntimeWarning: overflow encountered in divide\n",
      "  result[mask] = p[mask] * np.log2(p[mask] / q[mask])\n"
     ]
    },
    {
     "name": "stdout",
     "output_type": "stream",
     "text": [
      "    12 bits KDE KLD = inf bits/sample, proxy_baseline/proxy_adj/target bias: 2.93/0.00/4.27 bits/sample (0.38/0.00 L/R missing support)\n",
      "X1 KDE fit:0.2s, X2 base KDE fit:0.0s, X2 adj. compute KLDs:7.8s\n",
      "Plot saved to KDE_fit_plots/sim_12153000_using_08KH013.png\n",
      "N=3176 samples, (2.0 years)\n",
      "    4 bits KDE KLD = 1.00 bits/sample, proxy_baseline/proxy_adj/target bias: 0.01/0.00/0.06 bits/sample (0.00/0.00 L/R missing support)\n",
      "    6 bits KDE KLD = 1.01 bits/sample, proxy_baseline/proxy_adj/target bias: 0.07/0.00/0.08 bits/sample (0.00/0.00 L/R missing support)\n",
      "    8 bits KDE KLD = 1.01 bits/sample, proxy_baseline/proxy_adj/target bias: 0.60/0.00/0.17 bits/sample (0.00/0.00 L/R missing support)\n",
      "    10 bits KDE KLD = 1.01 bits/sample, proxy_baseline/proxy_adj/target bias: 2.08/0.00/0.78 bits/sample (0.00/0.00 L/R missing support)\n",
      "    12 bits KDE KLD = 1.01 bits/sample, proxy_baseline/proxy_adj/target bias: 4.07/0.00/2.49 bits/sample (0.00/0.00 L/R missing support)\n",
      "X1 KDE fit:0.2s, X2 base KDE fit:0.0s, X2 adj. compute KLDs:2.9s\n",
      "Plot saved to KDE_fit_plots/sim_10BE007_using_08FF005.png\n",
      "N=2384 samples, (6.0 years)\n",
      "    4 bits KDE KLD = 5.46 bits/sample, proxy_baseline/proxy_adj/target bias: 0.05/0.00/0.04 bits/sample (0.45/0.00 L/R missing support)\n",
      "    6 bits KDE KLD = 5.91 bits/sample, proxy_baseline/proxy_adj/target bias: 0.08/0.00/0.10 bits/sample (0.45/0.00 L/R missing support)\n",
      "    8 bits KDE KLD = 5.95 bits/sample, proxy_baseline/proxy_adj/target bias: 0.14/0.00/0.53 bits/sample (0.45/0.00 L/R missing support)\n",
      "    10 bits KDE KLD = 5.95 bits/sample, proxy_baseline/proxy_adj/target bias: 0.71/0.00/1.73 bits/sample (0.45/0.00 L/R missing support)\n",
      "    12 bits KDE KLD = 5.95 bits/sample, proxy_baseline/proxy_adj/target bias: 2.52/0.00/3.48 bits/sample (0.45/0.00 L/R missing support)\n",
      "X1 KDE fit:0.2s, X2 base KDE fit:0.0s, X2 adj. compute KLDs:2.9s\n",
      "Plot saved to KDE_fit_plots/sim_08MB007_using_08LB077.png\n",
      "N=1688 samples, (2.0 years)\n",
      "    4 bits KDE KLD = 0.79 bits/sample, proxy_baseline/proxy_adj/target bias: 0.08/0.00/0.04 bits/sample (0.00/0.00 L/R missing support)\n",
      "    6 bits KDE KLD = 0.80 bits/sample, proxy_baseline/proxy_adj/target bias: 0.57/0.00/0.08 bits/sample (0.00/0.00 L/R missing support)\n",
      "    8 bits KDE KLD = 0.80 bits/sample, proxy_baseline/proxy_adj/target bias: 1.63/0.00/0.27 bits/sample (0.00/0.00 L/R missing support)\n",
      "    10 bits KDE KLD = 0.80 bits/sample, proxy_baseline/proxy_adj/target bias: 3.32/0.00/1.45 bits/sample (0.00/0.00 L/R missing support)\n",
      "    12 bits KDE KLD = 0.80 bits/sample, proxy_baseline/proxy_adj/target bias: 5.32/0.00/3.41 bits/sample (0.00/0.00 L/R missing support)\n",
      "X1 KDE fit:0.2s, X2 base KDE fit:0.0s, X2 adj. compute KLDs:2.9s\n",
      "Plot saved to KDE_fit_plots/sim_12126500_using_05AD031.png\n",
      "N=842 samples, (2.0 years)\n",
      "    4 bits KDE KLD = 1.43 bits/sample, proxy_baseline/proxy_adj/target bias: 0.16/0.00/0.06 bits/sample (0.23/0.00 L/R missing support)\n",
      "    6 bits KDE KLD = 1.44 bits/sample, proxy_baseline/proxy_adj/target bias: 0.29/0.00/0.14 bits/sample (0.23/0.00 L/R missing support)\n",
      "    8 bits KDE KLD = 1.44 bits/sample, proxy_baseline/proxy_adj/target bias: 0.46/0.00/0.36 bits/sample (0.23/0.00 L/R missing support)\n",
      "    10 bits KDE KLD = 1.44 bits/sample, proxy_baseline/proxy_adj/target bias: 1.48/0.00/1.26 bits/sample (0.23/0.00 L/R missing support)\n",
      "    12 bits KDE KLD = 1.44 bits/sample, proxy_baseline/proxy_adj/target bias: 3.43/0.00/3.19 bits/sample (0.23/0.00 L/R missing support)\n",
      "X1 KDE fit:0.2s, X2 base KDE fit:0.0s, X2 adj. compute KLDs:2.9s\n",
      "Plot saved to KDE_fit_plots/sim_12396500_using_08GA041.png\n",
      "N=2143 samples, (5.0 years)\n",
      "    4 bits KDE KLD = 1.73 bits/sample, proxy_baseline/proxy_adj/target bias: 0.04/0.00/0.02 bits/sample (0.01/0.09 L/R missing support)\n",
      "    6 bits KDE KLD = 1.41 bits/sample, proxy_baseline/proxy_adj/target bias: 0.09/0.05/0.06 bits/sample (0.01/0.09 L/R missing support)\n",
      "    8 bits KDE KLD = 1.35 bits/sample, proxy_baseline/proxy_adj/target bias: 0.18/0.06/0.47 bits/sample (0.01/0.09 L/R missing support)\n",
      "    10 bits KDE KLD = 1.23 bits/sample, proxy_baseline/proxy_adj/target bias: 0.87/0.10/1.98 bits/sample (0.01/0.09 L/R missing support)\n",
      "    12 bits KDE KLD = 1.07 bits/sample, proxy_baseline/proxy_adj/target bias: 2.77/0.15/3.97 bits/sample (0.01/0.09 L/R missing support)\n",
      "X1 KDE fit:0.2s, X2 base KDE fit:0.0s, X2 adj. compute KLDs:11.8s\n",
      "Plot saved to KDE_fit_plots/sim_14248200_using_05BL014.png\n",
      "N=883 samples, (2.0 years)\n",
      "    4 bits KDE KLD = 0.74 bits/sample, proxy_baseline/proxy_adj/target bias: 0.05/0.01/0.05 bits/sample (0.18/0.05 L/R missing support)\n",
      "    6 bits KDE KLD = 0.57 bits/sample, proxy_baseline/proxy_adj/target bias: 0.16/0.03/0.15 bits/sample (0.18/0.05 L/R missing support)\n",
      "    8 bits KDE KLD = 0.48 bits/sample, proxy_baseline/proxy_adj/target bias: 0.78/0.04/0.48 bits/sample (0.18/0.05 L/R missing support)\n",
      "    10 bits KDE KLD = 0.38 bits/sample, proxy_baseline/proxy_adj/target bias: 2.60/0.05/1.54 bits/sample (0.18/0.05 L/R missing support)\n",
      "    12 bits KDE KLD = 0.27 bits/sample, proxy_baseline/proxy_adj/target bias: 4.60/0.08/3.46 bits/sample (0.18/0.05 L/R missing support)\n",
      "X1 KDE fit:0.2s, X2 base KDE fit:0.0s, X2 adj. compute KLDs:13.6s\n",
      "Plot saved to KDE_fit_plots/sim_12026150_using_08MF009.png\n",
      "N=20395 samples, (54.0 years)\n",
      "    4 bits KDE KLD = 1.69 bits/sample, proxy_baseline/proxy_adj/target bias: 0.01/0.23/0.00 bits/sample (0.00/0.22 L/R missing support)\n",
      "    6 bits KDE KLD = 1.60 bits/sample, proxy_baseline/proxy_adj/target bias: 0.02/0.29/0.00 bits/sample (0.00/0.22 L/R missing support)\n",
      "    8 bits KDE KLD = 1.47 bits/sample, proxy_baseline/proxy_adj/target bias: 0.04/0.35/0.02 bits/sample (0.00/0.22 L/R missing support)\n",
      "    10 bits KDE KLD = 1.38 bits/sample, proxy_baseline/proxy_adj/target bias: 0.28/0.40/0.18 bits/sample (0.00/0.22 L/R missing support)\n",
      "    12 bits KDE KLD = 1.32 bits/sample, proxy_baseline/proxy_adj/target bias: 1.88/0.45/1.28 bits/sample (0.00/0.22 L/R missing support)\n",
      "X1 KDE fit:0.2s, X2 base KDE fit:0.0s, X2 adj. compute KLDs:27.1s\n",
      "Plot saved to KDE_fit_plots/sim_12142000_using_08NA002.png\n",
      "N=3229 samples, (6.0 years)\n",
      "    4 bits KDE KLD = 1.01 bits/sample, proxy_baseline/proxy_adj/target bias: 0.11/0.00/0.01 bits/sample (0.00/0.00 L/R missing support)\n",
      "    6 bits KDE KLD = 1.03 bits/sample, proxy_baseline/proxy_adj/target bias: 0.28/0.00/0.06 bits/sample (0.00/0.00 L/R missing support)\n",
      "    8 bits KDE KLD = 1.03 bits/sample, proxy_baseline/proxy_adj/target bias: 0.67/0.00/0.13 bits/sample (0.00/0.00 L/R missing support)\n",
      "    10 bits KDE KLD = 1.03 bits/sample, proxy_baseline/proxy_adj/target bias: 1.49/0.00/0.58 bits/sample (0.00/0.00 L/R missing support)\n",
      "    12 bits KDE KLD = 1.03 bits/sample, proxy_baseline/proxy_adj/target bias: 3.09/0.00/2.42 bits/sample (0.00/0.00 L/R missing support)\n",
      "X1 KDE fit:0.2s, X2 base KDE fit:0.0s, X2 adj. compute KLDs:2.5s\n",
      "Plot saved to KDE_fit_plots/sim_08NP001_using_08HB037.png\n",
      "N=1308 samples, (3.0 years)\n",
      "    4 bits KDE KLD = 0.58 bits/sample, proxy_baseline/proxy_adj/target bias: 0.07/0.00/0.01 bits/sample (0.00/0.00 L/R missing support)\n",
      "    6 bits KDE KLD = 0.60 bits/sample, proxy_baseline/proxy_adj/target bias: 0.13/0.00/0.04 bits/sample (0.00/0.00 L/R missing support)\n",
      "    8 bits KDE KLD = 0.60 bits/sample, proxy_baseline/proxy_adj/target bias: 0.68/0.00/0.88 bits/sample (0.00/0.00 L/R missing support)\n",
      "    10 bits KDE KLD = 0.60 bits/sample, proxy_baseline/proxy_adj/target bias: 2.39/0.00/2.79 bits/sample (0.00/0.00 L/R missing support)\n",
      "    12 bits KDE KLD = 0.60 bits/sample, proxy_baseline/proxy_adj/target bias: 4.39/0.00/4.79 bits/sample (0.00/0.00 L/R missing support)\n",
      "X1 KDE fit:0.2s, X2 base KDE fit:0.0s, X2 adj. compute KLDs:2.8s\n",
      "Plot saved to KDE_fit_plots/sim_12099400_using_12043430.png\n",
      "N=15398 samples, (42.0 years)\n",
      "    4 bits KDE KLD = 0.96 bits/sample, proxy_baseline/proxy_adj/target bias: 0.01/0.00/0.00 bits/sample (0.00/0.00 L/R missing support)\n",
      "    6 bits KDE KLD = 0.99 bits/sample, proxy_baseline/proxy_adj/target bias: 0.01/0.00/0.02 bits/sample (0.00/0.00 L/R missing support)\n",
      "    8 bits KDE KLD = 0.99 bits/sample, proxy_baseline/proxy_adj/target bias: 0.03/0.00/0.05 bits/sample (0.00/0.00 L/R missing support)\n",
      "    10 bits KDE KLD = 0.96 bits/sample, proxy_baseline/proxy_adj/target bias: 0.16/0.02/0.53 bits/sample (0.00/0.00 L/R missing support)\n",
      "    12 bits KDE KLD = 0.90 bits/sample, proxy_baseline/proxy_adj/target bias: 1.47/0.07/2.18 bits/sample (0.00/0.00 L/R missing support)\n",
      "X1 KDE fit:0.2s, X2 base KDE fit:0.0s, X2 adj. compute KLDs:11.0s\n",
      "Plot saved to KDE_fit_plots/sim_12026150_using_08EE020.png\n",
      "N=2157 samples, (4.0 years)\n",
      "    4 bits KDE KLD = 0.46 bits/sample, proxy_baseline/proxy_adj/target bias: 0.08/0.00/0.02 bits/sample (0.00/0.00 L/R missing support)\n",
      "    6 bits KDE KLD = 0.47 bits/sample, proxy_baseline/proxy_adj/target bias: 0.74/0.00/0.13 bits/sample (0.00/0.00 L/R missing support)\n",
      "    8 bits KDE KLD = 0.47 bits/sample, proxy_baseline/proxy_adj/target bias: 2.18/0.00/1.05 bits/sample (0.00/0.00 L/R missing support)\n",
      "    10 bits KDE KLD = 0.47 bits/sample, proxy_baseline/proxy_adj/target bias: 3.97/0.00/2.98 bits/sample (0.00/0.00 L/R missing support)\n",
      "    12 bits KDE KLD = 0.47 bits/sample, proxy_baseline/proxy_adj/target bias: 5.96/0.00/4.98 bits/sample (0.00/0.00 L/R missing support)\n",
      "X1 KDE fit:0.2s, X2 base KDE fit:0.0s, X2 adj. compute KLDs:2.9s\n",
      "Plot saved to KDE_fit_plots/sim_12050500_using_08NJ098.png\n",
      "N=13556 samples, (35.0 years)\n",
      "    4 bits KDE KLD = 0.24 bits/sample, proxy_baseline/proxy_adj/target bias: 0.01/0.00/0.03 bits/sample (0.00/0.00 L/R missing support)\n",
      "    6 bits KDE KLD = 0.26 bits/sample, proxy_baseline/proxy_adj/target bias: 0.11/0.00/0.21 bits/sample (0.00/0.00 L/R missing support)\n",
      "    8 bits KDE KLD = 0.26 bits/sample, proxy_baseline/proxy_adj/target bias: 0.45/0.00/0.80 bits/sample (0.00/0.00 L/R missing support)\n",
      "    10 bits KDE KLD = 0.26 bits/sample, proxy_baseline/proxy_adj/target bias: 1.30/0.00/1.82 bits/sample (0.00/0.00 L/R missing support)\n",
      "    12 bits KDE KLD = 0.26 bits/sample, proxy_baseline/proxy_adj/target bias: 2.74/0.00/3.26 bits/sample (0.00/0.00 L/R missing support)\n",
      "X1 KDE fit:0.2s, X2 base KDE fit:0.0s, X2 adj. compute KLDs:2.6s\n",
      "Plot saved to KDE_fit_plots/sim_10ED003_using_07FD007.png\n",
      "N=6717 samples, (5.0 years)\n",
      "    4 bits KDE KLD = 1.82 bits/sample, proxy_baseline/proxy_adj/target bias: 0.01/0.00/0.03 bits/sample (0.00/0.03 L/R missing support)\n",
      "    6 bits KDE KLD = 1.84 bits/sample, proxy_baseline/proxy_adj/target bias: 0.03/0.00/0.04 bits/sample (0.00/0.03 L/R missing support)\n",
      "    8 bits KDE KLD = 1.79 bits/sample, proxy_baseline/proxy_adj/target bias: 0.05/0.01/0.08 bits/sample (0.00/0.03 L/R missing support)\n",
      "    10 bits KDE KLD = 1.71 bits/sample, proxy_baseline/proxy_adj/target bias: 0.36/0.02/0.39 bits/sample (0.00/0.03 L/R missing support)\n",
      "    12 bits KDE KLD = 1.58 bits/sample, proxy_baseline/proxy_adj/target bias: 1.85/0.05/1.95 bits/sample (0.00/0.03 L/R missing support)\n",
      "X1 KDE fit:0.2s, X2 base KDE fit:0.0s, X2 adj. compute KLDs:11.1s\n",
      "Plot saved to KDE_fit_plots/sim_08NC004_using_05BJ006.png\n",
      "N=5692 samples, (15.0 years)\n",
      "    4 bits KDE KLD = 2.26 bits/sample, proxy_baseline/proxy_adj/target bias: 0.01/0.07/0.01 bits/sample (0.00/0.17 L/R missing support)\n",
      "    6 bits KDE KLD = 1.97 bits/sample, proxy_baseline/proxy_adj/target bias: 0.02/0.13/0.03 bits/sample (0.00/0.17 L/R missing support)\n",
      "    8 bits KDE KLD = 1.86 bits/sample, proxy_baseline/proxy_adj/target bias: 0.09/0.16/0.38 bits/sample (0.00/0.17 L/R missing support)\n",
      "    10 bits KDE KLD = 1.70 bits/sample, proxy_baseline/proxy_adj/target bias: 0.92/0.22/1.54 bits/sample (0.00/0.17 L/R missing support)\n",
      "    12 bits KDE KLD = 1.52 bits/sample, proxy_baseline/proxy_adj/target bias: 2.77/0.30/3.31 bits/sample (0.00/0.17 L/R missing support)\n",
      "X1 KDE fit:0.2s, X2 base KDE fit:0.0s, X2 adj. compute KLDs:19.8s\n",
      "Plot saved to KDE_fit_plots/sim_12127100_using_08KG003.png\n",
      "N=1754 samples, (4.0 years)\n",
      "    4 bits KDE KLD = 0.07 bits/sample, proxy_baseline/proxy_adj/target bias: 0.02/0.00/0.06 bits/sample (0.00/0.02 L/R missing support)\n",
      "    6 bits KDE KLD = 0.08 bits/sample, proxy_baseline/proxy_adj/target bias: 0.06/0.00/0.17 bits/sample (0.00/0.02 L/R missing support)\n",
      "    8 bits KDE KLD = 0.08 bits/sample, proxy_baseline/proxy_adj/target bias: 0.23/0.00/1.23 bits/sample (0.00/0.02 L/R missing support)\n"
     ]
    },
    {
     "name": "stderr",
     "output_type": "stream",
     "text": [
      "E1207 17:49:06.537919 2255281 hlo_lexer.cc:443] Failed to parse int literal: 78715656595445672647\n"
     ]
    },
    {
     "name": "stdout",
     "output_type": "stream",
     "text": [
      "    10 bits KDE KLD = 0.08 bits/sample, proxy_baseline/proxy_adj/target bias: 1.18/0.00/3.12 bits/sample (0.00/0.02 L/R missing support)\n",
      "    12 bits KDE KLD = 0.08 bits/sample, proxy_baseline/proxy_adj/target bias: 3.06/0.00/5.12 bits/sample (0.00/0.02 L/R missing support)\n",
      "X1 KDE fit:0.2s, X2 base KDE fit:0.0s, X2 adj. compute KLDs:2.6s\n",
      "Plot saved to KDE_fit_plots/sim_12413400_using_12392300.png\n",
      "N=5903 samples, (16.0 years)\n",
      "    4 bits KDE KLD = 1.96 bits/sample, proxy_baseline/proxy_adj/target bias: 0.04/0.00/0.03 bits/sample (0.00/0.00 L/R missing support)\n",
      "    6 bits KDE KLD = 1.98 bits/sample, proxy_baseline/proxy_adj/target bias: 0.53/0.00/0.05 bits/sample (0.00/0.00 L/R missing support)\n",
      "    8 bits KDE KLD = 1.98 bits/sample, proxy_baseline/proxy_adj/target bias: 1.89/0.00/0.07 bits/sample (0.00/0.00 L/R missing support)\n",
      "    10 bits KDE KLD = 1.98 bits/sample, proxy_baseline/proxy_adj/target bias: 3.70/0.00/0.28 bits/sample (0.00/0.00 L/R missing support)\n",
      "    12 bits KDE KLD = 1.93 bits/sample, proxy_baseline/proxy_adj/target bias: 5.69/0.00/1.44 bits/sample (0.00/0.00 L/R missing support)\n",
      "X1 KDE fit:0.2s, X2 base KDE fit:0.0s, X2 adj. compute KLDs:3.5s\n",
      "Plot saved to KDE_fit_plots/sim_08CG004_using_07FB005.png\n",
      "N=13404 samples, (36.0 years)\n",
      "    4 bits KDE KLD = 0.04 bits/sample, proxy_baseline/proxy_adj/target bias: 0.00/0.00/0.00 bits/sample (0.00/0.00 L/R missing support)\n",
      "    6 bits KDE KLD = 0.04 bits/sample, proxy_baseline/proxy_adj/target bias: 0.00/0.00/0.01 bits/sample (0.00/0.00 L/R missing support)\n",
      "    8 bits KDE KLD = 0.04 bits/sample, proxy_baseline/proxy_adj/target bias: 0.02/0.00/0.02 bits/sample (0.00/0.00 L/R missing support)\n",
      "    10 bits KDE KLD = 0.04 bits/sample, proxy_baseline/proxy_adj/target bias: 0.15/0.00/0.18 bits/sample (0.00/0.00 L/R missing support)\n",
      "    12 bits KDE KLD = 0.04 bits/sample, proxy_baseline/proxy_adj/target bias: 1.24/0.00/1.45 bits/sample (0.00/0.00 L/R missing support)\n",
      "X1 KDE fit:0.2s, X2 base KDE fit:0.0s, X2 adj. compute KLDs:2.9s\n",
      "Plot saved to KDE_fit_plots/sim_12144500_using_08HB074.png\n",
      "N=13213 samples, (36.0 years)\n",
      "    4 bits KDE KLD = 0.76 bits/sample, proxy_baseline/proxy_adj/target bias: 0.00/0.01/0.00 bits/sample (0.00/0.01 L/R missing support)\n",
      "    6 bits KDE KLD = 0.77 bits/sample, proxy_baseline/proxy_adj/target bias: 0.01/0.02/0.01 bits/sample (0.00/0.01 L/R missing support)\n",
      "    8 bits KDE KLD = 0.76 bits/sample, proxy_baseline/proxy_adj/target bias: 0.07/0.03/0.02 bits/sample (0.00/0.01 L/R missing support)\n",
      "    10 bits KDE KLD = 0.76 bits/sample, proxy_baseline/proxy_adj/target bias: 0.68/0.04/0.24 bits/sample (0.00/0.01 L/R missing support)\n",
      "    12 bits KDE KLD = 0.77 bits/sample, proxy_baseline/proxy_adj/target bias: 2.21/0.06/1.54 bits/sample (0.00/0.01 L/R missing support)\n",
      "X1 KDE fit:0.2s, X2 base KDE fit:0.0s, X2 adj. compute KLDs:14.5s\n",
      "Plot saved to KDE_fit_plots/sim_12147500_using_08KB006.png\n",
      "N=17536 samples, (42.0 years)\n",
      "    4 bits KDE KLD = 4.72 bits/sample, proxy_baseline/proxy_adj/target bias: 0.00/0.01/0.00 bits/sample (0.00/0.02 L/R missing support)\n",
      "    6 bits KDE KLD = 4.55 bits/sample, proxy_baseline/proxy_adj/target bias: 0.01/0.04/0.01 bits/sample (0.00/0.02 L/R missing support)\n",
      "    8 bits KDE KLD = 4.22 bits/sample, proxy_baseline/proxy_adj/target bias: 0.02/0.07/0.02 bits/sample (0.00/0.02 L/R missing support)\n",
      "    10 bits KDE KLD = 3.72 bits/sample, proxy_baseline/proxy_adj/target bias: 0.14/0.13/0.18 bits/sample (0.00/0.02 L/R missing support)\n",
      "    12 bits KDE KLD = 3.08 bits/sample, proxy_baseline/proxy_adj/target bias: 1.16/0.23/1.18 bits/sample (0.00/0.02 L/R missing support)\n",
      "X1 KDE fit:0.2s, X2 base KDE fit:0.0s, X2 adj. compute KLDs:23.0s\n",
      "Plot saved to KDE_fit_plots/sim_08EG012_using_05DC006.png\n",
      "N=2617 samples, (6.0 years)\n",
      "    4 bits KDE KLD = 1.30 bits/sample, proxy_baseline/proxy_adj/target bias: 0.04/0.16/0.01 bits/sample (0.15/0.28 L/R missing support)\n",
      "    6 bits KDE KLD = 0.84 bits/sample, proxy_baseline/proxy_adj/target bias: 0.07/0.24/0.03 bits/sample (0.15/0.28 L/R missing support)\n",
      "    8 bits KDE KLD = 0.74 bits/sample, proxy_baseline/proxy_adj/target bias: 0.20/0.26/0.23 bits/sample (0.15/0.28 L/R missing support)\n",
      "    10 bits KDE KLD = 0.61 bits/sample, proxy_baseline/proxy_adj/target bias: 1.37/0.31/1.36 bits/sample (0.15/0.28 L/R missing support)\n",
      "    12 bits KDE KLD = 0.46 bits/sample, proxy_baseline/proxy_adj/target bias: 3.37/0.37/3.24 bits/sample (0.15/0.28 L/R missing support)\n",
      "X1 KDE fit:0.2s, X2 base KDE fit:0.0s, X2 adj. compute KLDs:19.5s\n",
      "Plot saved to KDE_fit_plots/sim_12010500_using_08LE069.png\n",
      "N=5547 samples, (15.0 years)\n",
      "    4 bits KDE KLD = 0.37 bits/sample, proxy_baseline/proxy_adj/target bias: 0.07/0.00/0.18 bits/sample (0.00/0.01 L/R missing support)\n",
      "    6 bits KDE KLD = 0.37 bits/sample, proxy_baseline/proxy_adj/target bias: 0.76/0.00/0.76 bits/sample (0.00/0.01 L/R missing support)\n",
      "    8 bits KDE KLD = 0.36 bits/sample, proxy_baseline/proxy_adj/target bias: 2.51/0.02/1.69 bits/sample (0.00/0.01 L/R missing support)\n",
      "    10 bits KDE KLD = 0.35 bits/sample, proxy_baseline/proxy_adj/target bias: 4.46/0.02/3.17 bits/sample (0.00/0.01 L/R missing support)\n",
      "    12 bits KDE KLD = 0.33 bits/sample, proxy_baseline/proxy_adj/target bias: 6.46/0.04/5.10 bits/sample (0.00/0.01 L/R missing support)\n",
      "X1 KDE fit:0.2s, X2 base KDE fit:0.0s, X2 adj. compute KLDs:6.3s\n",
      "Plot saved to KDE_fit_plots/sim_12202400_using_08NM241.png\n",
      "N=4565 samples, (11.0 years)\n",
      "    4 bits KDE KLD = 0.57 bits/sample, proxy_baseline/proxy_adj/target bias: 0.01/0.06/0.01 bits/sample (0.00/0.05 L/R missing support)\n",
      "    6 bits KDE KLD = 0.44 bits/sample, proxy_baseline/proxy_adj/target bias: 0.11/0.17/0.05 bits/sample (0.00/0.05 L/R missing support)\n",
      "    MAX BANDWIDTH EXCEEDED.\n",
      "    8 bits KDE KLD = 0.93 bits/sample, proxy_baseline/proxy_adj/target bias: 0.96/0.23/0.61 bits/sample (0.00/0.05 L/R missing support)\n",
      "    MAX BANDWIDTH EXCEEDED.\n",
      "    10 bits KDE KLD = 0.93 bits/sample, proxy_baseline/proxy_adj/target bias: 2.89/0.23/2.34 bits/sample (0.00/0.05 L/R missing support)\n",
      "    MAX BANDWIDTH EXCEEDED.\n",
      "    12 bits KDE KLD = 0.93 bits/sample, proxy_baseline/proxy_adj/target bias: 4.89/0.23/4.34 bits/sample (0.00/0.05 L/R missing support)\n",
      "X1 KDE fit:0.2s, X2 base KDE fit:0.0s, X2 adj. compute KLDs:22.9s\n",
      "Plot saved to KDE_fit_plots/sim_12449600_using_12407500.png\n",
      "N=1977 samples, (4.0 years)\n"
     ]
    },
    {
     "name": "stderr",
     "output_type": "stream",
     "text": [
      "/tmp/ipykernel_2255281/4022667463.py:6: RuntimeWarning: overflow encountered in divide\n",
      "  result[mask] = p[mask] * np.log2(p[mask] / q[mask])\n"
     ]
    },
    {
     "name": "stdout",
     "output_type": "stream",
     "text": [
      "    4 bits KDE KLD = inf bits/sample, proxy_baseline/proxy_adj/target bias: 0.01/0.00/0.04 bits/sample (0.71/0.00 L/R missing support)\n"
     ]
    },
    {
     "name": "stderr",
     "output_type": "stream",
     "text": [
      "/tmp/ipykernel_2255281/4022667463.py:6: RuntimeWarning: overflow encountered in divide\n",
      "  result[mask] = p[mask] * np.log2(p[mask] / q[mask])\n"
     ]
    },
    {
     "name": "stdout",
     "output_type": "stream",
     "text": [
      "    6 bits KDE KLD = inf bits/sample, proxy_baseline/proxy_adj/target bias: 0.02/0.01/0.07 bits/sample (0.71/0.00 L/R missing support)\n"
     ]
    },
    {
     "name": "stderr",
     "output_type": "stream",
     "text": [
      "/tmp/ipykernel_2255281/4022667463.py:6: RuntimeWarning: overflow encountered in divide\n",
      "  result[mask] = p[mask] * np.log2(p[mask] / q[mask])\n"
     ]
    },
    {
     "name": "stdout",
     "output_type": "stream",
     "text": [
      "    8 bits KDE KLD = inf bits/sample, proxy_baseline/proxy_adj/target bias: 0.13/0.01/0.19 bits/sample (0.71/0.00 L/R missing support)\n"
     ]
    },
    {
     "name": "stderr",
     "output_type": "stream",
     "text": [
      "/tmp/ipykernel_2255281/4022667463.py:6: RuntimeWarning: overflow encountered in divide\n",
      "  result[mask] = p[mask] * np.log2(p[mask] / q[mask])\n"
     ]
    },
    {
     "name": "stdout",
     "output_type": "stream",
     "text": [
      "    10 bits KDE KLD = inf bits/sample, proxy_baseline/proxy_adj/target bias: 1.00/0.01/0.79 bits/sample (0.71/0.00 L/R missing support)\n"
     ]
    },
    {
     "name": "stderr",
     "output_type": "stream",
     "text": [
      "/tmp/ipykernel_2255281/4022667463.py:6: RuntimeWarning: overflow encountered in divide\n",
      "  result[mask] = p[mask] * np.log2(p[mask] / q[mask])\n"
     ]
    },
    {
     "name": "stdout",
     "output_type": "stream",
     "text": [
      "    12 bits KDE KLD = inf bits/sample, proxy_baseline/proxy_adj/target bias: 2.85/0.01/2.32 bits/sample (0.71/0.00 L/R missing support)\n",
      "X1 KDE fit:0.2s, X2 base KDE fit:0.0s, X2 adj. compute KLDs:16.2s\n",
      "Plot saved to KDE_fit_plots/sim_12359800_using_12199000.png\n",
      "N=19867 samples, (53.0 years)\n",
      "    4 bits KDE KLD = 0.27 bits/sample, proxy_baseline/proxy_adj/target bias: 0.01/0.08/0.00 bits/sample (0.00/0.06 L/R missing support)\n",
      "    6 bits KDE KLD = 0.25 bits/sample, proxy_baseline/proxy_adj/target bias: 0.01/0.11/0.01 bits/sample (0.00/0.06 L/R missing support)\n",
      "    8 bits KDE KLD = 0.23 bits/sample, proxy_baseline/proxy_adj/target bias: 0.04/0.14/0.13 bits/sample (0.00/0.06 L/R missing support)\n",
      "    10 bits KDE KLD = 0.22 bits/sample, proxy_baseline/proxy_adj/target bias: 0.37/0.17/0.67 bits/sample (0.00/0.06 L/R missing support)\n",
      "    12 bits KDE KLD = 0.22 bits/sample, proxy_baseline/proxy_adj/target bias: 1.73/0.21/2.18 bits/sample (0.00/0.06 L/R missing support)\n",
      "X1 KDE fit:0.2s, X2 base KDE fit:0.0s, X2 adj. compute KLDs:23.9s\n",
      "Plot saved to KDE_fit_plots/sim_12145500_using_08LB064.png\n",
      "N=2556 samples, (6.0 years)\n",
      "    4 bits KDE KLD = 13.23 bits/sample, proxy_baseline/proxy_adj/target bias: 0.02/0.00/0.03 bits/sample (0.63/0.00 L/R missing support)\n",
      "    6 bits KDE KLD = 14.97 bits/sample, proxy_baseline/proxy_adj/target bias: 0.13/0.00/0.05 bits/sample (0.63/0.00 L/R missing support)\n",
      "    8 bits KDE KLD = 15.17 bits/sample, proxy_baseline/proxy_adj/target bias: 1.16/0.00/0.16 bits/sample (0.63/0.00 L/R missing support)\n",
      "    10 bits KDE KLD = 15.18 bits/sample, proxy_baseline/proxy_adj/target bias: 3.10/0.00/0.93 bits/sample (0.63/0.00 L/R missing support)\n",
      "    12 bits KDE KLD = 15.18 bits/sample, proxy_baseline/proxy_adj/target bias: 5.10/0.00/2.76 bits/sample (0.63/0.00 L/R missing support)\n",
      "X1 KDE fit:0.2s, X2 base KDE fit:0.0s, X2 adj. compute KLDs:2.5s\n",
      "Plot saved to KDE_fit_plots/sim_12100500_using_12015100.png\n",
      "N=7074 samples, (18.0 years)\n",
      "    4 bits KDE KLD = 3.15 bits/sample, proxy_baseline/proxy_adj/target bias: 0.01/0.00/0.02 bits/sample (0.00/0.15 L/R missing support)\n",
      "    6 bits KDE KLD = 2.73 bits/sample, proxy_baseline/proxy_adj/target bias: 0.08/0.02/0.10 bits/sample (0.00/0.15 L/R missing support)\n",
      "    8 bits KDE KLD = 2.59 bits/sample, proxy_baseline/proxy_adj/target bias: 0.99/0.03/0.80 bits/sample (0.00/0.15 L/R missing support)\n",
      "    10 bits KDE KLD = 2.46 bits/sample, proxy_baseline/proxy_adj/target bias: 2.57/0.05/2.26 bits/sample (0.00/0.15 L/R missing support)\n",
      "    12 bits KDE KLD = 2.31 bits/sample, proxy_baseline/proxy_adj/target bias: 4.49/0.08/4.19 bits/sample (0.00/0.15 L/R missing support)\n",
      "X1 KDE fit:0.2s, X2 base KDE fit:0.0s, X2 adj. compute KLDs:12.1s\n",
      "Plot saved to KDE_fit_plots/sim_12377150_using_08LE075.png\n",
      "N=23708 samples, (64.0 years)\n",
      "    4 bits KDE KLD = 2.11 bits/sample, proxy_baseline/proxy_adj/target bias: 0.00/0.31/0.01 bits/sample (0.00/0.52 L/R missing support)\n",
      "    6 bits KDE KLD = 1.99 bits/sample, proxy_baseline/proxy_adj/target bias: 0.01/0.34/0.01 bits/sample (0.00/0.52 L/R missing support)\n",
      "    8 bits KDE KLD = 1.75 bits/sample, proxy_baseline/proxy_adj/target bias: 0.04/0.40/0.02 bits/sample (0.00/0.52 L/R missing support)\n",
      "    10 bits KDE KLD = 1.57 bits/sample, proxy_baseline/proxy_adj/target bias: 0.52/0.47/0.15 bits/sample (0.00/0.52 L/R missing support)\n",
      "    MAX BANDWIDTH EXCEEDED.\n",
      "    12 bits KDE KLD = 0.51 bits/sample, proxy_baseline/proxy_adj/target bias: 2.13/0.48/1.28 bits/sample (0.00/0.52 L/R missing support)\n",
      "X1 KDE fit:0.2s, X2 base KDE fit:0.0s, X2 adj. compute KLDs:37.4s\n",
      "Plot saved to KDE_fit_plots/sim_12035000_using_08JE001.png\n",
      "N=5205 samples, (14.0 years)\n"
     ]
    },
    {
     "name": "stderr",
     "output_type": "stream",
     "text": [
      "/tmp/ipykernel_2255281/4022667463.py:6: RuntimeWarning: overflow encountered in divide\n",
      "  result[mask] = p[mask] * np.log2(p[mask] / q[mask])\n"
     ]
    },
    {
     "name": "stdout",
     "output_type": "stream",
     "text": [
      "    4 bits KDE KLD = inf bits/sample, proxy_baseline/proxy_adj/target bias: 0.01/0.09/0.01 bits/sample (0.61/0.00 L/R missing support)\n"
     ]
    },
    {
     "name": "stderr",
     "output_type": "stream",
     "text": [
      "/tmp/ipykernel_2255281/4022667463.py:6: RuntimeWarning: overflow encountered in divide\n",
      "  result[mask] = p[mask] * np.log2(p[mask] / q[mask])\n"
     ]
    },
    {
     "name": "stdout",
     "output_type": "stream",
     "text": [
      "    6 bits KDE KLD = inf bits/sample, proxy_baseline/proxy_adj/target bias: 0.03/0.11/0.04 bits/sample (0.61/0.00 L/R missing support)\n"
     ]
    },
    {
     "name": "stderr",
     "output_type": "stream",
     "text": [
      "/tmp/ipykernel_2255281/4022667463.py:6: RuntimeWarning: overflow encountered in divide\n",
      "  result[mask] = p[mask] * np.log2(p[mask] / q[mask])\n"
     ]
    },
    {
     "name": "stdout",
     "output_type": "stream",
     "text": [
      "    8 bits KDE KLD = inf bits/sample, proxy_baseline/proxy_adj/target bias: 0.08/0.11/0.10 bits/sample (0.61/0.00 L/R missing support)\n"
     ]
    },
    {
     "name": "stderr",
     "output_type": "stream",
     "text": [
      "/tmp/ipykernel_2255281/4022667463.py:6: RuntimeWarning: overflow encountered in divide\n",
      "  result[mask] = p[mask] * np.log2(p[mask] / q[mask])\n"
     ]
    },
    {
     "name": "stdout",
     "output_type": "stream",
     "text": [
      "    10 bits KDE KLD = inf bits/sample, proxy_baseline/proxy_adj/target bias: 0.50/0.12/0.29 bits/sample (0.61/0.00 L/R missing support)\n"
     ]
    },
    {
     "name": "stderr",
     "output_type": "stream",
     "text": [
      "/tmp/ipykernel_2255281/4022667463.py:6: RuntimeWarning: overflow encountered in divide\n",
      "  result[mask] = p[mask] * np.log2(p[mask] / q[mask])\n"
     ]
    },
    {
     "name": "stdout",
     "output_type": "stream",
     "text": [
      "    12 bits KDE KLD = inf bits/sample, proxy_baseline/proxy_adj/target bias: 1.86/0.12/0.95 bits/sample (0.61/0.00 L/R missing support)\n",
      "X1 KDE fit:0.2s, X2 base KDE fit:0.0s, X2 adj. compute KLDs:14.2s\n",
      "Plot saved to KDE_fit_plots/sim_12323840_using_08NB019.png\n",
      "N=3010 samples, (6.0 years)\n",
      "    4 bits KDE KLD = 6.92 bits/sample, proxy_baseline/proxy_adj/target bias: 0.13/0.03/0.00 bits/sample (0.00/0.64 L/R missing support)\n",
      "    6 bits KDE KLD = 6.78 bits/sample, proxy_baseline/proxy_adj/target bias: 1.04/0.06/0.01 bits/sample (0.00/0.64 L/R missing support)\n",
      "    8 bits KDE KLD = 6.38 bits/sample, proxy_baseline/proxy_adj/target bias: 2.93/0.08/0.07 bits/sample (0.00/0.64 L/R missing support)\n",
      "    10 bits KDE KLD = 6.13 bits/sample, proxy_baseline/proxy_adj/target bias: 4.92/0.10/0.49 bits/sample (0.00/0.64 L/R missing support)\n",
      "    12 bits KDE KLD = 5.67 bits/sample, proxy_baseline/proxy_adj/target bias: 6.92/0.16/2.18 bits/sample (0.00/0.64 L/R missing support)\n",
      "X1 KDE fit:0.2s, X2 base KDE fit:0.0s, X2 adj. compute KLDs:12.2s\n",
      "Plot saved to KDE_fit_plots/sim_12101500_using_08LG051.png\n",
      "N=1825 samples, (4.0 years)\n",
      "    4 bits KDE KLD = 0.55 bits/sample, proxy_baseline/proxy_adj/target bias: 0.05/0.00/0.03 bits/sample (0.00/0.00 L/R missing support)\n",
      "    6 bits KDE KLD = 0.55 bits/sample, proxy_baseline/proxy_adj/target bias: 0.68/0.00/0.07 bits/sample (0.00/0.00 L/R missing support)\n",
      "    8 bits KDE KLD = 0.55 bits/sample, proxy_baseline/proxy_adj/target bias: 1.83/0.00/0.18 bits/sample (0.00/0.00 L/R missing support)\n",
      "    10 bits KDE KLD = 0.55 bits/sample, proxy_baseline/proxy_adj/target bias: 3.59/0.00/1.11 bits/sample (0.00/0.00 L/R missing support)\n",
      "    12 bits KDE KLD = 0.55 bits/sample, proxy_baseline/proxy_adj/target bias: 5.57/0.00/2.93 bits/sample (0.00/0.00 L/R missing support)\n",
      "X1 KDE fit:0.2s, X2 base KDE fit:0.0s, X2 adj. compute KLDs:2.5s\n",
      "Plot saved to KDE_fit_plots/sim_12392390_using_08HA016.png\n",
      "N=7490 samples, (17.0 years)\n",
      "    4 bits KDE KLD = 0.95 bits/sample, proxy_baseline/proxy_adj/target bias: 0.02/0.02/0.00 bits/sample (0.00/0.12 L/R missing support)\n",
      "    6 bits KDE KLD = 0.89 bits/sample, proxy_baseline/proxy_adj/target bias: 0.03/0.03/0.02 bits/sample (0.00/0.12 L/R missing support)\n",
      "    8 bits KDE KLD = 0.81 bits/sample, proxy_baseline/proxy_adj/target bias: 0.06/0.05/0.06 bits/sample (0.00/0.12 L/R missing support)\n",
      "    10 bits KDE KLD = 0.77 bits/sample, proxy_baseline/proxy_adj/target bias: 0.52/0.06/0.54 bits/sample (0.00/0.12 L/R missing support)\n",
      "    12 bits KDE KLD = 0.73 bits/sample, proxy_baseline/proxy_adj/target bias: 1.97/0.08/2.09 bits/sample (0.00/0.12 L/R missing support)\n",
      "X1 KDE fit:0.2s, X2 base KDE fit:0.0s, X2 adj. compute KLDs:12.8s\n",
      "Plot saved to KDE_fit_plots/sim_08MG026_using_08MA002.png\n",
      "N=1490 samples, (3.0 years)\n",
      "    4 bits KDE KLD = 0.40 bits/sample, proxy_baseline/proxy_adj/target bias: 0.06/0.00/0.05 bits/sample (0.05/0.00 L/R missing support)\n",
      "    6 bits KDE KLD = 0.42 bits/sample, proxy_baseline/proxy_adj/target bias: 0.24/0.00/0.50 bits/sample (0.05/0.00 L/R missing support)\n",
      "    8 bits KDE KLD = 0.42 bits/sample, proxy_baseline/proxy_adj/target bias: 1.04/0.00/1.55 bits/sample (0.05/0.00 L/R missing support)\n",
      "    10 bits KDE KLD = 0.42 bits/sample, proxy_baseline/proxy_adj/target bias: 2.82/0.00/3.44 bits/sample (0.05/0.00 L/R missing support)\n",
      "    12 bits KDE KLD = 0.42 bits/sample, proxy_baseline/proxy_adj/target bias: 4.82/0.00/5.44 bits/sample (0.05/0.00 L/R missing support)\n",
      "X1 KDE fit:0.2s, X2 base KDE fit:0.0s, X2 adj. compute KLDs:2.7s\n",
      "Plot saved to KDE_fit_plots/sim_12058500_using_05014000.png\n",
      "N=14568 samples, (37.0 years)\n",
      "    4 bits KDE KLD = 1.03 bits/sample, proxy_baseline/proxy_adj/target bias: 0.00/0.00/0.00 bits/sample (0.00/0.01 L/R missing support)\n",
      "    6 bits KDE KLD = 0.92 bits/sample, proxy_baseline/proxy_adj/target bias: 0.00/0.01/0.02 bits/sample (0.00/0.01 L/R missing support)\n",
      "    8 bits KDE KLD = 0.77 bits/sample, proxy_baseline/proxy_adj/target bias: 0.02/0.02/0.26 bits/sample (0.00/0.01 L/R missing support)\n",
      "    10 bits KDE KLD = 0.63 bits/sample, proxy_baseline/proxy_adj/target bias: 0.28/0.04/1.13 bits/sample (0.00/0.01 L/R missing support)\n",
      "    12 bits KDE KLD = 0.44 bits/sample, proxy_baseline/proxy_adj/target bias: 1.58/0.08/2.88 bits/sample (0.00/0.01 L/R missing support)\n",
      "X1 KDE fit:0.2s, X2 base KDE fit:0.0s, X2 adj. compute KLDs:23.9s\n",
      "Plot saved to KDE_fit_plots/sim_12145500_using_12098500.png\n",
      "N=1918 samples, (5.0 years)\n"
     ]
    },
    {
     "name": "stderr",
     "output_type": "stream",
     "text": [
      "/tmp/ipykernel_2255281/4022667463.py:6: RuntimeWarning: overflow encountered in divide\n",
      "  result[mask] = p[mask] * np.log2(p[mask] / q[mask])\n"
     ]
    },
    {
     "name": "stdout",
     "output_type": "stream",
     "text": [
      "    4 bits KDE KLD = inf bits/sample, proxy_baseline/proxy_adj/target bias: 0.08/0.00/0.02 bits/sample (0.82/0.00 L/R missing support)\n"
     ]
    },
    {
     "name": "stderr",
     "output_type": "stream",
     "text": [
      "/tmp/ipykernel_2255281/4022667463.py:6: RuntimeWarning: overflow encountered in divide\n",
      "  result[mask] = p[mask] * np.log2(p[mask] / q[mask])\n"
     ]
    },
    {
     "name": "stdout",
     "output_type": "stream",
     "text": [
      "    6 bits KDE KLD = inf bits/sample, proxy_baseline/proxy_adj/target bias: 0.11/0.01/0.06 bits/sample (0.82/0.00 L/R missing support)\n"
     ]
    },
    {
     "name": "stderr",
     "output_type": "stream",
     "text": [
      "/tmp/ipykernel_2255281/4022667463.py:6: RuntimeWarning: overflow encountered in divide\n",
      "  result[mask] = p[mask] * np.log2(p[mask] / q[mask])\n"
     ]
    },
    {
     "name": "stdout",
     "output_type": "stream",
     "text": [
      "    8 bits KDE KLD = inf bits/sample, proxy_baseline/proxy_adj/target bias: 0.20/0.01/0.21 bits/sample (0.82/0.00 L/R missing support)\n"
     ]
    },
    {
     "name": "stderr",
     "output_type": "stream",
     "text": [
      "/tmp/ipykernel_2255281/4022667463.py:6: RuntimeWarning: overflow encountered in divide\n",
      "  result[mask] = p[mask] * np.log2(p[mask] / q[mask])\n"
     ]
    },
    {
     "name": "stdout",
     "output_type": "stream",
     "text": [
      "    10 bits KDE KLD = inf bits/sample, proxy_baseline/proxy_adj/target bias: 0.74/0.01/0.76 bits/sample (0.82/0.00 L/R missing support)\n",
      "    12 bits KDE KLD = 24.43 bits/sample, proxy_baseline/proxy_adj/target bias: 2.50/0.01/2.21 bits/sample (0.82/0.00 L/R missing support)\n",
      "X1 KDE fit:0.2s, X2 base KDE fit:0.0s, X2 adj. compute KLDs:7.6s\n",
      "Plot saved to KDE_fit_plots/sim_12445900_using_08EE005.png\n",
      "N=1633 samples, (3.0 years)\n",
      "    4 bits KDE KLD = 1.97 bits/sample, proxy_baseline/proxy_adj/target bias: 0.15/0.00/0.30 bits/sample (0.00/0.00 L/R missing support)\n",
      "    6 bits KDE KLD = 1.98 bits/sample, proxy_baseline/proxy_adj/target bias: 0.33/0.00/1.20 bits/sample (0.00/0.00 L/R missing support)\n",
      "    8 bits KDE KLD = 1.98 bits/sample, proxy_baseline/proxy_adj/target bias: 0.61/0.00/2.72 bits/sample (0.00/0.00 L/R missing support)\n",
      "    10 bits KDE KLD = 1.98 bits/sample, proxy_baseline/proxy_adj/target bias: 1.25/0.00/4.54 bits/sample (0.00/0.00 L/R missing support)\n",
      "    12 bits KDE KLD = 1.98 bits/sample, proxy_baseline/proxy_adj/target bias: 2.78/0.00/6.53 bits/sample (0.00/0.00 L/R missing support)\n",
      "X1 KDE fit:0.2s, X2 base KDE fit:0.0s, X2 adj. compute KLDs:2.9s\n",
      "Plot saved to KDE_fit_plots/sim_08LE092_using_08HB037.png\n",
      "N=5646 samples, (15.0 years)\n",
      "    4 bits KDE KLD = 0.39 bits/sample, proxy_baseline/proxy_adj/target bias: 0.00/0.00/0.00 bits/sample (0.00/0.01 L/R missing support)\n",
      "    6 bits KDE KLD = 0.36 bits/sample, proxy_baseline/proxy_adj/target bias: 0.01/0.02/0.01 bits/sample (0.00/0.01 L/R missing support)\n",
      "    8 bits KDE KLD = 0.34 bits/sample, proxy_baseline/proxy_adj/target bias: 0.05/0.02/0.04 bits/sample (0.00/0.01 L/R missing support)\n",
      "    10 bits KDE KLD = 0.31 bits/sample, proxy_baseline/proxy_adj/target bias: 0.29/0.04/0.31 bits/sample (0.00/0.01 L/R missing support)\n",
      "    12 bits KDE KLD = 0.28 bits/sample, proxy_baseline/proxy_adj/target bias: 1.48/0.08/1.64 bits/sample (0.00/0.01 L/R missing support)\n",
      "X1 KDE fit:0.2s, X2 base KDE fit:0.0s, X2 adj. compute KLDs:17.3s\n",
      "Plot saved to KDE_fit_plots/sim_12178100_using_12099200.png\n",
      "N=8710 samples, (22.0 years)\n"
     ]
    },
    {
     "name": "stderr",
     "output_type": "stream",
     "text": [
      "/tmp/ipykernel_2255281/4022667463.py:6: RuntimeWarning: overflow encountered in divide\n",
      "  result[mask] = p[mask] * np.log2(p[mask] / q[mask])\n"
     ]
    },
    {
     "name": "stdout",
     "output_type": "stream",
     "text": [
      "    4 bits KDE KLD = inf bits/sample, proxy_baseline/proxy_adj/target bias: 0.01/0.00/0.01 bits/sample (0.62/0.00 L/R missing support)\n"
     ]
    },
    {
     "name": "stderr",
     "output_type": "stream",
     "text": [
      "/tmp/ipykernel_2255281/4022667463.py:6: RuntimeWarning: overflow encountered in divide\n",
      "  result[mask] = p[mask] * np.log2(p[mask] / q[mask])\n"
     ]
    },
    {
     "name": "stdout",
     "output_type": "stream",
     "text": [
      "    6 bits KDE KLD = inf bits/sample, proxy_baseline/proxy_adj/target bias: 0.02/0.01/0.04 bits/sample (0.62/0.00 L/R missing support)\n"
     ]
    },
    {
     "name": "stderr",
     "output_type": "stream",
     "text": [
      "/tmp/ipykernel_2255281/4022667463.py:6: RuntimeWarning: overflow encountered in divide\n",
      "  result[mask] = p[mask] * np.log2(p[mask] / q[mask])\n"
     ]
    },
    {
     "name": "stdout",
     "output_type": "stream",
     "text": [
      "    8 bits KDE KLD = inf bits/sample, proxy_baseline/proxy_adj/target bias: 0.21/0.01/0.19 bits/sample (0.62/0.00 L/R missing support)\n"
     ]
    },
    {
     "name": "stderr",
     "output_type": "stream",
     "text": [
      "/tmp/ipykernel_2255281/4022667463.py:6: RuntimeWarning: overflow encountered in divide\n",
      "  result[mask] = p[mask] * np.log2(p[mask] / q[mask])\n"
     ]
    },
    {
     "name": "stdout",
     "output_type": "stream",
     "text": [
      "    10 bits KDE KLD = inf bits/sample, proxy_baseline/proxy_adj/target bias: 1.33/0.01/1.22 bits/sample (0.62/0.00 L/R missing support)\n"
     ]
    },
    {
     "name": "stderr",
     "output_type": "stream",
     "text": [
      "/tmp/ipykernel_2255281/4022667463.py:6: RuntimeWarning: overflow encountered in divide\n",
      "  result[mask] = p[mask] * np.log2(p[mask] / q[mask])\n"
     ]
    },
    {
     "name": "stdout",
     "output_type": "stream",
     "text": [
      "    12 bits KDE KLD = inf bits/sample, proxy_baseline/proxy_adj/target bias: 3.15/0.01/2.91 bits/sample (0.62/0.00 L/R missing support)\n",
      "X1 KDE fit:0.2s, X2 base KDE fit:0.0s, X2 adj. compute KLDs:10.6s\n",
      "Plot saved to KDE_fit_plots/sim_12424000_using_12361000.png\n",
      "N=7145 samples, (19.0 years)\n",
      "    4 bits KDE KLD = 0.51 bits/sample, proxy_baseline/proxy_adj/target bias: 0.01/0.00/0.01 bits/sample (0.00/0.00 L/R missing support)\n",
      "    6 bits KDE KLD = 0.52 bits/sample, proxy_baseline/proxy_adj/target bias: 0.24/0.00/0.03 bits/sample (0.00/0.00 L/R missing support)\n",
      "    8 bits KDE KLD = 0.52 bits/sample, proxy_baseline/proxy_adj/target bias: 0.76/0.00/0.06 bits/sample (0.00/0.00 L/R missing support)\n",
      "    10 bits KDE KLD = 0.52 bits/sample, proxy_baseline/proxy_adj/target bias: 1.82/0.00/0.39 bits/sample (0.00/0.00 L/R missing support)\n",
      "    12 bits KDE KLD = 0.52 bits/sample, proxy_baseline/proxy_adj/target bias: 3.52/0.00/1.76 bits/sample (0.00/0.00 L/R missing support)\n",
      "X1 KDE fit:0.2s, X2 base KDE fit:0.0s, X2 adj. compute KLDs:3.5s\n",
      "Plot saved to KDE_fit_plots/sim_08NH119_using_08HE008.png\n",
      "N=9978 samples, (9.0 years)\n",
      "    4 bits KDE KLD = 0.34 bits/sample, proxy_baseline/proxy_adj/target bias: 0.00/0.00/0.01 bits/sample (0.00/0.00 L/R missing support)\n",
      "    6 bits KDE KLD = 0.36 bits/sample, proxy_baseline/proxy_adj/target bias: 0.02/0.00/0.02 bits/sample (0.00/0.00 L/R missing support)\n",
      "    8 bits KDE KLD = 0.36 bits/sample, proxy_baseline/proxy_adj/target bias: 0.21/0.00/0.04 bits/sample (0.00/0.00 L/R missing support)\n",
      "    10 bits KDE KLD = 0.35 bits/sample, proxy_baseline/proxy_adj/target bias: 1.38/0.00/0.25 bits/sample (0.00/0.00 L/R missing support)\n",
      "    12 bits KDE KLD = 0.32 bits/sample, proxy_baseline/proxy_adj/target bias: 3.16/0.00/1.32 bits/sample (0.00/0.00 L/R missing support)\n",
      "X1 KDE fit:0.2s, X2 base KDE fit:0.0s, X2 adj. compute KLDs:6.5s\n",
      "Plot saved to KDE_fit_plots/sim_12359800_using_08NG076.png\n",
      "N=1934 samples, (5.0 years)\n",
      "    4 bits KDE KLD = 0.93 bits/sample, proxy_baseline/proxy_adj/target bias: 0.03/0.00/0.41 bits/sample (0.06/0.00 L/R missing support)\n",
      "    6 bits KDE KLD = 0.97 bits/sample, proxy_baseline/proxy_adj/target bias: 0.06/0.00/1.59 bits/sample (0.06/0.00 L/R missing support)\n",
      "    8 bits KDE KLD = 0.97 bits/sample, proxy_baseline/proxy_adj/target bias: 0.16/0.00/3.41 bits/sample (0.06/0.00 L/R missing support)\n",
      "    10 bits KDE KLD = 0.97 bits/sample, proxy_baseline/proxy_adj/target bias: 0.77/0.00/5.41 bits/sample (0.06/0.00 L/R missing support)\n",
      "    12 bits KDE KLD = 0.97 bits/sample, proxy_baseline/proxy_adj/target bias: 2.65/0.00/7.41 bits/sample (0.06/0.00 L/R missing support)\n",
      "X1 KDE fit:0.2s, X2 base KDE fit:0.0s, X2 adj. compute KLDs:3.0s\n",
      "Plot saved to KDE_fit_plots/sim_08NJ129_using_08EF004.png\n",
      "N=18720 samples, (51.0 years)\n",
      "    4 bits KDE KLD = 0.34 bits/sample, proxy_baseline/proxy_adj/target bias: 0.01/0.00/0.00 bits/sample (0.00/0.00 L/R missing support)\n",
      "    6 bits KDE KLD = 0.36 bits/sample, proxy_baseline/proxy_adj/target bias: 0.01/0.00/0.01 bits/sample (0.00/0.00 L/R missing support)\n",
      "    8 bits KDE KLD = 0.36 bits/sample, proxy_baseline/proxy_adj/target bias: 0.07/0.00/0.02 bits/sample (0.00/0.00 L/R missing support)\n",
      "    10 bits KDE KLD = 0.36 bits/sample, proxy_baseline/proxy_adj/target bias: 0.49/0.00/0.32 bits/sample (0.00/0.00 L/R missing support)\n",
      "    12 bits KDE KLD = 0.36 bits/sample, proxy_baseline/proxy_adj/target bias: 1.92/0.00/1.75 bits/sample (0.00/0.00 L/R missing support)\n",
      "X1 KDE fit:0.0s, X2 base KDE fit:0.0s, X2 adj. compute KLDs:1.8s\n",
      "Plot saved to KDE_fit_plots/sim_12175500_using_12025700.png\n",
      "N=1582 samples, (3.0 years)\n"
     ]
    },
    {
     "name": "stderr",
     "output_type": "stream",
     "text": [
      "/tmp/ipykernel_2255281/4022667463.py:6: RuntimeWarning: overflow encountered in divide\n",
      "  result[mask] = p[mask] * np.log2(p[mask] / q[mask])\n"
     ]
    },
    {
     "name": "stdout",
     "output_type": "stream",
     "text": [
      "    4 bits KDE KLD = inf bits/sample, proxy_baseline/proxy_adj/target bias: 0.03/0.02/1.22 bits/sample (0.99/0.00 L/R missing support)\n"
     ]
    },
    {
     "name": "stderr",
     "output_type": "stream",
     "text": [
      "/tmp/ipykernel_2255281/4022667463.py:6: RuntimeWarning: overflow encountered in divide\n",
      "  result[mask] = p[mask] * np.log2(p[mask] / q[mask])\n"
     ]
    },
    {
     "name": "stdout",
     "output_type": "stream",
     "text": [
      "    6 bits KDE KLD = inf bits/sample, proxy_baseline/proxy_adj/target bias: 0.07/0.03/2.90 bits/sample (0.99/0.00 L/R missing support)\n"
     ]
    },
    {
     "name": "stderr",
     "output_type": "stream",
     "text": [
      "/tmp/ipykernel_2255281/4022667463.py:6: RuntimeWarning: overflow encountered in divide\n",
      "  result[mask] = p[mask] * np.log2(p[mask] / q[mask])\n"
     ]
    },
    {
     "name": "stdout",
     "output_type": "stream",
     "text": [
      "    8 bits KDE KLD = inf bits/sample, proxy_baseline/proxy_adj/target bias: 0.56/0.03/4.86 bits/sample (0.99/0.00 L/R missing support)\n"
     ]
    },
    {
     "name": "stderr",
     "output_type": "stream",
     "text": [
      "/tmp/ipykernel_2255281/4022667463.py:6: RuntimeWarning: overflow encountered in divide\n",
      "  result[mask] = p[mask] * np.log2(p[mask] / q[mask])\n"
     ]
    },
    {
     "name": "stdout",
     "output_type": "stream",
     "text": [
      "    10 bits KDE KLD = inf bits/sample, proxy_baseline/proxy_adj/target bias: 2.07/0.03/6.86 bits/sample (0.99/0.00 L/R missing support)\n"
     ]
    },
    {
     "name": "stderr",
     "output_type": "stream",
     "text": [
      "/tmp/ipykernel_2255281/4022667463.py:6: RuntimeWarning: overflow encountered in divide\n",
      "  result[mask] = p[mask] * np.log2(p[mask] / q[mask])\n"
     ]
    },
    {
     "name": "stdout",
     "output_type": "stream",
     "text": [
      "    12 bits KDE KLD = inf bits/sample, proxy_baseline/proxy_adj/target bias: 4.06/0.03/8.86 bits/sample (0.99/0.00 L/R missing support)\n",
      "X1 KDE fit:0.2s, X2 base KDE fit:0.0s, X2 adj. compute KLDs:9.8s\n",
      "Plot saved to KDE_fit_plots/sim_12091050_using_12015500.png\n",
      "N=25202 samples, (69.0 years)\n"
     ]
    },
    {
     "name": "stderr",
     "output_type": "stream",
     "text": [
      "/tmp/ipykernel_2255281/4022667463.py:6: RuntimeWarning: overflow encountered in divide\n",
      "  result[mask] = p[mask] * np.log2(p[mask] / q[mask])\n"
     ]
    },
    {
     "name": "stdout",
     "output_type": "stream",
     "text": [
      "    4 bits KDE KLD = inf bits/sample, proxy_baseline/proxy_adj/target bias: 0.00/0.00/0.00 bits/sample (0.38/0.00 L/R missing support)\n"
     ]
    },
    {
     "name": "stderr",
     "output_type": "stream",
     "text": [
      "/tmp/ipykernel_2255281/4022667463.py:6: RuntimeWarning: overflow encountered in divide\n",
      "  result[mask] = p[mask] * np.log2(p[mask] / q[mask])\n"
     ]
    },
    {
     "name": "stdout",
     "output_type": "stream",
     "text": [
      "    6 bits KDE KLD = inf bits/sample, proxy_baseline/proxy_adj/target bias: 0.00/0.00/0.01 bits/sample (0.38/0.00 L/R missing support)\n"
     ]
    },
    {
     "name": "stderr",
     "output_type": "stream",
     "text": [
      "/tmp/ipykernel_2255281/4022667463.py:6: RuntimeWarning: overflow encountered in divide\n",
      "  result[mask] = p[mask] * np.log2(p[mask] / q[mask])\n"
     ]
    },
    {
     "name": "stdout",
     "output_type": "stream",
     "text": [
      "    8 bits KDE KLD = inf bits/sample, proxy_baseline/proxy_adj/target bias: 0.01/0.00/0.02 bits/sample (0.38/0.00 L/R missing support)\n"
     ]
    },
    {
     "name": "stderr",
     "output_type": "stream",
     "text": [
      "/tmp/ipykernel_2255281/4022667463.py:6: RuntimeWarning: overflow encountered in divide\n",
      "  result[mask] = p[mask] * np.log2(p[mask] / q[mask])\n"
     ]
    },
    {
     "name": "stdout",
     "output_type": "stream",
     "text": [
      "    10 bits KDE KLD = inf bits/sample, proxy_baseline/proxy_adj/target bias: 0.21/0.00/0.15 bits/sample (0.38/0.00 L/R missing support)\n"
     ]
    },
    {
     "name": "stderr",
     "output_type": "stream",
     "text": [
      "/tmp/ipykernel_2255281/4022667463.py:6: RuntimeWarning: overflow encountered in divide\n",
      "  result[mask] = p[mask] * np.log2(p[mask] / q[mask])\n"
     ]
    },
    {
     "name": "stdout",
     "output_type": "stream",
     "text": [
      "    12 bits KDE KLD = inf bits/sample, proxy_baseline/proxy_adj/target bias: 1.19/0.00/1.09 bits/sample (0.38/0.00 L/R missing support)\n",
      "X1 KDE fit:0.0s, X2 base KDE fit:0.0s, X2 adj. compute KLDs:19.4s\n",
      "Plot saved to KDE_fit_plots/sim_12358500_using_12082500.png\n",
      "N=5023 samples, (12.0 years)\n",
      "    4 bits KDE KLD = 0.65 bits/sample, proxy_baseline/proxy_adj/target bias: 0.01/0.00/0.04 bits/sample (0.07/0.00 L/R missing support)\n",
      "    6 bits KDE KLD = 0.79 bits/sample, proxy_baseline/proxy_adj/target bias: 0.03/0.00/0.11 bits/sample (0.07/0.00 L/R missing support)\n",
      "    8 bits KDE KLD = 0.80 bits/sample, proxy_baseline/proxy_adj/target bias: 0.28/0.00/0.20 bits/sample (0.07/0.00 L/R missing support)\n",
      "    10 bits KDE KLD = 0.80 bits/sample, proxy_baseline/proxy_adj/target bias: 1.01/0.00/0.56 bits/sample (0.07/0.00 L/R missing support)\n",
      "    12 bits KDE KLD = 0.80 bits/sample, proxy_baseline/proxy_adj/target bias: 2.60/0.00/1.89 bits/sample (0.07/0.00 L/R missing support)\n",
      "X1 KDE fit:0.2s, X2 base KDE fit:0.0s, X2 adj. compute KLDs:2.6s\n",
      "Plot saved to KDE_fit_plots/sim_12201950_using_08MH076.png\n",
      "N=25202 samples, (69.0 years)\n",
      "    4 bits KDE KLD = 0.93 bits/sample, proxy_baseline/proxy_adj/target bias: 0.00/0.00/0.00 bits/sample (0.05/0.00 L/R missing support)\n",
      "    6 bits KDE KLD = 1.09 bits/sample, proxy_baseline/proxy_adj/target bias: 0.00/0.00/0.01 bits/sample (0.05/0.00 L/R missing support)\n",
      "    8 bits KDE KLD = 0.99 bits/sample, proxy_baseline/proxy_adj/target bias: 0.01/0.00/0.04 bits/sample (0.05/0.00 L/R missing support)\n",
      "    10 bits KDE KLD = 0.88 bits/sample, proxy_baseline/proxy_adj/target bias: 0.21/0.00/0.40 bits/sample (0.05/0.00 L/R missing support)\n",
      "    12 bits KDE KLD = 0.65 bits/sample, proxy_baseline/proxy_adj/target bias: 1.19/0.01/1.83 bits/sample (0.05/0.00 L/R missing support)\n",
      "X1 KDE fit:0.0s, X2 base KDE fit:0.0s, X2 adj. compute KLDs:16.5s\n",
      "Plot saved to KDE_fit_plots/sim_12115000_using_12082500.png\n",
      "N=1095 samples, (2.0 years)\n",
      "    4 bits KDE KLD = 0.68 bits/sample, proxy_baseline/proxy_adj/target bias: 0.07/0.00/0.04 bits/sample (0.00/0.01 L/R missing support)\n",
      "    6 bits KDE KLD = 0.70 bits/sample, proxy_baseline/proxy_adj/target bias: 0.15/0.00/0.07 bits/sample (0.00/0.01 L/R missing support)\n",
      "    8 bits KDE KLD = 0.70 bits/sample, proxy_baseline/proxy_adj/target bias: 0.36/0.00/0.21 bits/sample (0.00/0.01 L/R missing support)\n",
      "    10 bits KDE KLD = 0.70 bits/sample, proxy_baseline/proxy_adj/target bias: 1.43/0.00/0.90 bits/sample (0.00/0.01 L/R missing support)\n",
      "    12 bits KDE KLD = 0.68 bits/sample, proxy_baseline/proxy_adj/target bias: 3.36/0.00/2.51 bits/sample (0.00/0.01 L/R missing support)\n",
      "X1 KDE fit:0.2s, X2 base KDE fit:0.0s, X2 adj. compute KLDs:3.3s\n",
      "Plot saved to KDE_fit_plots/sim_12042500_using_08ND018.png\n",
      "N=3562 samples, (9.0 years)\n"
     ]
    },
    {
     "name": "stderr",
     "output_type": "stream",
     "text": [
      "/tmp/ipykernel_2255281/4022667463.py:6: RuntimeWarning: overflow encountered in divide\n",
      "  result[mask] = p[mask] * np.log2(p[mask] / q[mask])\n"
     ]
    },
    {
     "name": "stdout",
     "output_type": "stream",
     "text": [
      "    4 bits KDE KLD = inf bits/sample, proxy_baseline/proxy_adj/target bias: 0.06/0.13/0.01 bits/sample (0.70/0.00 L/R missing support)\n"
     ]
    },
    {
     "name": "stderr",
     "output_type": "stream",
     "text": [
      "/tmp/ipykernel_2255281/4022667463.py:6: RuntimeWarning: overflow encountered in divide\n",
      "  result[mask] = p[mask] * np.log2(p[mask] / q[mask])\n"
     ]
    },
    {
     "name": "stdout",
     "output_type": "stream",
     "text": [
      "    6 bits KDE KLD = inf bits/sample, proxy_baseline/proxy_adj/target bias: 0.09/0.15/0.03 bits/sample (0.70/0.00 L/R missing support)\n"
     ]
    },
    {
     "name": "stderr",
     "output_type": "stream",
     "text": [
      "/tmp/ipykernel_2255281/4022667463.py:6: RuntimeWarning: overflow encountered in divide\n",
      "  result[mask] = p[mask] * np.log2(p[mask] / q[mask])\n"
     ]
    },
    {
     "name": "stdout",
     "output_type": "stream",
     "text": [
      "    8 bits KDE KLD = inf bits/sample, proxy_baseline/proxy_adj/target bias: 0.14/0.15/0.12 bits/sample (0.70/0.00 L/R missing support)\n"
     ]
    },
    {
     "name": "stderr",
     "output_type": "stream",
     "text": [
      "/tmp/ipykernel_2255281/4022667463.py:6: RuntimeWarning: overflow encountered in divide\n",
      "  result[mask] = p[mask] * np.log2(p[mask] / q[mask])\n"
     ]
    },
    {
     "name": "stdout",
     "output_type": "stream",
     "text": [
      "    10 bits KDE KLD = inf bits/sample, proxy_baseline/proxy_adj/target bias: 0.58/0.16/0.43 bits/sample (0.70/0.00 L/R missing support)\n"
     ]
    },
    {
     "name": "stderr",
     "output_type": "stream",
     "text": [
      "/tmp/ipykernel_2255281/4022667463.py:6: RuntimeWarning: overflow encountered in divide\n",
      "  result[mask] = p[mask] * np.log2(p[mask] / q[mask])\n"
     ]
    },
    {
     "name": "stdout",
     "output_type": "stream",
     "text": [
      "    12 bits KDE KLD = inf bits/sample, proxy_baseline/proxy_adj/target bias: 1.99/0.16/1.61 bits/sample (0.70/0.00 L/R missing support)\n",
      "X1 KDE fit:0.2s, X2 base KDE fit:0.0s, X2 adj. compute KLDs:14.5s\n",
      "Plot saved to KDE_fit_plots/sim_12323710_using_08KA004.png\n",
      "N=3852 samples, (6.0 years)\n",
      "    4 bits KDE KLD = 1.09 bits/sample, proxy_baseline/proxy_adj/target bias: 0.05/0.00/0.01 bits/sample (0.00/0.00 L/R missing support)\n",
      "    6 bits KDE KLD = 1.10 bits/sample, proxy_baseline/proxy_adj/target bias: 0.08/0.01/0.08 bits/sample (0.00/0.00 L/R missing support)\n",
      "    8 bits KDE KLD = 1.09 bits/sample, proxy_baseline/proxy_adj/target bias: 0.18/0.02/1.01 bits/sample (0.00/0.00 L/R missing support)\n",
      "    10 bits KDE KLD = 1.08 bits/sample, proxy_baseline/proxy_adj/target bias: 0.88/0.04/2.97 bits/sample (0.00/0.00 L/R missing support)\n",
      "    12 bits KDE KLD = 1.06 bits/sample, proxy_baseline/proxy_adj/target bias: 2.78/0.06/4.97 bits/sample (0.00/0.00 L/R missing support)\n",
      "X1 KDE fit:0.2s, X2 base KDE fit:0.0s, X2 adj. compute KLDs:8.6s\n",
      "Plot saved to KDE_fit_plots/sim_12191800_using_08KH014.png\n",
      "N=1612 samples, (3.0 years)\n",
      "    4 bits KDE KLD = 0.33 bits/sample, proxy_baseline/proxy_adj/target bias: 0.01/0.00/0.02 bits/sample (0.00/0.00 L/R missing support)\n",
      "    6 bits KDE KLD = 0.34 bits/sample, proxy_baseline/proxy_adj/target bias: 0.05/0.00/0.04 bits/sample (0.00/0.00 L/R missing support)\n",
      "    8 bits KDE KLD = 0.34 bits/sample, proxy_baseline/proxy_adj/target bias: 0.14/0.00/0.14 bits/sample (0.00/0.00 L/R missing support)\n",
      "    10 bits KDE KLD = 0.34 bits/sample, proxy_baseline/proxy_adj/target bias: 0.60/0.00/0.84 bits/sample (0.00/0.00 L/R missing support)\n",
      "    12 bits KDE KLD = 0.34 bits/sample, proxy_baseline/proxy_adj/target bias: 2.37/0.00/2.53 bits/sample (0.00/0.00 L/R missing support)\n",
      "X1 KDE fit:0.2s, X2 base KDE fit:0.0s, X2 adj. compute KLDs:2.9s\n",
      "Plot saved to KDE_fit_plots/sim_12188400_using_08HF004.png\n",
      "N=3912 samples, (10.0 years)\n",
      "    4 bits KDE KLD = 0.44 bits/sample, proxy_baseline/proxy_adj/target bias: 0.01/0.00/0.01 bits/sample (0.05/0.00 L/R missing support)\n",
      "    6 bits KDE KLD = 0.54 bits/sample, proxy_baseline/proxy_adj/target bias: 0.04/0.00/0.05 bits/sample (0.05/0.00 L/R missing support)\n",
      "    8 bits KDE KLD = 0.55 bits/sample, proxy_baseline/proxy_adj/target bias: 0.68/0.00/0.54 bits/sample (0.05/0.00 L/R missing support)\n",
      "    10 bits KDE KLD = 0.55 bits/sample, proxy_baseline/proxy_adj/target bias: 2.49/0.00/2.24 bits/sample (0.05/0.00 L/R missing support)\n",
      "    12 bits KDE KLD = 0.55 bits/sample, proxy_baseline/proxy_adj/target bias: 4.49/0.00/4.23 bits/sample (0.05/0.00 L/R missing support)\n",
      "X1 KDE fit:0.2s, X2 base KDE fit:0.0s, X2 adj. compute KLDs:2.6s\n",
      "Plot saved to KDE_fit_plots/sim_12199800_using_12114000.png\n",
      "N=16101 samples, (44.0 years)\n",
      "    4 bits KDE KLD = 0.76 bits/sample, proxy_baseline/proxy_adj/target bias: 0.01/0.25/0.02 bits/sample (0.06/0.15 L/R missing support)\n",
      "    6 bits KDE KLD = 0.59 bits/sample, proxy_baseline/proxy_adj/target bias: 0.02/0.32/0.29 bits/sample (0.06/0.15 L/R missing support)\n",
      "    8 bits KDE KLD = 0.50 bits/sample, proxy_baseline/proxy_adj/target bias: 0.03/0.36/1.06 bits/sample (0.06/0.15 L/R missing support)\n",
      "    10 bits KDE KLD = 0.35 bits/sample, proxy_baseline/proxy_adj/target bias: 0.21/0.44/2.45 bits/sample (0.06/0.15 L/R missing support)\n",
      "    12 bits KDE KLD = 0.29 bits/sample, proxy_baseline/proxy_adj/target bias: 1.50/0.49/4.28 bits/sample (0.06/0.15 L/R missing support)\n",
      "X1 KDE fit:0.2s, X2 base KDE fit:0.0s, X2 adj. compute KLDs:23.7s\n",
      "Plot saved to KDE_fit_plots/sim_08HB048_using_07AD002.png\n",
      "N=2480 samples, (5.0 years)\n",
      "    4 bits KDE KLD = 1.62 bits/sample, proxy_baseline/proxy_adj/target bias: 0.05/0.00/0.09 bits/sample (0.00/0.00 L/R missing support)\n",
      "    6 bits KDE KLD = 1.63 bits/sample, proxy_baseline/proxy_adj/target bias: 0.20/0.00/0.14 bits/sample (0.00/0.00 L/R missing support)\n",
      "    8 bits KDE KLD = 1.63 bits/sample, proxy_baseline/proxy_adj/target bias: 1.27/0.00/0.25 bits/sample (0.00/0.00 L/R missing support)\n",
      "    10 bits KDE KLD = 1.63 bits/sample, proxy_baseline/proxy_adj/target bias: 2.85/0.00/1.04 bits/sample (0.00/0.00 L/R missing support)\n",
      "    12 bits KDE KLD = 1.63 bits/sample, proxy_baseline/proxy_adj/target bias: 4.78/0.00/2.96 bits/sample (0.00/0.00 L/R missing support)\n",
      "X1 KDE fit:0.2s, X2 base KDE fit:0.0s, X2 adj. compute KLDs:2.6s\n",
      "Plot saved to KDE_fit_plots/sim_10BE001_using_08KE029.png\n",
      "N=6024 samples, (14.0 years)\n",
      "    4 bits KDE KLD = 1.50 bits/sample, proxy_baseline/proxy_adj/target bias: 0.01/0.00/0.00 bits/sample (0.01/0.00 L/R missing support)\n",
      "    6 bits KDE KLD = 1.54 bits/sample, proxy_baseline/proxy_adj/target bias: 0.02/0.00/0.02 bits/sample (0.01/0.00 L/R missing support)\n",
      "    8 bits KDE KLD = 1.54 bits/sample, proxy_baseline/proxy_adj/target bias: 0.06/0.00/0.16 bits/sample (0.01/0.00 L/R missing support)\n",
      "    10 bits KDE KLD = 1.54 bits/sample, proxy_baseline/proxy_adj/target bias: 0.48/0.00/0.55 bits/sample (0.01/0.00 L/R missing support)\n",
      "    12 bits KDE KLD = 1.54 bits/sample, proxy_baseline/proxy_adj/target bias: 2.01/0.00/2.31 bits/sample (0.01/0.00 L/R missing support)\n",
      "X1 KDE fit:0.2s, X2 base KDE fit:0.0s, X2 adj. compute KLDs:2.8s\n",
      "Plot saved to KDE_fit_plots/sim_12158032_using_08HF006.png\n",
      "N=1003 samples, (2.0 years)\n",
      "    4 bits KDE KLD = 0.24 bits/sample, proxy_baseline/proxy_adj/target bias: 0.04/0.00/0.10 bits/sample (0.06/0.00 L/R missing support)\n",
      "    6 bits KDE KLD = 0.25 bits/sample, proxy_baseline/proxy_adj/target bias: 0.12/0.00/0.27 bits/sample (0.06/0.00 L/R missing support)\n",
      "    8 bits KDE KLD = 0.25 bits/sample, proxy_baseline/proxy_adj/target bias: 0.91/0.00/1.37 bits/sample (0.06/0.00 L/R missing support)\n",
      "    10 bits KDE KLD = 0.25 bits/sample, proxy_baseline/proxy_adj/target bias: 2.85/0.00/3.18 bits/sample (0.06/0.00 L/R missing support)\n",
      "    12 bits KDE KLD = 0.25 bits/sample, proxy_baseline/proxy_adj/target bias: 4.85/0.00/5.18 bits/sample (0.06/0.00 L/R missing support)\n",
      "X1 KDE fit:0.0s, X2 base KDE fit:0.0s, X2 adj. compute KLDs:2.7s\n",
      "Plot saved to KDE_fit_plots/sim_12356500_using_12196000.png\n",
      "N=5202 samples, (14.0 years)\n",
      "    4 bits KDE KLD = 1.79 bits/sample, proxy_baseline/proxy_adj/target bias: 0.01/0.01/0.01 bits/sample (0.00/0.08 L/R missing support)\n",
      "    6 bits KDE KLD = 1.70 bits/sample, proxy_baseline/proxy_adj/target bias: 0.03/0.02/0.02 bits/sample (0.00/0.08 L/R missing support)\n",
      "    8 bits KDE KLD = 1.65 bits/sample, proxy_baseline/proxy_adj/target bias: 0.13/0.03/0.07 bits/sample (0.00/0.08 L/R missing support)\n",
      "    10 bits KDE KLD = 1.56 bits/sample, proxy_baseline/proxy_adj/target bias: 0.75/0.06/0.54 bits/sample (0.00/0.08 L/R missing support)\n",
      "    12 bits KDE KLD = 1.44 bits/sample, proxy_baseline/proxy_adj/target bias: 2.42/0.10/2.21 bits/sample (0.00/0.08 L/R missing support)\n",
      "X1 KDE fit:0.2s, X2 base KDE fit:0.0s, X2 adj. compute KLDs:12.7s\n",
      "Plot saved to KDE_fit_plots/sim_12456500_using_12323670.png\n",
      "N=2352 samples, (4.0 years)\n",
      "    4 bits KDE KLD = 2.05 bits/sample, proxy_baseline/proxy_adj/target bias: 0.06/0.00/0.01 bits/sample (0.00/0.23 L/R missing support)\n",
      "    6 bits KDE KLD = 1.57 bits/sample, proxy_baseline/proxy_adj/target bias: 0.13/0.06/0.04 bits/sample (0.00/0.23 L/R missing support)\n",
      "    8 bits KDE KLD = 1.52 bits/sample, proxy_baseline/proxy_adj/target bias: 0.57/0.07/0.38 bits/sample (0.00/0.23 L/R missing support)\n",
      "    10 bits KDE KLD = 1.41 bits/sample, proxy_baseline/proxy_adj/target bias: 1.90/0.10/1.62 bits/sample (0.00/0.23 L/R missing support)\n",
      "    12 bits KDE KLD = 1.29 bits/sample, proxy_baseline/proxy_adj/target bias: 3.69/0.14/3.56 bits/sample (0.00/0.23 L/R missing support)\n",
      "X1 KDE fit:0.2s, X2 base KDE fit:0.0s, X2 adj. compute KLDs:9.4s\n",
      "Plot saved to KDE_fit_plots/sim_15052800_using_10EA002.png\n",
      "N=2312 samples, (5.0 years)\n",
      "    4 bits KDE KLD = 0.73 bits/sample, proxy_baseline/proxy_adj/target bias: 0.01/0.00/0.04 bits/sample (0.02/0.00 L/R missing support)\n",
      "    6 bits KDE KLD = 0.73 bits/sample, proxy_baseline/proxy_adj/target bias: 0.03/0.00/0.09 bits/sample (0.02/0.00 L/R missing support)\n",
      "    8 bits KDE KLD = 0.73 bits/sample, proxy_baseline/proxy_adj/target bias: 0.28/0.00/0.88 bits/sample (0.02/0.00 L/R missing support)\n",
      "    10 bits KDE KLD = 0.73 bits/sample, proxy_baseline/proxy_adj/target bias: 1.56/0.00/2.58 bits/sample (0.02/0.00 L/R missing support)\n",
      "    12 bits KDE KLD = 0.73 bits/sample, proxy_baseline/proxy_adj/target bias: 3.49/0.00/4.56 bits/sample (0.02/0.00 L/R missing support)\n",
      "X1 KDE fit:0.2s, X2 base KDE fit:0.0s, X2 adj. compute KLDs:2.9s\n",
      "Plot saved to KDE_fit_plots/sim_12320500_using_12012000.png\n",
      "N=3753 samples, (9.0 years)\n"
     ]
    },
    {
     "name": "stderr",
     "output_type": "stream",
     "text": [
      "/tmp/ipykernel_2255281/4022667463.py:6: RuntimeWarning: overflow encountered in divide\n",
      "  result[mask] = p[mask] * np.log2(p[mask] / q[mask])\n"
     ]
    },
    {
     "name": "stdout",
     "output_type": "stream",
     "text": [
      "    4 bits KDE KLD = inf bits/sample, proxy_baseline/proxy_adj/target bias: 0.00/0.02/0.01 bits/sample (0.34/0.00 L/R missing support)\n"
     ]
    },
    {
     "name": "stderr",
     "output_type": "stream",
     "text": [
      "/tmp/ipykernel_2255281/4022667463.py:6: RuntimeWarning: overflow encountered in divide\n",
      "  result[mask] = p[mask] * np.log2(p[mask] / q[mask])\n"
     ]
    },
    {
     "name": "stdout",
     "output_type": "stream",
     "text": [
      "    6 bits KDE KLD = inf bits/sample, proxy_baseline/proxy_adj/target bias: 0.01/0.03/0.03 bits/sample (0.34/0.00 L/R missing support)\n"
     ]
    },
    {
     "name": "stderr",
     "output_type": "stream",
     "text": [
      "/tmp/ipykernel_2255281/4022667463.py:6: RuntimeWarning: overflow encountered in divide\n",
      "  result[mask] = p[mask] * np.log2(p[mask] / q[mask])\n"
     ]
    },
    {
     "name": "stdout",
     "output_type": "stream",
     "text": [
      "    8 bits KDE KLD = inf bits/sample, proxy_baseline/proxy_adj/target bias: 0.05/0.03/0.41 bits/sample (0.34/0.00 L/R missing support)\n"
     ]
    },
    {
     "name": "stderr",
     "output_type": "stream",
     "text": [
      "/tmp/ipykernel_2255281/4022667463.py:6: RuntimeWarning: overflow encountered in divide\n",
      "  result[mask] = p[mask] * np.log2(p[mask] / q[mask])\n"
     ]
    },
    {
     "name": "stdout",
     "output_type": "stream",
     "text": [
      "    10 bits KDE KLD = inf bits/sample, proxy_baseline/proxy_adj/target bias: 0.44/0.03/1.84 bits/sample (0.34/0.00 L/R missing support)\n",
      "    12 bits KDE KLD = 7.81 bits/sample, proxy_baseline/proxy_adj/target bias: 1.94/0.04/3.83 bits/sample (0.34/0.00 L/R missing support)\n",
      "X1 KDE fit:0.2s, X2 base KDE fit:0.0s, X2 adj. compute KLDs:18.9s\n",
      "Plot saved to KDE_fit_plots/sim_14248200_using_12092000.png\n",
      "N=1145 samples, (2.0 years)\n",
      "    4 bits KDE KLD = 2.76 bits/sample, proxy_baseline/proxy_adj/target bias: 0.82/0.00/0.08 bits/sample (0.67/0.00 L/R missing support)\n",
      "    6 bits KDE KLD = 2.97 bits/sample, proxy_baseline/proxy_adj/target bias: 2.39/0.00/0.14 bits/sample (0.67/0.00 L/R missing support)\n",
      "    8 bits KDE KLD = 2.98 bits/sample, proxy_baseline/proxy_adj/target bias: 4.37/0.00/0.31 bits/sample (0.67/0.00 L/R missing support)\n",
      "    10 bits KDE KLD = 2.98 bits/sample, proxy_baseline/proxy_adj/target bias: 6.37/0.00/1.16 bits/sample (0.67/0.00 L/R missing support)\n",
      "    12 bits KDE KLD = 2.98 bits/sample, proxy_baseline/proxy_adj/target bias: 8.37/0.00/3.11 bits/sample (0.67/0.00 L/R missing support)\n",
      "X1 KDE fit:0.2s, X2 base KDE fit:0.0s, X2 adj. compute KLDs:2.5s\n",
      "Plot saved to KDE_fit_plots/sim_12353000_using_08NH109.png\n",
      "N=15094 samples, (41.0 years)\n",
      "    4 bits KDE KLD = 0.72 bits/sample, proxy_baseline/proxy_adj/target bias: 0.00/0.00/0.00 bits/sample (0.00/0.00 L/R missing support)\n",
      "    6 bits KDE KLD = 0.74 bits/sample, proxy_baseline/proxy_adj/target bias: 0.00/0.00/0.01 bits/sample (0.00/0.00 L/R missing support)\n",
      "    8 bits KDE KLD = 0.74 bits/sample, proxy_baseline/proxy_adj/target bias: 0.02/0.00/0.04 bits/sample (0.00/0.00 L/R missing support)\n",
      "    10 bits KDE KLD = 0.74 bits/sample, proxy_baseline/proxy_adj/target bias: 0.13/0.00/0.58 bits/sample (0.00/0.00 L/R missing support)\n",
      "    12 bits KDE KLD = 0.74 bits/sample, proxy_baseline/proxy_adj/target bias: 1.09/0.00/2.16 bits/sample (0.00/0.00 L/R missing support)\n",
      "X1 KDE fit:0.2s, X2 base KDE fit:0.0s, X2 adj. compute KLDs:2.9s\n",
      "Plot saved to KDE_fit_plots/sim_12452800_using_05DB006.png\n",
      "N=4789 samples, (12.0 years)\n",
      "    4 bits KDE KLD = 1.13 bits/sample, proxy_baseline/proxy_adj/target bias: 0.01/0.00/0.03 bits/sample (0.00/0.01 L/R missing support)\n",
      "    6 bits KDE KLD = 1.15 bits/sample, proxy_baseline/proxy_adj/target bias: 0.03/0.00/0.11 bits/sample (0.00/0.01 L/R missing support)\n",
      "    8 bits KDE KLD = 1.15 bits/sample, proxy_baseline/proxy_adj/target bias: 0.07/0.00/0.85 bits/sample (0.00/0.01 L/R missing support)\n",
      "    10 bits KDE KLD = 1.15 bits/sample, proxy_baseline/proxy_adj/target bias: 0.34/0.00/2.34 bits/sample (0.00/0.01 L/R missing support)\n",
      "    12 bits KDE KLD = 1.13 bits/sample, proxy_baseline/proxy_adj/target bias: 1.81/0.00/4.26 bits/sample (0.00/0.01 L/R missing support)\n",
      "X1 KDE fit:0.2s, X2 base KDE fit:0.0s, X2 adj. compute KLDs:4.1s\n",
      "Plot saved to KDE_fit_plots/sim_12377150_using_08NK020.png\n",
      "N=5201 samples, (12.0 years)\n",
      "    4 bits KDE KLD = 0.15 bits/sample, proxy_baseline/proxy_adj/target bias: 0.00/0.00/0.01 bits/sample (0.00/0.00 L/R missing support)\n",
      "    6 bits KDE KLD = 0.15 bits/sample, proxy_baseline/proxy_adj/target bias: 0.03/0.00/0.01 bits/sample (0.00/0.00 L/R missing support)\n",
      "    8 bits KDE KLD = 0.15 bits/sample, proxy_baseline/proxy_adj/target bias: 0.12/0.00/0.05 bits/sample (0.00/0.00 L/R missing support)\n",
      "    10 bits KDE KLD = 0.15 bits/sample, proxy_baseline/proxy_adj/target bias: 0.50/0.00/0.29 bits/sample (0.00/0.00 L/R missing support)\n",
      "    12 bits KDE KLD = 0.15 bits/sample, proxy_baseline/proxy_adj/target bias: 1.88/0.00/1.51 bits/sample (0.00/0.00 L/R missing support)\n",
      "X1 KDE fit:0.2s, X2 base KDE fit:0.0s, X2 adj. compute KLDs:2.9s\n",
      "Plot saved to KDE_fit_plots/sim_08MH147_using_08HE010.png\n",
      "N=8985 samples, (22.0 years)\n",
      "    4 bits KDE KLD = 8.20 bits/sample, proxy_baseline/proxy_adj/target bias: 0.02/0.00/0.00 bits/sample (0.64/0.00 L/R missing support)\n",
      "    6 bits KDE KLD = 8.65 bits/sample, proxy_baseline/proxy_adj/target bias: 0.05/0.00/0.01 bits/sample (0.64/0.00 L/R missing support)\n",
      "    8 bits KDE KLD = 8.69 bits/sample, proxy_baseline/proxy_adj/target bias: 0.07/0.00/0.21 bits/sample (0.64/0.00 L/R missing support)\n",
      "    10 bits KDE KLD = 8.69 bits/sample, proxy_baseline/proxy_adj/target bias: 0.27/0.00/1.06 bits/sample (0.64/0.00 L/R missing support)\n",
      "    12 bits KDE KLD = 8.69 bits/sample, proxy_baseline/proxy_adj/target bias: 1.68/0.00/2.69 bits/sample (0.64/0.00 L/R missing support)\n",
      "X1 KDE fit:0.2s, X2 base KDE fit:0.0s, X2 adj. compute KLDs:3.0s\n",
      "Plot saved to KDE_fit_plots/sim_12323600_using_08KA001.png\n",
      "N=990 samples, (2.0 years)\n",
      "    4 bits KDE KLD = 0.53 bits/sample, proxy_baseline/proxy_adj/target bias: 0.36/0.00/0.06 bits/sample (0.00/0.01 L/R missing support)\n",
      "    6 bits KDE KLD = 0.54 bits/sample, proxy_baseline/proxy_adj/target bias: 0.43/0.00/0.10 bits/sample (0.00/0.01 L/R missing support)\n",
      "    8 bits KDE KLD = 0.54 bits/sample, proxy_baseline/proxy_adj/target bias: 0.63/0.00/0.24 bits/sample (0.00/0.01 L/R missing support)\n",
      "    10 bits KDE KLD = 0.54 bits/sample, proxy_baseline/proxy_adj/target bias: 1.29/0.00/1.09 bits/sample (0.00/0.01 L/R missing support)\n",
      "    12 bits KDE KLD = 0.54 bits/sample, proxy_baseline/proxy_adj/target bias: 2.96/0.00/2.88 bits/sample (0.00/0.01 L/R missing support)\n",
      "X1 KDE fit:0.2s, X2 base KDE fit:0.0s, X2 adj. compute KLDs:3.0s\n",
      "Plot saved to KDE_fit_plots/sim_12214500_using_07EA005.png\n",
      "N=2009 samples, (4.0 years)\n",
      "    4 bits KDE KLD = 0.11 bits/sample, proxy_baseline/proxy_adj/target bias: 0.01/0.00/0.02 bits/sample (0.00/0.00 L/R missing support)\n",
      "    6 bits KDE KLD = 0.12 bits/sample, proxy_baseline/proxy_adj/target bias: 0.03/0.00/0.04 bits/sample (0.00/0.00 L/R missing support)\n",
      "    8 bits KDE KLD = 0.12 bits/sample, proxy_baseline/proxy_adj/target bias: 0.21/0.00/0.12 bits/sample (0.00/0.00 L/R missing support)\n",
      "    10 bits KDE KLD = 0.12 bits/sample, proxy_baseline/proxy_adj/target bias: 1.03/0.00/0.79 bits/sample (0.00/0.00 L/R missing support)\n",
      "    12 bits KDE KLD = 0.12 bits/sample, proxy_baseline/proxy_adj/target bias: 2.91/0.00/2.46 bits/sample (0.00/0.00 L/R missing support)\n",
      "X1 KDE fit:0.2s, X2 base KDE fit:0.0s, X2 adj. compute KLDs:3.0s\n",
      "Plot saved to KDE_fit_plots/sim_12042800_using_08MH006.png\n",
      "N=1510 samples, (3.0 years)\n",
      "    4 bits KDE KLD = 0.19 bits/sample, proxy_baseline/proxy_adj/target bias: 0.01/0.00/0.03 bits/sample (0.00/0.00 L/R missing support)\n",
      "    6 bits KDE KLD = 0.19 bits/sample, proxy_baseline/proxy_adj/target bias: 0.04/0.00/0.06 bits/sample (0.00/0.00 L/R missing support)\n",
      "    8 bits KDE KLD = 0.19 bits/sample, proxy_baseline/proxy_adj/target bias: 0.36/0.00/0.18 bits/sample (0.00/0.00 L/R missing support)\n",
      "    10 bits KDE KLD = 0.19 bits/sample, proxy_baseline/proxy_adj/target bias: 1.94/0.00/1.12 bits/sample (0.00/0.00 L/R missing support)\n",
      "    12 bits KDE KLD = 0.19 bits/sample, proxy_baseline/proxy_adj/target bias: 3.94/0.00/2.99 bits/sample (0.00/0.00 L/R missing support)\n",
      "X1 KDE fit:0.2s, X2 base KDE fit:0.0s, X2 adj. compute KLDs:2.9s\n",
      "Plot saved to KDE_fit_plots/sim_12209000_using_12208500.png\n",
      "N=11195 samples, (30.0 years)\n",
      "    4 bits KDE KLD = 0.90 bits/sample, proxy_baseline/proxy_adj/target bias: 0.00/0.00/0.01 bits/sample (0.00/0.00 L/R missing support)\n",
      "    6 bits KDE KLD = 0.92 bits/sample, proxy_baseline/proxy_adj/target bias: 0.01/0.00/0.02 bits/sample (0.00/0.00 L/R missing support)\n",
      "    8 bits KDE KLD = 0.92 bits/sample, proxy_baseline/proxy_adj/target bias: 0.03/0.00/0.04 bits/sample (0.00/0.00 L/R missing support)\n",
      "    10 bits KDE KLD = 0.92 bits/sample, proxy_baseline/proxy_adj/target bias: 0.14/0.00/0.26 bits/sample (0.00/0.00 L/R missing support)\n",
      "    12 bits KDE KLD = 0.92 bits/sample, proxy_baseline/proxy_adj/target bias: 1.04/0.00/1.35 bits/sample (0.00/0.00 L/R missing support)\n",
      "X1 KDE fit:0.2s, X2 base KDE fit:0.0s, X2 adj. compute KLDs:2.9s\n",
      "Plot saved to KDE_fit_plots/sim_08NK016_using_07AG007.png\n",
      "N=2121 samples, (2.0 years)\n",
      "    4 bits KDE KLD = 0.53 bits/sample, proxy_baseline/proxy_adj/target bias: 0.08/0.00/0.09 bits/sample (0.02/0.07 L/R missing support)\n",
      "    6 bits KDE KLD = 0.56 bits/sample, proxy_baseline/proxy_adj/target bias: 0.12/0.00/0.20 bits/sample (0.02/0.07 L/R missing support)\n",
      "    8 bits KDE KLD = 0.56 bits/sample, proxy_baseline/proxy_adj/target bias: 0.38/0.00/1.05 bits/sample (0.02/0.07 L/R missing support)\n",
      "    10 bits KDE KLD = 0.56 bits/sample, proxy_baseline/proxy_adj/target bias: 1.29/0.00/2.91 bits/sample (0.02/0.07 L/R missing support)\n",
      "    12 bits KDE KLD = 0.52 bits/sample, proxy_baseline/proxy_adj/target bias: 3.24/0.01/4.91 bits/sample (0.02/0.07 L/R missing support)\n",
      "X1 KDE fit:0.2s, X2 base KDE fit:0.0s, X2 adj. compute KLDs:3.8s\n",
      "Plot saved to KDE_fit_plots/sim_12451600_using_05DA007.png\n",
      "N=17089 samples, (45.0 years)\n",
      "    4 bits KDE KLD = 3.91 bits/sample, proxy_baseline/proxy_adj/target bias: 0.01/0.00/0.01 bits/sample (0.00/0.23 L/R missing support)\n",
      "    6 bits KDE KLD = 3.75 bits/sample, proxy_baseline/proxy_adj/target bias: 0.02/0.00/0.02 bits/sample (0.00/0.23 L/R missing support)\n",
      "    8 bits KDE KLD = 3.57 bits/sample, proxy_baseline/proxy_adj/target bias: 0.08/0.00/0.04 bits/sample (0.00/0.23 L/R missing support)\n",
      "    10 bits KDE KLD = 3.39 bits/sample, proxy_baseline/proxy_adj/target bias: 0.29/0.01/0.27 bits/sample (0.00/0.23 L/R missing support)\n",
      "    12 bits KDE KLD = 3.12 bits/sample, proxy_baseline/proxy_adj/target bias: 1.11/0.02/1.52 bits/sample (0.00/0.23 L/R missing support)\n",
      "X1 KDE fit:0.2s, X2 base KDE fit:0.0s, X2 adj. compute KLDs:8.3s\n",
      "Plot saved to KDE_fit_plots/sim_08NH119_using_07OC001.png\n",
      "N=6574 samples, (17.0 years)\n",
      "    4 bits KDE KLD = 4.15 bits/sample, proxy_baseline/proxy_adj/target bias: 0.03/0.29/0.00 bits/sample (0.00/0.70 L/R missing support)\n",
      "    6 bits KDE KLD = 2.96 bits/sample, proxy_baseline/proxy_adj/target bias: 0.05/0.44/0.03 bits/sample (0.00/0.70 L/R missing support)\n",
      "    MAX BANDWIDTH EXCEEDED.\n",
      "    8 bits KDE KLD = 0.62 bits/sample, proxy_baseline/proxy_adj/target bias: 0.12/0.50/0.34 bits/sample (0.00/0.70 L/R missing support)\n",
      "    MAX BANDWIDTH EXCEEDED.\n",
      "    10 bits KDE KLD = 0.62 bits/sample, proxy_baseline/proxy_adj/target bias: 1.12/0.50/1.60 bits/sample (0.00/0.70 L/R missing support)\n",
      "    MAX BANDWIDTH EXCEEDED.\n",
      "    12 bits KDE KLD = 0.62 bits/sample, proxy_baseline/proxy_adj/target bias: 3.07/0.50/3.54 bits/sample (0.00/0.70 L/R missing support)\n",
      "X1 KDE fit:0.2s, X2 base KDE fit:0.0s, X2 adj. compute KLDs:25.8s\n",
      "Plot saved to KDE_fit_plots/sim_15086600_using_08EC001.png\n",
      "N=7290 samples, (18.0 years)\n",
      "    4 bits KDE KLD = 1.47 bits/sample, proxy_baseline/proxy_adj/target bias: 0.01/0.01/0.02 bits/sample (0.06/0.01 L/R missing support)\n",
      "    6 bits KDE KLD = 0.97 bits/sample, proxy_baseline/proxy_adj/target bias: 0.02/0.04/0.39 bits/sample (0.06/0.01 L/R missing support)\n",
      "    8 bits KDE KLD = 0.73 bits/sample, proxy_baseline/proxy_adj/target bias: 0.04/0.07/1.45 bits/sample (0.06/0.01 L/R missing support)\n",
      "    10 bits KDE KLD = 0.49 bits/sample, proxy_baseline/proxy_adj/target bias: 0.20/0.12/3.13 bits/sample (0.06/0.01 L/R missing support)\n",
      "    12 bits KDE KLD = 0.33 bits/sample, proxy_baseline/proxy_adj/target bias: 1.26/0.18/5.10 bits/sample (0.06/0.01 L/R missing support)\n",
      "X1 KDE fit:0.2s, X2 base KDE fit:0.0s, X2 adj. compute KLDs:14.8s\n",
      "Plot saved to KDE_fit_plots/sim_08GA065_using_05AD003.png\n",
      "N=16909 samples, (45.0 years)\n",
      "    4 bits KDE KLD = 0.73 bits/sample, proxy_baseline/proxy_adj/target bias: 0.00/0.00/0.01 bits/sample (0.07/0.00 L/R missing support)\n",
      "    6 bits KDE KLD = 0.78 bits/sample, proxy_baseline/proxy_adj/target bias: 0.01/0.00/0.01 bits/sample (0.07/0.00 L/R missing support)\n",
      "    8 bits KDE KLD = 0.78 bits/sample, proxy_baseline/proxy_adj/target bias: 0.03/0.00/0.04 bits/sample (0.07/0.00 L/R missing support)\n",
      "    10 bits KDE KLD = 0.78 bits/sample, proxy_baseline/proxy_adj/target bias: 0.22/0.00/0.38 bits/sample (0.07/0.00 L/R missing support)\n",
      "    12 bits KDE KLD = 0.78 bits/sample, proxy_baseline/proxy_adj/target bias: 1.40/0.00/1.75 bits/sample (0.07/0.00 L/R missing support)\n",
      "X1 KDE fit:0.2s, X2 base KDE fit:0.0s, X2 adj. compute KLDs:2.8s\n",
      "Plot saved to KDE_fit_plots/sim_08LB064_using_08ED001.png\n",
      "N=12141 samples, (33.0 years)\n",
      "    4 bits KDE KLD = 2.44 bits/sample, proxy_baseline/proxy_adj/target bias: 0.06/0.00/0.00 bits/sample (0.00/0.02 L/R missing support)\n",
      "    6 bits KDE KLD = 2.40 bits/sample, proxy_baseline/proxy_adj/target bias: 0.77/0.03/0.01 bits/sample (0.00/0.02 L/R missing support)\n",
      "    8 bits KDE KLD = 2.39 bits/sample, proxy_baseline/proxy_adj/target bias: 2.43/0.04/0.02 bits/sample (0.00/0.02 L/R missing support)\n",
      "    10 bits KDE KLD = 2.39 bits/sample, proxy_baseline/proxy_adj/target bias: 4.37/0.06/0.19 bits/sample (0.00/0.02 L/R missing support)\n",
      "    12 bits KDE KLD = 2.38 bits/sample, proxy_baseline/proxy_adj/target bias: 6.37/0.08/1.45 bits/sample (0.00/0.02 L/R missing support)\n",
      "X1 KDE fit:0.2s, X2 base KDE fit:0.0s, X2 adj. compute KLDs:11.4s\n",
      "Plot saved to KDE_fit_plots/sim_12144500_using_08NM240.png\n",
      "N=7304 samples, (20.0 years)\n",
      "    4 bits KDE KLD = 0.95 bits/sample, proxy_baseline/proxy_adj/target bias: 0.01/0.00/0.02 bits/sample (0.10/0.00 L/R missing support)\n",
      "    6 bits KDE KLD = 0.99 bits/sample, proxy_baseline/proxy_adj/target bias: 0.03/0.00/0.03 bits/sample (0.10/0.00 L/R missing support)\n",
      "    8 bits KDE KLD = 0.99 bits/sample, proxy_baseline/proxy_adj/target bias: 0.37/0.00/0.07 bits/sample (0.10/0.00 L/R missing support)\n",
      "    10 bits KDE KLD = 0.99 bits/sample, proxy_baseline/proxy_adj/target bias: 1.61/0.00/0.52 bits/sample (0.10/0.00 L/R missing support)\n",
      "    12 bits KDE KLD = 0.99 bits/sample, proxy_baseline/proxy_adj/target bias: 3.53/0.00/1.96 bits/sample (0.10/0.00 L/R missing support)\n",
      "X1 KDE fit:0.2s, X2 base KDE fit:0.0s, X2 adj. compute KLDs:3.3s\n",
      "Plot saved to KDE_fit_plots/sim_08MA002_using_08DB013.png\n",
      "N=1338 samples, (2.0 years)\n"
     ]
    },
    {
     "name": "stderr",
     "output_type": "stream",
     "text": [
      "/tmp/ipykernel_2255281/4022667463.py:6: RuntimeWarning: overflow encountered in divide\n",
      "  result[mask] = p[mask] * np.log2(p[mask] / q[mask])\n"
     ]
    },
    {
     "name": "stdout",
     "output_type": "stream",
     "text": [
      "    4 bits KDE KLD = inf bits/sample, proxy_baseline/proxy_adj/target bias: 0.06/0.09/0.04 bits/sample (0.83/0.00 L/R missing support)\n"
     ]
    },
    {
     "name": "stderr",
     "output_type": "stream",
     "text": [
      "/tmp/ipykernel_2255281/4022667463.py:6: RuntimeWarning: overflow encountered in divide\n",
      "  result[mask] = p[mask] * np.log2(p[mask] / q[mask])\n"
     ]
    },
    {
     "name": "stdout",
     "output_type": "stream",
     "text": [
      "    6 bits KDE KLD = inf bits/sample, proxy_baseline/proxy_adj/target bias: 0.18/0.10/0.10 bits/sample (0.83/0.00 L/R missing support)\n"
     ]
    },
    {
     "name": "stderr",
     "output_type": "stream",
     "text": [
      "/tmp/ipykernel_2255281/4022667463.py:6: RuntimeWarning: overflow encountered in divide\n",
      "  result[mask] = p[mask] * np.log2(p[mask] / q[mask])\n"
     ]
    },
    {
     "name": "stdout",
     "output_type": "stream",
     "text": [
      "    8 bits KDE KLD = inf bits/sample, proxy_baseline/proxy_adj/target bias: 1.30/0.11/0.40 bits/sample (0.83/0.00 L/R missing support)\n",
      "    10 bits KDE KLD = 28.28 bits/sample, proxy_baseline/proxy_adj/target bias: 3.28/0.11/1.55 bits/sample (0.83/0.00 L/R missing support)\n"
     ]
    },
    {
     "name": "stderr",
     "output_type": "stream",
     "text": [
      "/tmp/ipykernel_2255281/4022667463.py:6: RuntimeWarning: overflow encountered in divide\n",
      "  result[mask] = p[mask] * np.log2(p[mask] / q[mask])\n"
     ]
    },
    {
     "name": "stdout",
     "output_type": "stream",
     "text": [
      "    12 bits KDE KLD = inf bits/sample, proxy_baseline/proxy_adj/target bias: 5.28/0.11/3.49 bits/sample (0.83/0.00 L/R missing support)\n",
      "X1 KDE fit:0.2s, X2 base KDE fit:0.0s, X2 adj. compute KLDs:14.3s\n",
      "Plot saved to KDE_fit_plots/sim_12422950_using_12143700.png\n",
      "N=7458 samples, (19.0 years)\n",
      "    4 bits KDE KLD = 8.34 bits/sample, proxy_baseline/proxy_adj/target bias: 0.01/0.00/0.00 bits/sample (0.46/0.00 L/R missing support)\n"
     ]
    },
    {
     "name": "stderr",
     "output_type": "stream",
     "text": [
      "/tmp/ipykernel_2255281/4022667463.py:6: RuntimeWarning: overflow encountered in divide\n",
      "  result[mask] = p[mask] * np.log2(p[mask] / q[mask])\n"
     ]
    },
    {
     "name": "stdout",
     "output_type": "stream",
     "text": [
      "    6 bits KDE KLD = inf bits/sample, proxy_baseline/proxy_adj/target bias: 0.02/0.00/0.02 bits/sample (0.46/0.00 L/R missing support)\n",
      "    8 bits KDE KLD = 8.20 bits/sample, proxy_baseline/proxy_adj/target bias: 0.09/0.00/0.43 bits/sample (0.46/0.00 L/R missing support)\n"
     ]
    },
    {
     "name": "stderr",
     "output_type": "stream",
     "text": [
      "/tmp/ipykernel_2255281/4022667463.py:6: RuntimeWarning: overflow encountered in divide\n",
      "  result[mask] = p[mask] * np.log2(p[mask] / q[mask])\n"
     ]
    },
    {
     "name": "stdout",
     "output_type": "stream",
     "text": [
      "    10 bits KDE KLD = inf bits/sample, proxy_baseline/proxy_adj/target bias: 0.62/0.00/1.97 bits/sample (0.46/0.00 L/R missing support)\n",
      "    12 bits KDE KLD = 8.09 bits/sample, proxy_baseline/proxy_adj/target bias: 2.53/0.00/3.91 bits/sample (0.46/0.00 L/R missing support)\n",
      "X1 KDE fit:0.2s, X2 base KDE fit:0.0s, X2 adj. compute KLDs:9.2s\n",
      "Plot saved to KDE_fit_plots/sim_12396000_using_08MG008.png\n",
      "N=1519 samples, (4.0 years)\n",
      "    4 bits KDE KLD = 0.07 bits/sample, proxy_baseline/proxy_adj/target bias: 0.03/0.00/0.06 bits/sample (0.00/0.02 L/R missing support)\n",
      "    6 bits KDE KLD = 0.08 bits/sample, proxy_baseline/proxy_adj/target bias: 0.31/0.00/0.11 bits/sample (0.00/0.02 L/R missing support)\n",
      "    8 bits KDE KLD = 0.08 bits/sample, proxy_baseline/proxy_adj/target bias: 1.60/0.00/0.21 bits/sample (0.00/0.02 L/R missing support)\n",
      "    10 bits KDE KLD = 0.08 bits/sample, proxy_baseline/proxy_adj/target bias: 3.45/0.00/0.80 bits/sample (0.00/0.02 L/R missing support)\n",
      "    12 bits KDE KLD = 0.08 bits/sample, proxy_baseline/proxy_adj/target bias: 5.45/0.00/2.54 bits/sample (0.00/0.02 L/R missing support)\n",
      "X1 KDE fit:0.2s, X2 base KDE fit:0.0s, X2 adj. compute KLDs:3.0s\n",
      "Plot saved to KDE_fit_plots/sim_08NH005_using_08NE121.png\n",
      "N=1769 samples, (4.0 years)\n",
      "    4 bits KDE KLD = 1.29 bits/sample, proxy_baseline/proxy_adj/target bias: 0.55/0.00/0.02 bits/sample (0.00/0.00 L/R missing support)\n",
      "    6 bits KDE KLD = 1.29 bits/sample, proxy_baseline/proxy_adj/target bias: 1.62/0.00/0.06 bits/sample (0.00/0.00 L/R missing support)\n",
      "    8 bits KDE KLD = 1.29 bits/sample, proxy_baseline/proxy_adj/target bias: 3.17/0.00/0.97 bits/sample (0.00/0.00 L/R missing support)\n",
      "    10 bits KDE KLD = 1.29 bits/sample, proxy_baseline/proxy_adj/target bias: 5.09/0.00/2.86 bits/sample (0.00/0.00 L/R missing support)\n",
      "    12 bits KDE KLD = 1.29 bits/sample, proxy_baseline/proxy_adj/target bias: 7.09/0.00/4.86 bits/sample (0.00/0.00 L/R missing support)\n",
      "X1 KDE fit:0.2s, X2 base KDE fit:0.0s, X2 adj. compute KLDs:2.6s\n",
      "Plot saved to KDE_fit_plots/sim_12121510_using_08HA026.png\n",
      "N=5788 samples, (13.0 years)\n",
      "    4 bits KDE KLD = 0.50 bits/sample, proxy_baseline/proxy_adj/target bias: 0.09/0.00/0.02 bits/sample (0.01/0.00 L/R missing support)\n",
      "    6 bits KDE KLD = 0.53 bits/sample, proxy_baseline/proxy_adj/target bias: 0.72/0.00/0.05 bits/sample (0.01/0.00 L/R missing support)\n",
      "    8 bits KDE KLD = 0.53 bits/sample, proxy_baseline/proxy_adj/target bias: 2.37/0.00/0.09 bits/sample (0.01/0.00 L/R missing support)\n",
      "    10 bits KDE KLD = 0.53 bits/sample, proxy_baseline/proxy_adj/target bias: 4.23/0.00/0.33 bits/sample (0.01/0.00 L/R missing support)\n",
      "    12 bits KDE KLD = 0.53 bits/sample, proxy_baseline/proxy_adj/target bias: 6.21/0.00/1.70 bits/sample (0.01/0.00 L/R missing support)\n",
      "X1 KDE fit:0.2s, X2 base KDE fit:0.0s, X2 adj. compute KLDs:3.0s\n",
      "Plot saved to KDE_fit_plots/sim_10CA001_using_08MC045.png\n",
      "N=9205 samples, (24.0 years)\n"
     ]
    },
    {
     "name": "stderr",
     "output_type": "stream",
     "text": [
      "/tmp/ipykernel_2255281/4022667463.py:6: RuntimeWarning: overflow encountered in divide\n",
      "  result[mask] = p[mask] * np.log2(p[mask] / q[mask])\n"
     ]
    },
    {
     "name": "stdout",
     "output_type": "stream",
     "text": [
      "    4 bits KDE KLD = inf bits/sample, proxy_baseline/proxy_adj/target bias: 0.00/0.01/0.03 bits/sample (0.18/0.00 L/R missing support)\n"
     ]
    },
    {
     "name": "stderr",
     "output_type": "stream",
     "text": [
      "/tmp/ipykernel_2255281/4022667463.py:6: RuntimeWarning: overflow encountered in divide\n",
      "  result[mask] = p[mask] * np.log2(p[mask] / q[mask])\n"
     ]
    },
    {
     "name": "stdout",
     "output_type": "stream",
     "text": [
      "    6 bits KDE KLD = inf bits/sample, proxy_baseline/proxy_adj/target bias: 0.01/0.02/0.07 bits/sample (0.18/0.00 L/R missing support)\n"
     ]
    },
    {
     "name": "stderr",
     "output_type": "stream",
     "text": [
      "/tmp/ipykernel_2255281/4022667463.py:6: RuntimeWarning: overflow encountered in divide\n",
      "  result[mask] = p[mask] * np.log2(p[mask] / q[mask])\n"
     ]
    },
    {
     "name": "stdout",
     "output_type": "stream",
     "text": [
      "    8 bits KDE KLD = inf bits/sample, proxy_baseline/proxy_adj/target bias: 0.03/0.02/0.16 bits/sample (0.18/0.00 L/R missing support)\n"
     ]
    },
    {
     "name": "stderr",
     "output_type": "stream",
     "text": [
      "/tmp/ipykernel_2255281/4022667463.py:6: RuntimeWarning: overflow encountered in divide\n",
      "  result[mask] = p[mask] * np.log2(p[mask] / q[mask])\n"
     ]
    },
    {
     "name": "stdout",
     "output_type": "stream",
     "text": [
      "    10 bits KDE KLD = inf bits/sample, proxy_baseline/proxy_adj/target bias: 0.15/0.02/0.44 bits/sample (0.18/0.00 L/R missing support)\n"
     ]
    },
    {
     "name": "stderr",
     "output_type": "stream",
     "text": [
      "/tmp/ipykernel_2255281/4022667463.py:6: RuntimeWarning: overflow encountered in divide\n",
      "  result[mask] = p[mask] * np.log2(p[mask] / q[mask])\n"
     ]
    },
    {
     "name": "stdout",
     "output_type": "stream",
     "text": [
      "    12 bits KDE KLD = inf bits/sample, proxy_baseline/proxy_adj/target bias: 1.13/0.02/1.34 bits/sample (0.18/0.00 L/R missing support)\n",
      "X1 KDE fit:0.2s, X2 base KDE fit:0.0s, X2 adj. compute KLDs:15.5s\n",
      "Plot saved to KDE_fit_plots/sim_12090500_using_08OA002.png\n",
      "N=3687 samples, (9.0 years)\n",
      "    4 bits KDE KLD = 1.78 bits/sample, proxy_baseline/proxy_adj/target bias: 0.03/0.00/0.02 bits/sample (0.00/0.00 L/R missing support)\n",
      "    6 bits KDE KLD = 1.80 bits/sample, proxy_baseline/proxy_adj/target bias: 0.09/0.00/0.04 bits/sample (0.00/0.00 L/R missing support)\n",
      "    8 bits KDE KLD = 1.80 bits/sample, proxy_baseline/proxy_adj/target bias: 0.80/0.00/0.13 bits/sample (0.00/0.00 L/R missing support)\n",
      "    10 bits KDE KLD = 1.80 bits/sample, proxy_baseline/proxy_adj/target bias: 2.29/0.00/0.61 bits/sample (0.00/0.00 L/R missing support)\n",
      "    12 bits KDE KLD = 1.80 bits/sample, proxy_baseline/proxy_adj/target bias: 4.23/0.00/1.94 bits/sample (0.00/0.00 L/R missing support)\n",
      "X1 KDE fit:0.2s, X2 base KDE fit:0.0s, X2 adj. compute KLDs:3.0s\n",
      "Plot saved to KDE_fit_plots/sim_12340000_using_12301999.png\n",
      "N=1765 samples, (4.0 years)\n",
      "    4 bits KDE KLD = 2.62 bits/sample, proxy_baseline/proxy_adj/target bias: 0.12/0.22/0.03 bits/sample (0.00/0.47 L/R missing support)\n",
      "    6 bits KDE KLD = 2.17 bits/sample, proxy_baseline/proxy_adj/target bias: 0.22/0.28/0.06 bits/sample (0.00/0.47 L/R missing support)\n",
      "    8 bits KDE KLD = 1.83 bits/sample, proxy_baseline/proxy_adj/target bias: 0.65/0.33/0.39 bits/sample (0.00/0.47 L/R missing support)\n",
      "    10 bits KDE KLD = 1.68 bits/sample, proxy_baseline/proxy_adj/target bias: 2.36/0.36/1.80 bits/sample (0.00/0.47 L/R missing support)\n",
      "    12 bits KDE KLD = 1.46 bits/sample, proxy_baseline/proxy_adj/target bias: 4.36/0.43/3.74 bits/sample (0.00/0.47 L/R missing support)\n",
      "X1 KDE fit:0.2s, X2 base KDE fit:0.0s, X2 adj. compute KLDs:20.2s\n",
      "Plot saved to KDE_fit_plots/sim_12014500_using_08KH008.png\n",
      "N=5728 samples, (11.0 years)\n",
      "    4 bits KDE KLD = 2.40 bits/sample, proxy_baseline/proxy_adj/target bias: 0.00/0.00/0.02 bits/sample (0.00/0.01 L/R missing support)\n",
      "    6 bits KDE KLD = 2.41 bits/sample, proxy_baseline/proxy_adj/target bias: 0.02/0.00/0.02 bits/sample (0.00/0.01 L/R missing support)\n",
      "    8 bits KDE KLD = 2.41 bits/sample, proxy_baseline/proxy_adj/target bias: 0.06/0.00/0.07 bits/sample (0.00/0.01 L/R missing support)\n",
      "    10 bits KDE KLD = 2.41 bits/sample, proxy_baseline/proxy_adj/target bias: 0.33/0.00/0.49 bits/sample (0.00/0.01 L/R missing support)\n",
      "    12 bits KDE KLD = 2.41 bits/sample, proxy_baseline/proxy_adj/target bias: 1.60/0.00/2.18 bits/sample (0.00/0.01 L/R missing support)\n",
      "X1 KDE fit:0.2s, X2 base KDE fit:0.0s, X2 adj. compute KLDs:3.6s\n",
      "Plot saved to KDE_fit_plots/sim_08GD006_using_07BB002.png\n",
      "N=8286 samples, (22.0 years)\n",
      "    4 bits KDE KLD = 0.16 bits/sample, proxy_baseline/proxy_adj/target bias: 0.01/0.01/0.01 bits/sample (0.00/0.01 L/R missing support)\n",
      "    6 bits KDE KLD = 0.15 bits/sample, proxy_baseline/proxy_adj/target bias: 0.02/0.02/0.02 bits/sample (0.00/0.01 L/R missing support)\n",
      "    8 bits KDE KLD = 0.14 bits/sample, proxy_baseline/proxy_adj/target bias: 0.30/0.04/0.05 bits/sample (0.00/0.01 L/R missing support)\n",
      "    10 bits KDE KLD = 0.14 bits/sample, proxy_baseline/proxy_adj/target bias: 1.62/0.05/0.30 bits/sample (0.00/0.01 L/R missing support)\n",
      "    12 bits KDE KLD = 0.14 bits/sample, proxy_baseline/proxy_adj/target bias: 3.46/0.09/1.55 bits/sample (0.00/0.01 L/R missing support)\n",
      "X1 KDE fit:0.2s, X2 base KDE fit:0.0s, X2 adj. compute KLDs:14.7s\n",
      "Plot saved to KDE_fit_plots/sim_12026400_using_08NJ026.png\n",
      "N=4006 samples, (10.0 years)\n",
      "    4 bits KDE KLD = 2.75 bits/sample, proxy_baseline/proxy_adj/target bias: 0.02/0.01/0.01 bits/sample (0.10/0.01 L/R missing support)\n",
      "    6 bits KDE KLD = 2.07 bits/sample, proxy_baseline/proxy_adj/target bias: 0.03/0.04/0.04 bits/sample (0.10/0.01 L/R missing support)\n",
      "    8 bits KDE KLD = 1.76 bits/sample, proxy_baseline/proxy_adj/target bias: 0.09/0.06/0.13 bits/sample (0.10/0.01 L/R missing support)\n",
      "    10 bits KDE KLD = 1.46 bits/sample, proxy_baseline/proxy_adj/target bias: 0.56/0.10/0.45 bits/sample (0.10/0.01 L/R missing support)\n",
      "    12 bits KDE KLD = 1.11 bits/sample, proxy_baseline/proxy_adj/target bias: 2.21/0.16/1.63 bits/sample (0.10/0.01 L/R missing support)\n",
      "X1 KDE fit:0.2s, X2 base KDE fit:0.0s, X2 adj. compute KLDs:14.5s\n",
      "Plot saved to KDE_fit_plots/sim_12201950_using_12113347.png\n",
      "N=18720 samples, (51.0 years)\n",
      "    4 bits KDE KLD = 1.28 bits/sample, proxy_baseline/proxy_adj/target bias: 0.00/0.09/0.01 bits/sample (0.00/0.03 L/R missing support)\n",
      "    6 bits KDE KLD = 1.22 bits/sample, proxy_baseline/proxy_adj/target bias: 0.01/0.13/0.01 bits/sample (0.00/0.03 L/R missing support)\n",
      "    8 bits KDE KLD = 1.14 bits/sample, proxy_baseline/proxy_adj/target bias: 0.02/0.17/0.07 bits/sample (0.00/0.03 L/R missing support)\n",
      "    10 bits KDE KLD = 1.05 bits/sample, proxy_baseline/proxy_adj/target bias: 0.33/0.23/0.49 bits/sample (0.00/0.03 L/R missing support)\n",
      "    12 bits KDE KLD = 0.96 bits/sample, proxy_baseline/proxy_adj/target bias: 1.90/0.31/1.92 bits/sample (0.00/0.03 L/R missing support)\n",
      "X1 KDE fit:0.0s, X2 base KDE fit:0.0s, X2 adj. compute KLDs:26.1s\n",
      "Plot saved to KDE_fit_plots/sim_12025700_using_05AA008.png\n",
      "N=22341 samples, (61.0 years)\n",
      "    4 bits KDE KLD = 5.68 bits/sample, proxy_baseline/proxy_adj/target bias: 0.00/0.00/0.01 bits/sample (0.00/0.15 L/R missing support)\n",
      "    6 bits KDE KLD = 5.39 bits/sample, proxy_baseline/proxy_adj/target bias: 0.00/0.01/0.02 bits/sample (0.00/0.15 L/R missing support)\n",
      "    8 bits KDE KLD = 5.16 bits/sample, proxy_baseline/proxy_adj/target bias: 0.02/0.02/0.12 bits/sample (0.00/0.15 L/R missing support)\n",
      "    10 bits KDE KLD = 4.74 bits/sample, proxy_baseline/proxy_adj/target bias: 0.13/0.04/0.89 bits/sample (0.00/0.15 L/R missing support)\n",
      "    12 bits KDE KLD = 3.96 bits/sample, proxy_baseline/proxy_adj/target bias: 1.10/0.09/2.42 bits/sample (0.00/0.15 L/R missing support)\n",
      "X1 KDE fit:0.2s, X2 base KDE fit:0.0s, X2 adj. compute KLDs:19.7s\n",
      "Plot saved to KDE_fit_plots/sim_12143700_using_07BB002.png\n",
      "N=3713 samples, (9.0 years)\n"
     ]
    },
    {
     "name": "stderr",
     "output_type": "stream",
     "text": [
      "/tmp/ipykernel_2255281/4022667463.py:6: RuntimeWarning: overflow encountered in divide\n",
      "  result[mask] = p[mask] * np.log2(p[mask] / q[mask])\n"
     ]
    },
    {
     "name": "stdout",
     "output_type": "stream",
     "text": [
      "    4 bits KDE KLD = inf bits/sample, proxy_baseline/proxy_adj/target bias: 0.02/0.00/0.02 bits/sample (0.58/0.00 L/R missing support)\n"
     ]
    },
    {
     "name": "stderr",
     "output_type": "stream",
     "text": [
      "/tmp/ipykernel_2255281/4022667463.py:6: RuntimeWarning: overflow encountered in divide\n",
      "  result[mask] = p[mask] * np.log2(p[mask] / q[mask])\n"
     ]
    },
    {
     "name": "stdout",
     "output_type": "stream",
     "text": [
      "    6 bits KDE KLD = inf bits/sample, proxy_baseline/proxy_adj/target bias: 0.05/0.00/0.13 bits/sample (0.58/0.00 L/R missing support)\n"
     ]
    },
    {
     "name": "stderr",
     "output_type": "stream",
     "text": [
      "/tmp/ipykernel_2255281/4022667463.py:6: RuntimeWarning: overflow encountered in divide\n",
      "  result[mask] = p[mask] * np.log2(p[mask] / q[mask])\n"
     ]
    },
    {
     "name": "stdout",
     "output_type": "stream",
     "text": [
      "    8 bits KDE KLD = inf bits/sample, proxy_baseline/proxy_adj/target bias: 0.73/0.00/0.98 bits/sample (0.58/0.00 L/R missing support)\n"
     ]
    },
    {
     "name": "stderr",
     "output_type": "stream",
     "text": [
      "/tmp/ipykernel_2255281/4022667463.py:6: RuntimeWarning: overflow encountered in divide\n",
      "  result[mask] = p[mask] * np.log2(p[mask] / q[mask])\n"
     ]
    },
    {
     "name": "stdout",
     "output_type": "stream",
     "text": [
      "    10 bits KDE KLD = inf bits/sample, proxy_baseline/proxy_adj/target bias: 2.36/0.00/2.85 bits/sample (0.58/0.00 L/R missing support)\n"
     ]
    },
    {
     "name": "stderr",
     "output_type": "stream",
     "text": [
      "/tmp/ipykernel_2255281/4022667463.py:6: RuntimeWarning: overflow encountered in divide\n",
      "  result[mask] = p[mask] * np.log2(p[mask] / q[mask])\n"
     ]
    },
    {
     "name": "stdout",
     "output_type": "stream",
     "text": [
      "    12 bits KDE KLD = inf bits/sample, proxy_baseline/proxy_adj/target bias: 4.33/0.00/4.85 bits/sample (0.58/0.00 L/R missing support)\n",
      "X1 KDE fit:0.2s, X2 base KDE fit:0.0s, X2 adj. compute KLDs:6.5s\n",
      "Plot saved to KDE_fit_plots/sim_12408420_using_12347500.png\n",
      "N=3767 samples, (8.0 years)\n",
      "    4 bits KDE KLD = 2.34 bits/sample, proxy_baseline/proxy_adj/target bias: 0.25/0.06/0.01 bits/sample (0.00/0.07 L/R missing support)\n",
      "    6 bits KDE KLD = 2.27 bits/sample, proxy_baseline/proxy_adj/target bias: 1.23/0.12/0.02 bits/sample (0.00/0.07 L/R missing support)\n",
      "    8 bits KDE KLD = 2.23 bits/sample, proxy_baseline/proxy_adj/target bias: 3.05/0.15/0.07 bits/sample (0.00/0.07 L/R missing support)\n",
      "    10 bits KDE KLD = 2.18 bits/sample, proxy_baseline/proxy_adj/target bias: 5.04/0.19/0.47 bits/sample (0.00/0.07 L/R missing support)\n",
      "    12 bits KDE KLD = 2.11 bits/sample, proxy_baseline/proxy_adj/target bias: 7.04/0.25/1.98 bits/sample (0.00/0.07 L/R missing support)\n",
      "X1 KDE fit:0.2s, X2 base KDE fit:0.0s, X2 adj. compute KLDs:12.9s\n",
      "Plot saved to KDE_fit_plots/sim_12041500_using_08NJ129.png\n",
      "N=4123 samples, (11.0 years)\n",
      "    4 bits KDE KLD = 0.56 bits/sample, proxy_baseline/proxy_adj/target bias: 0.03/0.00/0.08 bits/sample (0.00/0.06 L/R missing support)\n",
      "    6 bits KDE KLD = 0.48 bits/sample, proxy_baseline/proxy_adj/target bias: 0.19/0.02/0.90 bits/sample (0.00/0.06 L/R missing support)\n",
      "    8 bits KDE KLD = 0.43 bits/sample, proxy_baseline/proxy_adj/target bias: 1.24/0.04/2.28 bits/sample (0.00/0.06 L/R missing support)\n",
      "    10 bits KDE KLD = 0.40 bits/sample, proxy_baseline/proxy_adj/target bias: 2.92/0.05/3.99 bits/sample (0.00/0.06 L/R missing support)\n",
      "    12 bits KDE KLD = 0.38 bits/sample, proxy_baseline/proxy_adj/target bias: 4.89/0.07/5.96 bits/sample (0.00/0.06 L/R missing support)\n",
      "X1 KDE fit:0.2s, X2 base KDE fit:0.0s, X2 adj. compute KLDs:10.6s\n",
      "Plot saved to KDE_fit_plots/sim_08NN020_using_08LB024.png\n",
      "N=4687 samples, (2.0 years)\n",
      "    4 bits KDE KLD = 1.04 bits/sample, proxy_baseline/proxy_adj/target bias: 0.02/0.00/0.01 bits/sample (0.00/0.00 L/R missing support)\n",
      "    6 bits KDE KLD = 1.05 bits/sample, proxy_baseline/proxy_adj/target bias: 0.31/0.00/0.02 bits/sample (0.00/0.00 L/R missing support)\n",
      "    8 bits KDE KLD = 1.05 bits/sample, proxy_baseline/proxy_adj/target bias: 1.17/0.00/0.10 bits/sample (0.00/0.00 L/R missing support)\n",
      "    10 bits KDE KLD = 1.05 bits/sample, proxy_baseline/proxy_adj/target bias: 2.75/0.00/0.89 bits/sample (0.00/0.00 L/R missing support)\n",
      "    12 bits KDE KLD = 1.05 bits/sample, proxy_baseline/proxy_adj/target bias: 4.74/0.00/2.53 bits/sample (0.00/0.00 L/R missing support)\n",
      "X1 KDE fit:0.2s, X2 base KDE fit:0.0s, X2 adj. compute KLDs:3.0s\n",
      "Plot saved to KDE_fit_plots/sim_08NL050_using_08DA012.png\n",
      "N=6984 samples, (15.0 years)\n",
      "    4 bits KDE KLD = 5.92 bits/sample, proxy_baseline/proxy_adj/target bias: 0.01/0.07/0.00 bits/sample (0.00/0.51 L/R missing support)\n",
      "    6 bits KDE KLD = 5.56 bits/sample, proxy_baseline/proxy_adj/target bias: 0.02/0.09/0.01 bits/sample (0.00/0.51 L/R missing support)\n",
      "    8 bits KDE KLD = 5.08 bits/sample, proxy_baseline/proxy_adj/target bias: 0.06/0.13/0.05 bits/sample (0.00/0.51 L/R missing support)\n",
      "    10 bits KDE KLD = 4.60 bits/sample, proxy_baseline/proxy_adj/target bias: 0.43/0.18/0.40 bits/sample (0.00/0.51 L/R missing support)\n",
      "    12 bits KDE KLD = 4.11 bits/sample, proxy_baseline/proxy_adj/target bias: 2.00/0.25/1.83 bits/sample (0.00/0.51 L/R missing support)\n",
      "X1 KDE fit:0.2s, X2 base KDE fit:0.0s, X2 adj. compute KLDs:17.9s\n",
      "Plot saved to KDE_fit_plots/sim_08MF065_using_08KF001.png\n",
      "N=9666 samples, (23.0 years)\n",
      "    4 bits KDE KLD = 0.27 bits/sample, proxy_baseline/proxy_adj/target bias: 0.02/0.00/0.01 bits/sample (0.01/0.00 L/R missing support)\n",
      "    6 bits KDE KLD = 0.19 bits/sample, proxy_baseline/proxy_adj/target bias: 0.04/0.01/0.02 bits/sample (0.01/0.00 L/R missing support)\n",
      "    8 bits KDE KLD = 0.12 bits/sample, proxy_baseline/proxy_adj/target bias: 0.09/0.02/0.05 bits/sample (0.01/0.00 L/R missing support)\n",
      "    10 bits KDE KLD = 0.08 bits/sample, proxy_baseline/proxy_adj/target bias: 0.49/0.04/0.24 bits/sample (0.01/0.00 L/R missing support)\n",
      "    12 bits KDE KLD = 0.06 bits/sample, proxy_baseline/proxy_adj/target bias: 2.07/0.07/1.42 bits/sample (0.01/0.00 L/R missing support)\n",
      "X1 KDE fit:0.2s, X2 base KDE fit:0.0s, X2 adj. compute KLDs:10.8s\n",
      "Plot saved to KDE_fit_plots/sim_10CB001_using_10BB001.png\n",
      "N=7097 samples, (18.0 years)\n",
      "    4 bits KDE KLD = 1.23 bits/sample, proxy_baseline/proxy_adj/target bias: 0.02/0.15/0.00 bits/sample (0.01/0.16 L/R missing support)\n",
      "    6 bits KDE KLD = 0.97 bits/sample, proxy_baseline/proxy_adj/target bias: 0.04/0.23/0.04 bits/sample (0.01/0.16 L/R missing support)\n",
      "    8 bits KDE KLD = 0.90 bits/sample, proxy_baseline/proxy_adj/target bias: 0.07/0.26/0.33 bits/sample (0.01/0.16 L/R missing support)\n",
      "    10 bits KDE KLD = 0.78 bits/sample, proxy_baseline/proxy_adj/target bias: 0.36/0.31/1.06 bits/sample (0.01/0.16 L/R missing support)\n",
      "    12 bits KDE KLD = 0.71 bits/sample, proxy_baseline/proxy_adj/target bias: 1.56/0.36/2.54 bits/sample (0.01/0.16 L/R missing support)\n",
      "X1 KDE fit:0.2s, X2 base KDE fit:0.0s, X2 adj. compute KLDs:17.6s\n",
      "Plot saved to KDE_fit_plots/sim_08HA070_using_07EC003.png\n",
      "N=6021 samples, (16.0 years)\n",
      "    4 bits KDE KLD = 0.46 bits/sample, proxy_baseline/proxy_adj/target bias: 0.01/0.00/0.01 bits/sample (0.00/0.00 L/R missing support)\n",
      "    6 bits KDE KLD = 0.48 bits/sample, proxy_baseline/proxy_adj/target bias: 0.04/0.00/0.03 bits/sample (0.00/0.00 L/R missing support)\n",
      "    8 bits KDE KLD = 0.48 bits/sample, proxy_baseline/proxy_adj/target bias: 0.07/0.00/0.17 bits/sample (0.00/0.00 L/R missing support)\n",
      "    10 bits KDE KLD = 0.48 bits/sample, proxy_baseline/proxy_adj/target bias: 0.40/0.00/1.51 bits/sample (0.00/0.00 L/R missing support)\n",
      "    12 bits KDE KLD = 0.48 bits/sample, proxy_baseline/proxy_adj/target bias: 1.83/0.00/3.50 bits/sample (0.00/0.00 L/R missing support)\n",
      "X1 KDE fit:0.2s, X2 base KDE fit:0.0s, X2 adj. compute KLDs:2.6s\n",
      "Plot saved to KDE_fit_plots/sim_10BE009_using_10AC004.png\n",
      "N=2891 samples, (7.0 years)\n",
      "    4 bits KDE KLD = 0.18 bits/sample, proxy_baseline/proxy_adj/target bias: 0.02/0.00/0.01 bits/sample (0.00/0.00 L/R missing support)\n",
      "    6 bits KDE KLD = 0.18 bits/sample, proxy_baseline/proxy_adj/target bias: 0.03/0.00/0.02 bits/sample (0.00/0.00 L/R missing support)\n",
      "    8 bits KDE KLD = 0.18 bits/sample, proxy_baseline/proxy_adj/target bias: 0.14/0.00/0.10 bits/sample (0.00/0.00 L/R missing support)\n",
      "    10 bits KDE KLD = 0.18 bits/sample, proxy_baseline/proxy_adj/target bias: 0.94/0.00/0.76 bits/sample (0.00/0.00 L/R missing support)\n",
      "    12 bits KDE KLD = 0.18 bits/sample, proxy_baseline/proxy_adj/target bias: 2.69/0.00/2.55 bits/sample (0.00/0.00 L/R missing support)\n",
      "X1 KDE fit:0.2s, X2 base KDE fit:0.0s, X2 adj. compute KLDs:2.9s\n",
      "Plot saved to KDE_fit_plots/sim_12182500_using_12152500.png\n",
      "N=1003 samples, (2.0 years)\n",
      "    4 bits KDE KLD = 1.14 bits/sample, proxy_baseline/proxy_adj/target bias: 0.04/0.00/0.06 bits/sample (0.00/0.05 L/R missing support)\n"
     ]
    },
    {
     "ename": "AssertionError",
     "evalue": "Adjusted proxy KDE bias DKL is negative",
     "output_type": "error",
     "traceback": [
      "\u001b[0;31m---------------------------------------------------------------------------\u001b[0m",
      "\u001b[0;31mAssertionError\u001b[0m                            Traceback (most recent call last)",
      "Cell \u001b[0;32mIn[24], line 39\u001b[0m\n\u001b[1;32m     37\u001b[0m results \u001b[38;5;241m=\u001b[39m []\n\u001b[1;32m     38\u001b[0m \u001b[38;5;28;01mfor\u001b[39;00m inp \u001b[38;5;129;01min\u001b[39;00m inputs:\n\u001b[0;32m---> 39\u001b[0m     res \u001b[38;5;241m=\u001b[39m \u001b[43mprocess_batch\u001b[49m\u001b[43m(\u001b[49m\u001b[43minp\u001b[49m\u001b[43m)\u001b[49m\n\u001b[1;32m     40\u001b[0m     \u001b[38;5;28;01mif\u001b[39;00m res \u001b[38;5;129;01mis\u001b[39;00m \u001b[38;5;129;01mnot\u001b[39;00m \u001b[38;5;28;01mNone\u001b[39;00m:\n\u001b[1;32m     41\u001b[0m         results\u001b[38;5;241m.\u001b[39mappend(res)\n",
      "Cell \u001b[0;32mIn[23], line 87\u001b[0m, in \u001b[0;36mprocess_batch\u001b[0;34m(inputs)\u001b[0m\n\u001b[1;32m     85\u001b[0m     x1, x2 \u001b[38;5;241m=\u001b[39m df[target\u001b[38;5;241m.\u001b[39mid]\u001b[38;5;241m.\u001b[39mvalues, df[target\u001b[38;5;241m.\u001b[39msim_label]\u001b[38;5;241m.\u001b[39mvalues\n\u001b[1;32m     86\u001b[0m     \u001b[38;5;66;03m# fit kde to proxy values\u001b[39;00m\n\u001b[0;32m---> 87\u001b[0m     pair_result \u001b[38;5;241m=\u001b[39m \u001b[43mkl_divergence_convergence\u001b[49m\u001b[43m(\u001b[49m\u001b[43mproxy\u001b[49m\u001b[38;5;241;43m.\u001b[39;49m\u001b[43mid\u001b[49m\u001b[43m,\u001b[49m\u001b[43m \u001b[49m\u001b[43mtarget\u001b[49m\u001b[38;5;241;43m.\u001b[39;49m\u001b[43mid\u001b[49m\u001b[43m,\u001b[49m\u001b[43m \u001b[49m\u001b[43mx1\u001b[49m\u001b[43m,\u001b[49m\u001b[43m \u001b[49m\u001b[43mx2\u001b[49m\u001b[43m,\u001b[49m\u001b[43m \u001b[49m\u001b[43mnum_complete_concurrent_years\u001b[49m\u001b[43m,\u001b[49m\u001b[43m \u001b[49m\u001b[43mbitrates\u001b[49m\u001b[43m)\u001b[49m\n\u001b[1;32m     88\u001b[0m     result\u001b[38;5;241m.\u001b[39mupdate(pair_result)\n\u001b[1;32m     90\u001b[0m \u001b[38;5;28;01mreturn\u001b[39;00m result\n",
      "Cell \u001b[0;32mIn[22], line 87\u001b[0m, in \u001b[0;36mkl_divergence_convergence\u001b[0;34m(proxy, target, x1, x2, n_complete_years, bitrates, n_resamples, epsilon, n_bins)\u001b[0m\n\u001b[1;32m     85\u001b[0m \u001b[38;5;28;01mif\u001b[39;00m \u001b[38;5;28mabs\u001b[39m(proxy_adjusted_kde_bias) \u001b[38;5;241m<\u001b[39m \u001b[38;5;241m0.0001\u001b[39m:\n\u001b[1;32m     86\u001b[0m     proxy_adjusted_kde_bias \u001b[38;5;241m=\u001b[39m \u001b[38;5;241m0\u001b[39m\n\u001b[0;32m---> 87\u001b[0m \u001b[38;5;28;01massert\u001b[39;00m proxy_adjusted_kde_bias \u001b[38;5;241m>\u001b[39m\u001b[38;5;241m=\u001b[39m \u001b[38;5;241m0\u001b[39m, \u001b[38;5;124m\"\u001b[39m\u001b[38;5;124mAdjusted proxy KDE bias DKL is negative\u001b[39m\u001b[38;5;124m\"\u001b[39m\n\u001b[1;32m     88\u001b[0m result[\u001b[38;5;124mf\u001b[39m\u001b[38;5;124m'\u001b[39m\u001b[38;5;132;01m{\u001b[39;00mb\u001b[38;5;132;01m}\u001b[39;00m\u001b[38;5;124m_bit_kde_adjusted_proxy_bias\u001b[39m\u001b[38;5;124m'\u001b[39m] \u001b[38;5;241m=\u001b[39m proxy_adjusted_kde_bias\n\u001b[1;32m     90\u001b[0m \u001b[38;5;66;03m# compute the representation bias from the discrete to baseline kde\u001b[39;00m\n",
      "\u001b[0;31mAssertionError\u001b[0m: Adjusted proxy KDE bias DKL is negative"
     ]
    }
   ],
   "source": [
    "# the 'process' variable is here so jupyter doesn't go computing \n",
    "# a million rows per iteration when the book is built for pushing to github pages.\n",
    "\n",
    "process = True\n",
    "partial_counts = False\n",
    "bitrates = [4, 6, 8, 10, 12]\n",
    "if process:\n",
    "    print(f'Processing empirical CDF pairs (partial counts={partial_counts})')\n",
    "    results_fname = f'KL_kde_fits_{revision_date}.csv'\n",
    "\n",
    "    out_fpath = os.path.join('data/', 'nonparametric_divergence_test', results_fname)\n",
    "\n",
    "    n_batches = max(len(id_pairs) // batch_size, 1)\n",
    "    batches = np.array_split(np.array(id_pairs, dtype=object), n_batches)\n",
    "    n_pairs = len(id_pairs)\n",
    "    print(f\"    Processing {n_pairs} pairs in {n_batches} batches.\")\n",
    "    batch_no = 1\n",
    "    batch_files = []\n",
    "    t0 = time()\n",
    "    # error_df = error_model_df[error_model_df['bitrate'] == bitrate].copy()\n",
    "    for batch_ids in batches:\n",
    "        print(f'Starting batch {batch_no}/{len(batches)} processing.')\n",
    "        batch_fname = results_fname.replace('.csv', f'_batch_{batch_no:04d}.csv')\n",
    "        batch_output_fpath = os.path.join(temp_dir, batch_fname)\n",
    "        print(batch_output_fpath)\n",
    "        if os.path.exists(batch_output_fpath):\n",
    "            batch_files.append(batch_output_fpath)\n",
    "            batch_no += 1\n",
    "        #     continue\n",
    "        \n",
    "        # define the input array for multiprocessing\n",
    "        inputs = input_batch_generator(bcub_gdf, batch_ids, min_years, partial_counts, bitrates)\n",
    "\n",
    "        # with mp.Pool(20) as pool:\n",
    "        #     results = pool.map(process_batch, inputs)\n",
    "        #     results = [r for r in results if r is not None]\n",
    "        results = []\n",
    "        for inp in inputs:\n",
    "            res = process_batch(inp)\n",
    "            if res is not None:\n",
    "                results.append(res)\n",
    "\n",
    "        batch_result = pd.DataFrame(results)\n",
    "        # print(batch_result)\n",
    "        # print(asdf)\n",
    "        if batch_result.empty:\n",
    "            print('Empty batch.  Skipping')\n",
    "        else:\n",
    "            batch_result.to_csv(batch_output_fpath, index=False)\n",
    "            print(f\"    Saved {len(batch_result)} new results to file.\")\n",
    "        \n",
    "        batch_files.append(batch_output_fpath)\n",
    "        t2 = time()\n",
    "        print(f'    Processed {len(batch_ids)} pairs in {t2 - t0:.1f} seconds')\n",
    "        batch_no += 1\n",
    "        \n",
    "    print(f'    Concatenating {len(batch_files)} batch files.')\n",
    "    if len(batch_files) > 0:\n",
    "        all_results = pd.concat([pd.read_csv(f, engine='pyarrow') for f in batch_files], axis=0)\n",
    "        all_results.to_csv(out_fpath, index=False)\n",
    "        if os.path.exists(out_fpath):\n",
    "            for f in batch_files:\n",
    "                os.remove(f)\n",
    "        print(f'    Wrote {len(all_results)} results to {out_fpath}')\n",
    "    else:\n",
    "        print('    No new results to write to file.')"
   ]
  },
  {
   "cell_type": "code",
   "execution_count": null,
   "id": "b2823b4a-45f5-4db3-b699-cc276dce8acd",
   "metadata": {},
   "outputs": [],
   "source": [
    "result_df = pd.read_csv('data/parametric_divergence_test/KL_parametric_fits_4bits_20241125.csv')\n",
    "# print(len(result_df))\n",
    "# foo = result_df.copy()\n",
    "# foo.dropna(subset=['kld_lb'], inplace=True)\n",
    "# foo['kld_ci_range'] = foo['kld_ub'] - foo['kld_lb']\n",
    "# print(foo['kld_ci_range'].max())\n",
    "# foo.head()"
   ]
  },
  {
   "cell_type": "code",
   "execution_count": null,
   "id": "53a08a6e-1ac8-4820-adcc-de3776ff696a",
   "metadata": {},
   "outputs": [],
   "source": [
    "foo = foo.sort_values('num_concurrent_obs').reset_index(drop=True)\n",
    "bin_size = int(len(foo) / 50)\n",
    "print(f'{bin_size} samples per bin')\n",
    "foo['bin'] = foo.index // bin_size\n",
    "foo['n_years'] = foo['num_concurrent_obs'] / 365.24\n",
    "\n",
    "bin_data = []\n",
    "for i in sorted(list(set(foo['bin'].values))):\n",
    "    data = foo[foo['bin'] == i].copy()\n",
    "    vals = data['kld_ci_range'].values\n",
    "    sample_size = data['n_years'].values\n",
    "    bin_data.append([np.median(sample_size)] + np.percentile(vals, [2.5, 25, 50, 75, 95]).tolist())   \n",
    "    \n",
    "bdf = pd.DataFrame(bin_data, columns=['N', 'lb', '25', 'median', '75', 'ub'])\n",
    "# grouped['bin_center'] = foo.groupby('bin')['num_concurrent_obs'].median().values\n",
    "\n",
    "p = figure(width=600, height=400, x_axis_type='log')\n",
    "p.varea(x=bdf['N'], y1=bdf['lb'], y2=bdf['ub'], legend_label='95% CI', fill_alpha=0.4, color='grey')\n",
    "p.varea(x=bdf['N'], y1=bdf['25'], y2=bdf['75'], legend_label='IQR', fill_alpha=0.4, color='black')\n",
    "p.line(bdf['N'], y=bdf['median'], legend_label='Median', line_width=2, color='red', line_dash='solid')\n",
    "p.xaxis.axis_label = \"Concurrent Record Length [years]\"\n",
    "p.yaxis.axis_label = r\"$$95\\% \\text{ CI } \\hat D_\\text{KL}(P||Q)$$\"\n",
    "p = dpf.format_fig_fonts(p, font_size=16)\n",
    "show(p)"
   ]
  },
  {
   "cell_type": "markdown",
   "id": "eb1cc19d-3015-44d0-963c-9bb5ba5c7ede",
   "metadata": {},
   "source": [
    "The plot above describes how the (bootstrapped) uncertainty of the KL divergence estimate decreases with sample size.  The series are computed on record length intervals determined by equal sample size, approximately 6000 samples per interval.  "
   ]
  },
  {
   "cell_type": "markdown",
   "id": "750dc097-f66b-43af-8847-d817666884ae",
   "metadata": {},
   "source": [
    "## Code Graveyard"
   ]
  },
  {
   "cell_type": "code",
   "execution_count": null,
   "id": "6148e793-5dd7-45d4-9f2e-5acb110bfd9e",
   "metadata": {},
   "outputs": [],
   "source": [
    "    # Evaluate KDE on grid points for each sample set\n",
    "def kde_per_row(row, bw):\n",
    "    # Compute Gaussian kernel values for each grid point\n",
    "    kernels = norm.pdf((grid_points[:, None] - row) / bw)\n",
    "    return jnp.mean(kernels, axis=1) / bw\n",
    "\n",
    "def kde_fit_per_row(row, bw):    \n",
    "    # Vectorized computation across all rows\n",
    "    kde_values = jax.vmap(kde_per_row)(samples, bandwidth)"
   ]
  },
  {
   "cell_type": "code",
   "execution_count": null,
   "id": "da295df2-e53b-43d6-92b2-f8bfbd936167",
   "metadata": {},
   "outputs": [],
   "source": [
    "def assert_alignment(a, b):\n",
    "    # Define a mask for valid kde_density values\n",
    "    valid_mask_1 = ~jnp.isnan(a)\n",
    "    \n",
    "    # Define a mask for valid x1_diffs values\n",
    "    valid_mask_2 = ~jnp.isnan(b)\n",
    "    \n",
    "    # Assert that wherever kde_density is valid, x1_diffs is also valid\n",
    "    assert jnp.all(jnp.logical_not(valid_mask_1) | valid_mask_2), (\n",
    "        \"x1_diffs contains invalid (NaN) values where kde_density is valid.\"\n",
    "    )"
   ]
  },
  {
   "cell_type": "code",
   "execution_count": null,
   "id": "74a89d2b-0b96-480d-99f0-aaad4b71a2e1",
   "metadata": {},
   "outputs": [],
   "source": [
    "def justify(a, invalid_val=np.nan, axis=1, side='right'):    \n",
    "    \"\"\"\n",
    "    Justifies a 2D array\n",
    "\n",
    "    Parameters\n",
    "    ----------\n",
    "    A : ndarray\n",
    "        Input array to be justified\n",
    "    axis : int\n",
    "        Axis along which justification is to be made\n",
    "    side : str\n",
    "        Direction of justification. It could be 'left', 'right', 'up', 'down'\n",
    "        It should be 'left' or 'right' for axis=1 and 'up' or 'down' for axis=0.\n",
    "    \"\"\"\n",
    "\n",
    "    if invalid_val is np.nan:\n",
    "        mask = ~np.isnan(a)\n",
    "    else:\n",
    "        mask = a!=invalid_val\n",
    "    justified_mask = np.sort(mask,axis=axis)\n",
    "    if (side=='up') | (side=='left'):\n",
    "        justified_mask = np.flip(justified_mask,axis=axis)\n",
    "    out = np.full(a.shape, invalid_val) \n",
    "    if axis==1:\n",
    "        out[justified_mask] = a[mask]\n",
    "    else:\n",
    "        out.T[justified_mask.T] = a.T[mask.T]\n",
    "    return out\n",
    "\n",
    "\n",
    "def compute_adjusted_cdf_and_density(data):\n",
    "    \"\"\"\n",
    "    Compute adjusted CDF and density for each row of a 2D array using JAX.\n",
    "\n",
    "    Args:\n",
    "        data: 2D JAX array, where each row represents a sample set.\n",
    "\n",
    "    Returns:\n",
    "        adjusted_cdfs: 2D array of adjusted CDFs, padded with NaN where necessary.\n",
    "        adjusted_densities: 2D array of adjusted densities, padded with NaN where necessary.\n",
    "        unique_vals: 2D array of unique values per row, padded with NaN where necessary.\n",
    "    \"\"\"\n",
    "   # Sort rows and handle NaNs by sorting them to the end\n",
    "    sorted_data = jnp.sort(data, axis=1)\n",
    "\n",
    "    # Count consecutive duplicates to determine unique values and counts\n",
    "    diffs = jnp.diff(sorted_data, axis=1, prepend=0)\n",
    "    unique_mask = diffs != 0  # Marks unique values in each row\n",
    "\n",
    "    # Create unique values and compute their counts\n",
    "    unique_vals = jnp.where(unique_mask, sorted_data, jnp.nan)\n",
    "    counts_per_row = jnp.sum(unique_mask, axis=1, keepdims=True)\n",
    "\n",
    "    # Compute cumulative counts for unique values only\n",
    "    adjusted_cdf = jnp.where(\n",
    "        unique_mask,\n",
    "        jnp.cumsum(unique_mask / counts_per_row, axis=1),\n",
    "        jnp.nan\n",
    "    )\n",
    "\n",
    "    sorted_cdf = justify(adjusted_cdf, side='left')\n",
    "    sorted_unique = justify(unique_vals, side='left')\n",
    "\n",
    "    # Compute the density (difference of CDF)\n",
    "    density = jnp.diff(jnp.concatenate([jnp.zeros_like(sorted_cdf[:, :1]), sorted_cdf], axis=1), axis=1)    \n",
    "\n",
    "    return sorted_cdf, density, sorted_unique"
   ]
  },
  {
   "cell_type": "code",
   "execution_count": null,
   "id": "795fbaf7-745a-4327-925e-1403dd01c8f1",
   "metadata": {},
   "outputs": [],
   "source": []
  },
  {
   "cell_type": "markdown",
   "id": "02c61f5c-5df5-41f5-908b-b81fac43ea1f",
   "metadata": {},
   "source": [
    "## Citations\n",
    "\n",
    "```{bibliography}\n",
    ":filter: docname in docnames\n",
    "```"
   ]
  },
  {
   "cell_type": "code",
   "execution_count": null,
   "id": "34fba3f6-1ebe-4159-a9a7-b367bc82dbdf",
   "metadata": {},
   "outputs": [],
   "source": []
  }
 ],
 "metadata": {
  "kernelspec": {
   "display_name": "Python 3 (ipykernel)",
   "language": "python",
   "name": "python3"
  },
  "language_info": {
   "codemirror_mode": {
    "name": "ipython",
    "version": 3
   },
   "file_extension": ".py",
   "mimetype": "text/x-python",
   "name": "python",
   "nbconvert_exporter": "python",
   "pygments_lexer": "ipython3",
   "version": "3.10.12"
  }
 },
 "nbformat": 4,
 "nbformat_minor": 5
}
